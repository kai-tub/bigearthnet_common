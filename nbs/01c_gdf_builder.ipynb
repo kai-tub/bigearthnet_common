{
 "cells": [
  {
   "cell_type": "code",
   "execution_count": null,
   "metadata": {},
   "outputs": [],
   "source": [
    "# default_exp gdf_builder\n"
   ]
  },
  {
   "cell_type": "code",
   "execution_count": null,
   "metadata": {},
   "outputs": [],
   "source": [
    "# hide\n",
    "%load_ext autoreload\n",
    "%autoreload 2"
   ]
  },
  {
   "cell_type": "markdown",
   "metadata": {},
   "source": [
    "# BigEarthNet GeoDataFrame Builder\n",
    "> Tools to efficiently build geopandas.GeoDataFrame's from BigEarthNet data."
   ]
  },
  {
   "cell_type": "code",
   "execution_count": null,
   "metadata": {},
   "outputs": [],
   "source": [
    "# export\n",
    "import enum\n",
    "from pathlib import Path\n",
    "from typing import List, Union, Callable, Tuple\n",
    "from numbers import Real\n",
    "\n",
    "\n",
    "from fastcore.basics import compose\n",
    "import fastcore.all as fc\n",
    "import geopandas\n",
    "import pandas as pd\n",
    "import rich.traceback\n",
    "import typer\n",
    "from pydantic import DirectoryPath, FilePath, PositiveInt, conint, validate_arguments\n",
    "from rich.progress import Progress, SpinnerColumn, TextColumn, TimeElapsedColumn\n",
    "from shapely.geometry import LineString, Point, Polygon, box\n",
    "\n",
    "from bigearthnet_common.base import (\n",
    "    _download_and_cache_url,\n",
    "    read_S2_json,\n",
    "    read_S1_json,\n",
    "    parse_datetime,\n",
    "    get_s1_patch_directories,\n",
    "    get_s2_patch_directories\n",
    ")\n",
    "from bigearthnet_common.constants import COUNTRIES, COUNTRIES_ISO_A2\n",
    "\n",
    "rich.traceback.install(show_locals=True)\n",
    "\n",
    "COUNTRIES_URL = \"https://www.naturalearthdata.com/http//www.naturalearthdata.com/download/10m/cultural/ne_10m_admin_0_countries.zip\"\n"
   ]
  },
  {
   "cell_type": "code",
   "execution_count": null,
   "metadata": {},
   "outputs": [],
   "source": [
    "# hide\n",
    "test_dataset = Path(\"./datasets/tiny/\").expanduser().resolve(strict=True)\n",
    "test_folder = test_dataset / \"S2A_MSIL2A_20170617T113321_4_55/\"\n",
    "test_image = test_folder / \"S2A_MSIL2A_20170617T113321_4_55_B08.tif\"\n",
    "# test_gdf_path = (test_dataset / \"tiny.parquet\").resolve(strict=True)\n",
    "# Want json with multiple labels!\n",
    "test_json = (\n",
    "    test_dataset\n",
    "    / \"S2A_MSIL2A_20170617T113321_36_85\"\n",
    "    / \"S2A_MSIL2A_20170617T113321_36_85_labels_metadata.json\"\n",
    ")\n",
    "test_json_single_label = (\n",
    "    test_folder / \"S2A_MSIL2A_20170617T113321_4_55_labels_metadata.json\"\n",
    ")\n",
    "\n",
    "# S1A_IW_GRDH_1SDV_20170613T165043_33UUP_61_39\n",
    "s1_test_dataset = Path(\"./datasets/s1-tiny/\").expanduser().resolve(strict=True)\n",
    "s1_test_folder = s1_test_dataset / \"S1A_IW_GRDH_1SDV_20170613T165043_33UUP_61_39\"\n",
    "s1_test_image = s1_test_folder / \"S1A_IW_GRDH_1SDV_20170613T165043_33UUP_61_39_VH.tif\"\n",
    "# test_gdf_path = (test_dataset / \"tiny.parquet\").resolve(strict=True)\n",
    "# Want json with multiple labels!\n",
    "s1_test_json = (\n",
    "    s1_test_dataset\n",
    "    / \"S1A_IW_GRDH_1SDV_20170613T165043_33UUP_61_39\"\n",
    "    / \"S1A_IW_GRDH_1SDV_20170613T165043_33UUP_61_39_labels_metadata.json\"\n",
    ")\n"
   ]
  },
  {
   "cell_type": "markdown",
   "metadata": {},
   "source": [
    "## Geometry utils"
   ]
  },
  {
   "cell_type": "code",
   "execution_count": null,
   "metadata": {},
   "outputs": [],
   "source": [
    "# export\n",
    "def _get_box_from_two_coords(p1: Tuple[Real, Real], p2: Tuple[Real, Real]) -> Polygon:\n",
    "    \"\"\"\n",
    "    Get the polygon that bounds the two coordinates.\n",
    "    These values should be supplied as numerical values.\n",
    "    \"\"\"\n",
    "    get_bounds = lambda geom: geom.bounds\n",
    "    box_from_bounds = lambda bounds: box(*bounds)\n",
    "    return compose(LineString, get_bounds, box_from_bounds)([p1, p2])"
   ]
  },
  {
   "cell_type": "code",
   "execution_count": null,
   "metadata": {},
   "outputs": [],
   "source": [
    "# hide\n",
    "box1 = _get_box_from_two_coords([0, 0], [2, 2])\n",
    "box2 = _get_box_from_two_coords([2, 2], [0, 0])\n",
    "box3 = _get_box_from_two_coords([0, 2], [2, 0])\n",
    "fc.test_eq(box1, box2)\n",
    "fc.test_eq(box1, box3)"
   ]
  },
  {
   "cell_type": "code",
   "execution_count": null,
   "metadata": {},
   "outputs": [],
   "source": [
    "# export\n",
    "def box_from_ul_lr_coords(ulx: Real, uly: Real, lrx: Real, lry: Real) -> Polygon:\n",
    "    \"\"\"\n",
    "    Build a box (`Polygon`) from upper left x/y and lower right x/y coordinates.\n",
    "\n",
    "    This specification is the default BigEarthNet style.\n",
    "    \"\"\"\n",
    "    return _get_box_from_two_coords([ulx, uly], [lrx, lry])"
   ]
  },
  {
   "cell_type": "code",
   "execution_count": null,
   "metadata": {},
   "outputs": [],
   "source": [
    "b1 = box_from_ul_lr_coords(ulx=0, uly=4, lrx=4, lry=0)\n",
    "b2 = Polygon([[0, 0], [0, 4], [4, 4], [4, 0], [0, 0]])\n",
    "assert isinstance(b1, Polygon)\n",
    "assert b1.equals(b2)"
   ]
  },
  {
   "cell_type": "code",
   "execution_count": null,
   "metadata": {},
   "outputs": [],
   "source": [
    "# hide\n",
    "# example of how to use geopandas to read in weirdly shaped data\n",
    "import geopandas\n",
    "from shapely.geometry import box, Point\n",
    "\n",
    "# CRS with easting/northing input, i.e. no input axis-swap required\n",
    "wkt_crs = 'PROJCS[\"WGS 84 / UTM zone 34N\",GEOGCS[\"WGS 84\",DATUM[\"WGS_1984\",SPHEROID[\"WGS 84\",6378137,298.257223563,AUTHORITY[\"EPSG\",\"7030\"]],AUTHORITY[\"EPSG\",\"6326\"]],PRIMEM[\"Greenwich\",0,AUTHORITY[\"EPSG\",\"8901\"]],UNIT[\"degree\",0.0174532925199433,AUTHORITY[\"EPSG\",\"9122\"]],AXIS[\"Latitude\",NORTH],AXIS[\"Longitude\",EAST],AUTHORITY[\"EPSG\",\"4326\"]],PROJECTION[\"Transverse_Mercator\"],PARAMETER[\"latitude_of_origin\",0],PARAMETER[\"central_meridian\",21],PARAMETER[\"scale_factor\",0.9996],PARAMETER[\"false_easting\",500000],PARAMETER[\"false_northing\",0],UNIT[\"metre\",1,AUTHORITY[\"EPSG\",\"9001\"]],AXIS[\"Easting\",EAST],AXIS[\"Northing\",NORTH],AUTHORITY[\"EPSG\",\"32634\"]]'\n",
    "x1, y1, x2, y2 = 499980, 7046040, 501180, 7044840\n",
    "shapes = [_get_box_from_two_coords([x1, y1], [x2, y2])]\n",
    "\n",
    "s = geopandas.GeoSeries(shapes, crs=wkt_crs)\n",
    "assert s.is_valid.all()"
   ]
  },
  {
   "cell_type": "code",
   "execution_count": null,
   "metadata": {},
   "outputs": [],
   "source": [
    "# hide\n",
    "\n",
    "# crs with northing/easting input, i.e. input axis-swap required\n",
    "north_east_crs = \"epsg:2953\"\n",
    "enc_point = Point(1099489.55, 9665176.75)\n",
    "tfm_points = geopandas.GeoSeries([enc_point], crs=north_east_crs).to_crs(epsg=\"4326\")\n",
    "long, lat = tfm_points.x[0], tfm_points.y[0]\n",
    "\n",
    "# _golden values_ from http://epsg.io/\n",
    "# http://epsg.io/transform#s_srs=2953&t_srs=4326&x=1099489.55&y=9665176.75\n",
    "ref_long, ref_lat = (-94.375, 63.25)\n",
    "fc.test_close([long, lat], [ref_long, ref_lat], eps=0.1)"
   ]
  },
  {
   "cell_type": "markdown",
   "metadata": {},
   "source": [
    "## GDF Builder"
   ]
  },
  {
   "cell_type": "code",
   "execution_count": null,
   "metadata": {},
   "outputs": [],
   "source": [
    "# export\n",
    "@validate_arguments\n",
    "def ben_s2_patch_to_gdf(\n",
    "    patch_path: Union[FilePath, DirectoryPath]\n",
    ") -> geopandas.GeoDataFrame:\n",
    "    \"\"\"\n",
    "    Given the filepath to a BigEarthNet json `_metadata_labels` file, or\n",
    "    to the containing patch folder, the function will return a single row GeoDataFrame.\n",
    "\n",
    "    The filepath is necessary, as only the filename contains the patch name.\n",
    "\n",
    "    The datetime will be parsed with best effort and guaranteed to be in the format\n",
    "    'YYYY-MM-DD hh-mm-ss' (different to BEN-S1!)\n",
    "\n",
    "    The coordinates that indicate the upper-left-x/y and lower-right-x/y will be converted\n",
    "    into a `shapely.Polygon`.\n",
    "\n",
    "    The coordinate reference system (CRS) will be equivalent to the one given in the json file.\n",
    "    Or with other words, the data is not reprojected!\n",
    "    \"\"\"\n",
    "    json_path = (\n",
    "        patch_path\n",
    "        if patch_path.is_file()\n",
    "        else patch_path / f\"{patch_path.name}_labels_metadata.json\"\n",
    "    )\n",
    "    \n",
    "    data = read_S2_json(json_path)\n",
    "    data[\"name\"] = json_path.stem.rstrip(\"_labels_metadata\")\n",
    "    data[\"acquisition_date\"] = parse_datetime(data[\"acquisition_date\"]).strftime(\n",
    "        \"%Y-%m-%d %H:%M:%S\"\n",
    "    )\n",
    "    data[\"geometry\"] = box_from_ul_lr_coords(**data.pop(\"coordinates\"))\n",
    "    data[\"labels\"] = [data[\"labels\"]]\n",
    "    crs = data.pop(\"projection\")\n",
    "    return geopandas.GeoDataFrame(data, crs=crs)\n",
    "\n",
    "\n",
    "@validate_arguments\n",
    "def ben_s1_patch_to_gdf(\n",
    "    patch_path: Union[FilePath, DirectoryPath]\n",
    ") -> geopandas.GeoDataFrame:\n",
    "    \"\"\"\n",
    "    Given the filepath to a BigEarthNet json `_metadata_labels` file, or\n",
    "    to the containing patch folder, the function will return a single row GeoDataFrame.\n",
    "\n",
    "    The filepath is necessary, as only the filename contains the patch name.\n",
    "\n",
    "    The datetime will be parsed with best effort and guaranteed to be in the format\n",
    "    'YYYY-MM-DDThh-mm-ss' (different to Ben-S2!)\n",
    "\n",
    "    The coordinates that indicate the upper-left-x/y and lower-right-x/y will be converted\n",
    "    into a `shapely.Polygon`.\n",
    "\n",
    "    The coordinate reference system (CRS) will be equivalent to the one given in the json file.\n",
    "    Or with other words, the data is not reprojected!\n",
    "    \"\"\"\n",
    "    json_path = (\n",
    "        patch_path\n",
    "        if patch_path.is_file()\n",
    "        else patch_path / f\"{patch_path.name}_labels_metadata.json\"\n",
    "    )\n",
    "    \n",
    "    data = read_S1_json(json_path)\n",
    "    data[\"name\"] = json_path.stem.rstrip(\"_labels_metadata\")\n",
    "    data[\"acquisition_time\"] = parse_datetime(data[\"acquisition_time\"]).strftime(\n",
    "        \"%Y-%m-%dT%H:%M:%S\"\n",
    "    )\n",
    "\n",
    "    data[\"geometry\"] = box_from_ul_lr_coords(**data.pop(\"coordinates\"))\n",
    "    data[\"labels\"] = [data[\"labels\"]]\n",
    "    crs = data.pop(\"projection\")\n",
    "    return geopandas.GeoDataFrame(data, crs=crs)\n",
    "\n",
    "\n",
    "def ben_s2_patch_to_reprojected_gdf(\n",
    "    patch_path: Union[FilePath, DirectoryPath], target_proj: str = \"epsg:4326\"\n",
    ") -> geopandas.GeoDataFrame:\n",
    "    \"\"\"\n",
    "    Calls `ben_s2_patch_to_gdf` and simply reprojects the resulting GeoDataFrame afterwards to the\n",
    "    given `target_proj`.\n",
    "\n",
    "    This is a tiny wrapper to ensure that the generated BEN GeoDataFrame's can be concatenated and have a\n",
    "    common coordinate reference system.\n",
    "\n",
    "    See `ben_s2_patch_to_gdf` for more details.\n",
    "    \"\"\"\n",
    "    return ben_s2_patch_to_gdf(patch_path).to_crs(target_proj)\n",
    "\n",
    "def ben_s1_patch_to_reprojected_gdf(\n",
    "    patch_path: Union[FilePath, DirectoryPath], target_proj: str = \"epsg:4326\"\n",
    ") -> geopandas.GeoDataFrame:\n",
    "    \"\"\"\n",
    "    Calls `ben_s1_patch_to_gdf` and simply reprojects the resulting GeoDataFrame afterwards to the\n",
    "    given `target_proj`.\n",
    "\n",
    "    This is a tiny wrapper to ensure that the generated BEN GeoDataFrame's can be concatenated and have a\n",
    "    common coordinate reference system.\n",
    "\n",
    "    See `ben_s1_patch_to_gdf` for more details.\n",
    "    \"\"\"\n",
    "    return ben_s1_patch_to_gdf(patch_path).to_crs(target_proj)\n"
   ]
  },
  {
   "cell_type": "code",
   "execution_count": null,
   "metadata": {},
   "outputs": [
    {
     "data": {
      "text/html": [
       "<div>\n",
       "<style scoped>\n",
       "    .dataframe tbody tr th:only-of-type {\n",
       "        vertical-align: middle;\n",
       "    }\n",
       "\n",
       "    .dataframe tbody tr th {\n",
       "        vertical-align: top;\n",
       "    }\n",
       "\n",
       "    .dataframe thead th {\n",
       "        text-align: right;\n",
       "    }\n",
       "</style>\n",
       "<table border=\"1\" class=\"dataframe\">\n",
       "  <thead>\n",
       "    <tr style=\"text-align: right;\">\n",
       "      <th></th>\n",
       "      <th>labels</th>\n",
       "      <th>tile_source</th>\n",
       "      <th>acquisition_date</th>\n",
       "      <th>name</th>\n",
       "      <th>geometry</th>\n",
       "    </tr>\n",
       "  </thead>\n",
       "  <tbody>\n",
       "    <tr>\n",
       "      <th>0</th>\n",
       "      <td>[Non-irrigated arable land, Pastures]</td>\n",
       "      <td>S2A_MSIL1C_20170617T113321_N0205_R080_T29UPU_2...</td>\n",
       "      <td>2017-06-17 11:33:21</td>\n",
       "      <td>S2A_MSIL2A_20170617T113321_36_85</td>\n",
       "      <td>POLYGON ((644400.000 5796840.000, 644400.000 5...</td>\n",
       "    </tr>\n",
       "  </tbody>\n",
       "</table>\n",
       "</div>"
      ],
      "text/plain": [
       "                                  labels  \\\n",
       "0  [Non-irrigated arable land, Pastures]   \n",
       "\n",
       "                                         tile_source     acquisition_date  \\\n",
       "0  S2A_MSIL1C_20170617T113321_N0205_R080_T29UPU_2...  2017-06-17 11:33:21   \n",
       "\n",
       "                               name  \\\n",
       "0  S2A_MSIL2A_20170617T113321_36_85   \n",
       "\n",
       "                                            geometry  \n",
       "0  POLYGON ((644400.000 5796840.000, 644400.000 5...  "
      ]
     },
     "execution_count": null,
     "metadata": {},
     "output_type": "execute_result"
    }
   ],
   "source": [
    "gdf = ben_s2_patch_to_gdf(test_json)\n",
    "gdf\n"
   ]
  },
  {
   "cell_type": "code",
   "execution_count": null,
   "metadata": {},
   "outputs": [],
   "source": [
    "# hide\n",
    "import geopandas.testing\n",
    "\n",
    "gdf2 = ben_s2_patch_to_gdf(test_json.parent)\n",
    "\n",
    "geopandas.testing.assert_geoseries_equal(gdf.geometry, gdf2.geometry)\n",
    "geopandas.testing.assert_geodataframe_equal(gdf, gdf2)\n"
   ]
  },
  {
   "cell_type": "markdown",
   "metadata": {},
   "source": [
    "`geopandas` allows for very easy location visualization for a couple of geometries:"
   ]
  },
  {
   "cell_type": "code",
   "execution_count": null,
   "metadata": {},
   "outputs": [
    {
     "data": {
      "text/html": [
       "<div style=\"width:100%;\"><div style=\"position:relative;width:100%;height:0;padding-bottom:60%;\"><span style=\"color:#565656\">Make this Notebook Trusted to load map: File -> Trust Notebook</span><iframe src=\"about:blank\" style=\"position:absolute;width:100%;height:100%;left:0;top:0;border:none !important;\" data-html=%3C%21DOCTYPE%20html%3E%0A%3Chead%3E%20%20%20%20%0A%20%20%20%20%3Cmeta%20http-equiv%3D%22content-type%22%20content%3D%22text/html%3B%20charset%3DUTF-8%22%20/%3E%0A%20%20%20%20%0A%20%20%20%20%20%20%20%20%3Cscript%3E%0A%20%20%20%20%20%20%20%20%20%20%20%20L_NO_TOUCH%20%3D%20false%3B%0A%20%20%20%20%20%20%20%20%20%20%20%20L_DISABLE_3D%20%3D%20false%3B%0A%20%20%20%20%20%20%20%20%3C/script%3E%0A%20%20%20%20%0A%20%20%20%20%3Cstyle%3Ehtml%2C%20body%20%7Bwidth%3A%20100%25%3Bheight%3A%20100%25%3Bmargin%3A%200%3Bpadding%3A%200%3B%7D%3C/style%3E%0A%20%20%20%20%3Cstyle%3E%23map%20%7Bposition%3Aabsolute%3Btop%3A0%3Bbottom%3A0%3Bright%3A0%3Bleft%3A0%3B%7D%3C/style%3E%0A%20%20%20%20%3Cscript%20src%3D%22https%3A//cdn.jsdelivr.net/npm/leaflet%401.6.0/dist/leaflet.js%22%3E%3C/script%3E%0A%20%20%20%20%3Cscript%20src%3D%22https%3A//code.jquery.com/jquery-1.12.4.min.js%22%3E%3C/script%3E%0A%20%20%20%20%3Cscript%20src%3D%22https%3A//maxcdn.bootstrapcdn.com/bootstrap/3.2.0/js/bootstrap.min.js%22%3E%3C/script%3E%0A%20%20%20%20%3Cscript%20src%3D%22https%3A//cdnjs.cloudflare.com/ajax/libs/Leaflet.awesome-markers/2.0.2/leaflet.awesome-markers.js%22%3E%3C/script%3E%0A%20%20%20%20%3Clink%20rel%3D%22stylesheet%22%20href%3D%22https%3A//cdn.jsdelivr.net/npm/leaflet%401.6.0/dist/leaflet.css%22/%3E%0A%20%20%20%20%3Clink%20rel%3D%22stylesheet%22%20href%3D%22https%3A//maxcdn.bootstrapcdn.com/bootstrap/3.2.0/css/bootstrap.min.css%22/%3E%0A%20%20%20%20%3Clink%20rel%3D%22stylesheet%22%20href%3D%22https%3A//maxcdn.bootstrapcdn.com/bootstrap/3.2.0/css/bootstrap-theme.min.css%22/%3E%0A%20%20%20%20%3Clink%20rel%3D%22stylesheet%22%20href%3D%22https%3A//maxcdn.bootstrapcdn.com/font-awesome/4.6.3/css/font-awesome.min.css%22/%3E%0A%20%20%20%20%3Clink%20rel%3D%22stylesheet%22%20href%3D%22https%3A//cdnjs.cloudflare.com/ajax/libs/Leaflet.awesome-markers/2.0.2/leaflet.awesome-markers.css%22/%3E%0A%20%20%20%20%3Clink%20rel%3D%22stylesheet%22%20href%3D%22https%3A//cdn.jsdelivr.net/gh/python-visualization/folium/folium/templates/leaflet.awesome.rotate.min.css%22/%3E%0A%20%20%20%20%0A%20%20%20%20%20%20%20%20%20%20%20%20%3Cmeta%20name%3D%22viewport%22%20content%3D%22width%3Ddevice-width%2C%0A%20%20%20%20%20%20%20%20%20%20%20%20%20%20%20%20initial-scale%3D1.0%2C%20maximum-scale%3D1.0%2C%20user-scalable%3Dno%22%20/%3E%0A%20%20%20%20%20%20%20%20%20%20%20%20%3Cstyle%3E%0A%20%20%20%20%20%20%20%20%20%20%20%20%20%20%20%20%23map_fb55dbb4d8d042769af3ca31d61ba8ad%20%7B%0A%20%20%20%20%20%20%20%20%20%20%20%20%20%20%20%20%20%20%20%20position%3A%20relative%3B%0A%20%20%20%20%20%20%20%20%20%20%20%20%20%20%20%20%20%20%20%20width%3A%20100.0%25%3B%0A%20%20%20%20%20%20%20%20%20%20%20%20%20%20%20%20%20%20%20%20height%3A%20100.0%25%3B%0A%20%20%20%20%20%20%20%20%20%20%20%20%20%20%20%20%20%20%20%20left%3A%200.0%25%3B%0A%20%20%20%20%20%20%20%20%20%20%20%20%20%20%20%20%20%20%20%20top%3A%200.0%25%3B%0A%20%20%20%20%20%20%20%20%20%20%20%20%20%20%20%20%7D%0A%20%20%20%20%20%20%20%20%20%20%20%20%3C/style%3E%0A%20%20%20%20%20%20%20%20%0A%20%20%20%20%0A%20%20%20%20%20%20%20%20%20%20%20%20%20%20%20%20%20%20%20%20%3Cstyle%3E%0A%20%20%20%20%20%20%20%20%20%20%20%20%20%20%20%20%20%20%20%20%20%20%20%20.foliumtooltip%20%7B%0A%20%20%20%20%20%20%20%20%20%20%20%20%20%20%20%20%20%20%20%20%20%20%20%20%20%20%20%20%0A%20%20%20%20%20%20%20%20%20%20%20%20%20%20%20%20%20%20%20%20%20%20%20%20%7D%0A%20%20%20%20%20%20%20%20%20%20%20%20%20%20%20%20%20%20%20%20%20%20%20.foliumtooltip%20table%7B%0A%20%20%20%20%20%20%20%20%20%20%20%20%20%20%20%20%20%20%20%20%20%20%20%20%20%20%20%20margin%3A%20auto%3B%0A%20%20%20%20%20%20%20%20%20%20%20%20%20%20%20%20%20%20%20%20%20%20%20%20%7D%0A%20%20%20%20%20%20%20%20%20%20%20%20%20%20%20%20%20%20%20%20%20%20%20%20.foliumtooltip%20tr%7B%0A%20%20%20%20%20%20%20%20%20%20%20%20%20%20%20%20%20%20%20%20%20%20%20%20%20%20%20%20text-align%3A%20left%3B%0A%20%20%20%20%20%20%20%20%20%20%20%20%20%20%20%20%20%20%20%20%20%20%20%20%7D%0A%20%20%20%20%20%20%20%20%20%20%20%20%20%20%20%20%20%20%20%20%20%20%20%20.foliumtooltip%20th%7B%0A%20%20%20%20%20%20%20%20%20%20%20%20%20%20%20%20%20%20%20%20%20%20%20%20%20%20%20%20padding%3A%202px%3B%20padding-right%3A%208px%3B%0A%20%20%20%20%20%20%20%20%20%20%20%20%20%20%20%20%20%20%20%20%20%20%20%20%7D%0A%20%20%20%20%20%20%20%20%20%20%20%20%20%20%20%20%20%20%20%20%3C/style%3E%0A%20%20%20%20%20%20%20%20%20%20%20%20%0A%3C/head%3E%0A%3Cbody%3E%20%20%20%20%0A%20%20%20%20%0A%20%20%20%20%20%20%20%20%20%20%20%20%3Cdiv%20class%3D%22folium-map%22%20id%3D%22map_fb55dbb4d8d042769af3ca31d61ba8ad%22%20%3E%3C/div%3E%0A%20%20%20%20%20%20%20%20%0A%3C/body%3E%0A%3Cscript%3E%20%20%20%20%0A%20%20%20%20%0A%20%20%20%20%20%20%20%20%20%20%20%20var%20map_fb55dbb4d8d042769af3ca31d61ba8ad%20%3D%20L.map%28%0A%20%20%20%20%20%20%20%20%20%20%20%20%20%20%20%20%22map_fb55dbb4d8d042769af3ca31d61ba8ad%22%2C%0A%20%20%20%20%20%20%20%20%20%20%20%20%20%20%20%20%7B%0A%20%20%20%20%20%20%20%20%20%20%20%20%20%20%20%20%20%20%20%20center%3A%20%5B52.30844257308861%2C%20-6.890685612519352%5D%2C%0A%20%20%20%20%20%20%20%20%20%20%20%20%20%20%20%20%20%20%20%20crs%3A%20L.CRS.EPSG3857%2C%0A%20%20%20%20%20%20%20%20%20%20%20%20%20%20%20%20%20%20%20%20zoom%3A%2010%2C%0A%20%20%20%20%20%20%20%20%20%20%20%20%20%20%20%20%20%20%20%20zoomControl%3A%20true%2C%0A%20%20%20%20%20%20%20%20%20%20%20%20%20%20%20%20%20%20%20%20preferCanvas%3A%20false%2C%0A%20%20%20%20%20%20%20%20%20%20%20%20%20%20%20%20%7D%0A%20%20%20%20%20%20%20%20%20%20%20%20%29%3B%0A%20%20%20%20%20%20%20%20%20%20%20%20L.control.scale%28%29.addTo%28map_fb55dbb4d8d042769af3ca31d61ba8ad%29%3B%0A%0A%20%20%20%20%20%20%20%20%20%20%20%20%0A%0A%20%20%20%20%20%20%20%20%0A%20%20%20%20%0A%20%20%20%20%20%20%20%20%20%20%20%20var%20tile_layer_ce75f90218bb43e9ae45de24ac6aa2ca%20%3D%20L.tileLayer%28%0A%20%20%20%20%20%20%20%20%20%20%20%20%20%20%20%20%22https%3A//%7Bs%7D.tile.openstreetmap.org/%7Bz%7D/%7Bx%7D/%7By%7D.png%22%2C%0A%20%20%20%20%20%20%20%20%20%20%20%20%20%20%20%20%7B%22attribution%22%3A%20%22Data%20by%20%5Cu0026copy%3B%20%5Cu003ca%20href%3D%5C%22http%3A//openstreetmap.org%5C%22%5Cu003eOpenStreetMap%5Cu003c/a%5Cu003e%2C%20under%20%5Cu003ca%20href%3D%5C%22http%3A//www.openstreetmap.org/copyright%5C%22%5Cu003eODbL%5Cu003c/a%5Cu003e.%22%2C%20%22detectRetina%22%3A%20false%2C%20%22maxNativeZoom%22%3A%2018%2C%20%22maxZoom%22%3A%2018%2C%20%22minZoom%22%3A%200%2C%20%22noWrap%22%3A%20false%2C%20%22opacity%22%3A%201%2C%20%22subdomains%22%3A%20%22abc%22%2C%20%22tms%22%3A%20false%7D%0A%20%20%20%20%20%20%20%20%20%20%20%20%29.addTo%28map_fb55dbb4d8d042769af3ca31d61ba8ad%29%3B%0A%20%20%20%20%20%20%20%20%0A%20%20%20%20%0A%20%20%20%20%20%20%20%20%20%20%20%20map_fb55dbb4d8d042769af3ca31d61ba8ad.fitBounds%28%0A%20%20%20%20%20%20%20%20%20%20%20%20%20%20%20%20%5B%5B52.30289483030577%2C%20-6.899736490283037%5D%2C%20%5B52.313990315871465%2C%20-6.881634734755667%5D%5D%2C%0A%20%20%20%20%20%20%20%20%20%20%20%20%20%20%20%20%7B%7D%0A%20%20%20%20%20%20%20%20%20%20%20%20%29%3B%0A%20%20%20%20%20%20%20%20%0A%20%20%20%20%0A%20%20%20%20%20%20%20%20function%20geo_json_928a4c0daf244900af54f091ea5d674f_styler%28feature%29%20%7B%0A%20%20%20%20%20%20%20%20%20%20%20%20switch%28feature.id%29%20%7B%0A%20%20%20%20%20%20%20%20%20%20%20%20%20%20%20%20default%3A%0A%20%20%20%20%20%20%20%20%20%20%20%20%20%20%20%20%20%20%20%20return%20%7B%22fillOpacity%22%3A%200.5%2C%20%22weight%22%3A%202%7D%3B%0A%20%20%20%20%20%20%20%20%20%20%20%20%7D%0A%20%20%20%20%20%20%20%20%7D%0A%20%20%20%20%20%20%20%20function%20geo_json_928a4c0daf244900af54f091ea5d674f_highlighter%28feature%29%20%7B%0A%20%20%20%20%20%20%20%20%20%20%20%20switch%28feature.id%29%20%7B%0A%20%20%20%20%20%20%20%20%20%20%20%20%20%20%20%20default%3A%0A%20%20%20%20%20%20%20%20%20%20%20%20%20%20%20%20%20%20%20%20return%20%7B%22fillOpacity%22%3A%200.75%7D%3B%0A%20%20%20%20%20%20%20%20%20%20%20%20%7D%0A%20%20%20%20%20%20%20%20%7D%0A%20%20%20%20%20%20%20%20function%20geo_json_928a4c0daf244900af54f091ea5d674f_pointToLayer%28feature%2C%20latlng%29%20%7B%0A%20%20%20%20%20%20%20%20%20%20%20%20var%20opts%20%3D%20%7B%22bubblingMouseEvents%22%3A%20true%2C%20%22color%22%3A%20%22%233388ff%22%2C%20%22dashArray%22%3A%20null%2C%20%22dashOffset%22%3A%20null%2C%20%22fill%22%3A%20true%2C%20%22fillColor%22%3A%20%22%233388ff%22%2C%20%22fillOpacity%22%3A%200.2%2C%20%22fillRule%22%3A%20%22evenodd%22%2C%20%22lineCap%22%3A%20%22round%22%2C%20%22lineJoin%22%3A%20%22round%22%2C%20%22opacity%22%3A%201.0%2C%20%22radius%22%3A%202%2C%20%22stroke%22%3A%20true%2C%20%22weight%22%3A%203%7D%3B%0A%20%20%20%20%20%20%20%20%20%20%20%20%0A%20%20%20%20%20%20%20%20%20%20%20%20let%20style%20%3D%20geo_json_928a4c0daf244900af54f091ea5d674f_styler%28feature%29%0A%20%20%20%20%20%20%20%20%20%20%20%20Object.assign%28opts%2C%20style%29%0A%20%20%20%20%20%20%20%20%20%20%20%20%0A%20%20%20%20%20%20%20%20%20%20%20%20return%20new%20L.CircleMarker%28latlng%2C%20opts%29%0A%20%20%20%20%20%20%20%20%7D%0A%0A%20%20%20%20%20%20%20%20function%20geo_json_928a4c0daf244900af54f091ea5d674f_onEachFeature%28feature%2C%20layer%29%20%7B%0A%20%20%20%20%20%20%20%20%20%20%20%20layer.on%28%7B%0A%20%20%20%20%20%20%20%20%20%20%20%20%20%20%20%20mouseout%3A%20function%28e%29%20%7B%0A%20%20%20%20%20%20%20%20%20%20%20%20%20%20%20%20%20%20%20%20if%28typeof%20e.target.setStyle%20%3D%3D%3D%20%22function%22%29%7B%0A%20%20%20%20%20%20%20%20%20%20%20%20%20%20%20%20%20%20%20%20%20%20%20%20geo_json_928a4c0daf244900af54f091ea5d674f.resetStyle%28e.target%29%3B%0A%20%20%20%20%20%20%20%20%20%20%20%20%20%20%20%20%20%20%20%20%7D%0A%20%20%20%20%20%20%20%20%20%20%20%20%20%20%20%20%7D%2C%0A%20%20%20%20%20%20%20%20%20%20%20%20%20%20%20%20mouseover%3A%20function%28e%29%20%7B%0A%20%20%20%20%20%20%20%20%20%20%20%20%20%20%20%20%20%20%20%20if%28typeof%20e.target.setStyle%20%3D%3D%3D%20%22function%22%29%7B%0A%20%20%20%20%20%20%20%20%20%20%20%20%20%20%20%20%20%20%20%20%20%20%20%20const%20highlightStyle%20%3D%20geo_json_928a4c0daf244900af54f091ea5d674f_highlighter%28e.target.feature%29%0A%20%20%20%20%20%20%20%20%20%20%20%20%20%20%20%20%20%20%20%20%20%20%20%20e.target.setStyle%28highlightStyle%29%3B%0A%20%20%20%20%20%20%20%20%20%20%20%20%20%20%20%20%20%20%20%20%7D%0A%20%20%20%20%20%20%20%20%20%20%20%20%20%20%20%20%7D%2C%0A%20%20%20%20%20%20%20%20%20%20%20%20%7D%29%3B%0A%20%20%20%20%20%20%20%20%7D%3B%0A%20%20%20%20%20%20%20%20var%20geo_json_928a4c0daf244900af54f091ea5d674f%20%3D%20L.geoJson%28null%2C%20%7B%0A%20%20%20%20%20%20%20%20%20%20%20%20%20%20%20%20onEachFeature%3A%20geo_json_928a4c0daf244900af54f091ea5d674f_onEachFeature%2C%0A%20%20%20%20%20%20%20%20%20%20%20%20%0A%20%20%20%20%20%20%20%20%20%20%20%20%20%20%20%20style%3A%20geo_json_928a4c0daf244900af54f091ea5d674f_styler%2C%0A%20%20%20%20%20%20%20%20%20%20%20%20%20%20%20%20pointToLayer%3A%20geo_json_928a4c0daf244900af54f091ea5d674f_pointToLayer%0A%20%20%20%20%20%20%20%20%7D%29%3B%0A%0A%20%20%20%20%20%20%20%20function%20geo_json_928a4c0daf244900af54f091ea5d674f_add%20%28data%29%20%7B%0A%20%20%20%20%20%20%20%20%20%20%20%20geo_json_928a4c0daf244900af54f091ea5d674f%0A%20%20%20%20%20%20%20%20%20%20%20%20%20%20%20%20.addData%28data%29%0A%20%20%20%20%20%20%20%20%20%20%20%20%20%20%20%20.addTo%28map_fb55dbb4d8d042769af3ca31d61ba8ad%29%3B%0A%20%20%20%20%20%20%20%20%7D%0A%20%20%20%20%20%20%20%20%20%20%20%20geo_json_928a4c0daf244900af54f091ea5d674f_add%28%7B%22bbox%22%3A%20%5B-6.899736490283037%2C%2052.30289483030577%2C%20-6.881634734755667%2C%2052.313990315871465%5D%2C%20%22features%22%3A%20%5B%7B%22bbox%22%3A%20%5B-6.899736490283037%2C%2052.30289483030577%2C%20-6.881634734755667%2C%2052.313990315871465%5D%2C%20%22geometry%22%3A%20%7B%22coordinates%22%3A%20%5B%5B%5B-6.88214950301242%2C%2052.30289483030577%5D%2C%20%5B-6.881634734755667%2C%2052.31367603525128%5D%2C%20%5B-6.899225989052316%2C%2052.313990315871465%5D%2C%20%5B-6.899736490283037%2C%2052.30320898948728%5D%2C%20%5B-6.88214950301242%2C%2052.30289483030577%5D%5D%5D%2C%20%22type%22%3A%20%22Polygon%22%7D%2C%20%22id%22%3A%20%220%22%2C%20%22properties%22%3A%20%7B%22acquisition_date%22%3A%20%222017-06-17%2011%3A33%3A21%22%2C%20%22labels%22%3A%20%5B%22Non-irrigated%20arable%20land%22%2C%20%22Pastures%22%5D%2C%20%22name%22%3A%20%22S2A_MSIL2A_20170617T113321_36_85%22%2C%20%22tile_source%22%3A%20%22S2A_MSIL1C_20170617T113321_N0205_R080_T29UPU_20170617T113319.SAFE%22%7D%2C%20%22type%22%3A%20%22Feature%22%7D%5D%2C%20%22type%22%3A%20%22FeatureCollection%22%7D%29%3B%0A%0A%20%20%20%20%20%20%20%20%0A%20%20%20%20%0A%20%20%20%20geo_json_928a4c0daf244900af54f091ea5d674f.bindTooltip%28%0A%20%20%20%20function%28layer%29%7B%0A%20%20%20%20let%20div%20%3D%20L.DomUtil.create%28%27div%27%29%3B%0A%20%20%20%20%0A%20%20%20%20let%20handleObject%20%3D%20feature%3D%3Etypeof%28feature%29%3D%3D%27object%27%20%3F%20JSON.stringify%28feature%29%20%3A%20feature%3B%0A%20%20%20%20let%20fields%20%3D%20%5B%22labels%22%2C%20%22tile_source%22%2C%20%22acquisition_date%22%2C%20%22name%22%5D%3B%0A%20%20%20%20let%20aliases%20%3D%20%5B%22labels%22%2C%20%22tile_source%22%2C%20%22acquisition_date%22%2C%20%22name%22%5D%3B%0A%20%20%20%20let%20table%20%3D%20%27%3Ctable%3E%27%20%2B%0A%20%20%20%20%20%20%20%20String%28%0A%20%20%20%20%20%20%20%20fields.map%28%0A%20%20%20%20%20%20%20%20%28v%2Ci%29%3D%3E%0A%20%20%20%20%20%20%20%20%60%3Ctr%3E%0A%20%20%20%20%20%20%20%20%20%20%20%20%3Cth%3E%24%7Baliases%5Bi%5D%7D%3C/th%3E%0A%20%20%20%20%20%20%20%20%20%20%20%20%0A%20%20%20%20%20%20%20%20%20%20%20%20%3Ctd%3E%24%7BhandleObject%28layer.feature.properties%5Bv%5D%29%7D%3C/td%3E%0A%20%20%20%20%20%20%20%20%3C/tr%3E%60%29.join%28%27%27%29%29%0A%20%20%20%20%2B%27%3C/table%3E%27%3B%0A%20%20%20%20div.innerHTML%3Dtable%3B%0A%20%20%20%20%0A%20%20%20%20return%20div%0A%20%20%20%20%7D%0A%20%20%20%20%2C%7B%22className%22%3A%20%22foliumtooltip%22%2C%20%22sticky%22%3A%20true%7D%29%3B%0A%20%20%20%20%20%20%20%20%20%20%20%20%20%20%20%20%20%20%20%20%20%0A%3C/script%3E onload=\"this.contentDocument.open();this.contentDocument.write(    decodeURIComponent(this.getAttribute('data-html')));this.contentDocument.close();\" allowfullscreen webkitallowfullscreen mozallowfullscreen></iframe></div></div>"
      ],
      "text/plain": [
       "<folium.folium.Map at 0x7fc04ee33c90>"
      ]
     },
     "execution_count": null,
     "metadata": {},
     "output_type": "execute_result"
    }
   ],
   "source": [
    "gdf.explore()\n"
   ]
  },
  {
   "cell_type": "code",
   "execution_count": null,
   "metadata": {},
   "outputs": [
    {
     "data": {
      "text/html": [
       "<div>\n",
       "<style scoped>\n",
       "    .dataframe tbody tr th:only-of-type {\n",
       "        vertical-align: middle;\n",
       "    }\n",
       "\n",
       "    .dataframe tbody tr th {\n",
       "        vertical-align: top;\n",
       "    }\n",
       "\n",
       "    .dataframe thead th {\n",
       "        text-align: right;\n",
       "    }\n",
       "</style>\n",
       "<table border=\"1\" class=\"dataframe\">\n",
       "  <thead>\n",
       "    <tr style=\"text-align: right;\">\n",
       "      <th></th>\n",
       "      <th>labels</th>\n",
       "      <th>tile_source</th>\n",
       "      <th>acquisition_date</th>\n",
       "      <th>name</th>\n",
       "      <th>geometry</th>\n",
       "    </tr>\n",
       "  </thead>\n",
       "  <tbody>\n",
       "    <tr>\n",
       "      <th>0</th>\n",
       "      <td>[Pastures]</td>\n",
       "      <td>S2A_MSIL1C_20170617T113321_N0205_R080_T29UPU_2...</td>\n",
       "      <td>2017-06-17 11:33:21</td>\n",
       "      <td>S2A_MSIL2A_20170617T113321_4_55</td>\n",
       "      <td>POLYGON ((606000.000 5832840.000, 606000.000 5...</td>\n",
       "    </tr>\n",
       "  </tbody>\n",
       "</table>\n",
       "</div>"
      ],
      "text/plain": [
       "       labels                                        tile_source  \\\n",
       "0  [Pastures]  S2A_MSIL1C_20170617T113321_N0205_R080_T29UPU_2...   \n",
       "\n",
       "      acquisition_date                             name  \\\n",
       "0  2017-06-17 11:33:21  S2A_MSIL2A_20170617T113321_4_55   \n",
       "\n",
       "                                            geometry  \n",
       "0  POLYGON ((606000.000 5832840.000, 606000.000 5...  "
      ]
     },
     "execution_count": null,
     "metadata": {},
     "output_type": "execute_result"
    }
   ],
   "source": [
    "# hide\n",
    "_gdf = ben_s2_patch_to_gdf(test_json_single_label)\n",
    "_gdf\n"
   ]
  },
  {
   "cell_type": "code",
   "execution_count": null,
   "metadata": {},
   "outputs": [
    {
     "data": {
      "text/plain": [
       "<Geographic 2D CRS: EPSG:4326>\n",
       "Name: WGS 84\n",
       "Axis Info [ellipsoidal]:\n",
       "- Lat[north]: Geodetic latitude (degree)\n",
       "- Lon[east]: Geodetic longitude (degree)\n",
       "Area of Use:\n",
       "- name: World.\n",
       "- bounds: (-180.0, -90.0, 180.0, 90.0)\n",
       "Datum: World Geodetic System 1984 ensemble\n",
       "- Ellipsoid: WGS 84\n",
       "- Prime Meridian: Greenwich"
      ]
     },
     "execution_count": null,
     "metadata": {},
     "output_type": "execute_result"
    }
   ],
   "source": [
    "# hide\n",
    "gdf = ben_s2_patch_to_reprojected_gdf(test_json).append(\n",
    "    ben_s2_patch_to_reprojected_gdf(test_json_single_label)\n",
    ")\n",
    "gdf.crs\n"
   ]
  },
  {
   "cell_type": "code",
   "execution_count": null,
   "metadata": {},
   "outputs": [
    {
     "data": {
      "text/html": [
       "<div>\n",
       "<style scoped>\n",
       "    .dataframe tbody tr th:only-of-type {\n",
       "        vertical-align: middle;\n",
       "    }\n",
       "\n",
       "    .dataframe tbody tr th {\n",
       "        vertical-align: top;\n",
       "    }\n",
       "\n",
       "    .dataframe thead th {\n",
       "        text-align: right;\n",
       "    }\n",
       "</style>\n",
       "<table border=\"1\" class=\"dataframe\">\n",
       "  <thead>\n",
       "    <tr style=\"text-align: right;\">\n",
       "      <th></th>\n",
       "      <th>labels</th>\n",
       "      <th>corresponding_s2_patch</th>\n",
       "      <th>scene_source</th>\n",
       "      <th>acquisition_time</th>\n",
       "      <th>name</th>\n",
       "      <th>geometry</th>\n",
       "    </tr>\n",
       "  </thead>\n",
       "  <tbody>\n",
       "    <tr>\n",
       "      <th>0</th>\n",
       "      <td>[Non-irrigated arable land, Broad-leaved fores...</td>\n",
       "      <td>S2A_MSIL2A_20170613T101031_61_39</td>\n",
       "      <td>S1A_IW_GRDH_1SDV_20170613T165043_20170613T1651...</td>\n",
       "      <td>2017-06-13T16:50:43</td>\n",
       "      <td>S1A_IW_GRDH_1SDV_20170613T165043_33UUP_61_39</td>\n",
       "      <td>POLYGON ((374400.000 5352000.000, 374400.000 5...</td>\n",
       "    </tr>\n",
       "  </tbody>\n",
       "</table>\n",
       "</div>"
      ],
      "text/plain": [
       "                                              labels  \\\n",
       "0  [Non-irrigated arable land, Broad-leaved fores...   \n",
       "\n",
       "             corresponding_s2_patch  \\\n",
       "0  S2A_MSIL2A_20170613T101031_61_39   \n",
       "\n",
       "                                        scene_source     acquisition_time  \\\n",
       "0  S1A_IW_GRDH_1SDV_20170613T165043_20170613T1651...  2017-06-13T16:50:43   \n",
       "\n",
       "                                           name  \\\n",
       "0  S1A_IW_GRDH_1SDV_20170613T165043_33UUP_61_39   \n",
       "\n",
       "                                            geometry  \n",
       "0  POLYGON ((374400.000 5352000.000, 374400.000 5...  "
      ]
     },
     "execution_count": null,
     "metadata": {},
     "output_type": "execute_result"
    }
   ],
   "source": [
    "# hide\n",
    "gdf_s1 = ben_s1_patch_to_gdf(s1_test_json)\n",
    "gdf_s1"
   ]
  },
  {
   "cell_type": "code",
   "execution_count": null,
   "metadata": {},
   "outputs": [],
   "source": [
    "# hide\n",
    "import geopandas.testing\n",
    "\n",
    "gdf_s1_parent = ben_s1_patch_to_gdf(s1_test_json.parent)\n",
    "\n",
    "geopandas.testing.assert_geoseries_equal(gdf_s1.geometry, gdf_s1_parent.geometry)\n",
    "geopandas.testing.assert_geodataframe_equal(gdf_s1, gdf_s1_parent)\n"
   ]
  },
  {
   "cell_type": "code",
   "execution_count": null,
   "metadata": {},
   "outputs": [],
   "source": [
    "# export\n",
    "@validate_arguments\n",
    "def _parallel_gdf_path_builder(\n",
    "    paths: List[Path],\n",
    "    gdf_builder: Callable[[Path, str], geopandas.GeoDataFrame],\n",
    "    n_workers: PositiveInt = 8,\n",
    "    progress: bool = True,\n",
    "    target_proj: str = \"epsg:4326\",\n",
    ") -> geopandas.GeoDataFrame:\n",
    "    \"\"\"\n",
    "    Build a single `geopandas.GeoDataFrame` by applying the\n",
    "    `gdf_builder` function in parallel with `n_worker` processes.\n",
    "    The `gdf_builder` function must take a path with a `target_proj`\n",
    "    and return a GeoDataFrame in that `target_proj` CRS!\n",
    "    By default a `progress` bar is shown.\n",
    "    Note that each individual gdf must already be reprojected to a\n",
    "    common CRS!\n",
    "\n",
    "    If an empty dataframe is produced, an `ValueError` is raised.\n",
    "    \"\"\"\n",
    "    # todo understand how to set target_proj a positional variable\n",
    "    gdfs = fc.parallel(\n",
    "        gdf_builder,\n",
    "        paths,\n",
    "        progress=progress,\n",
    "        n_workers=n_workers,\n",
    "        target_proj=target_proj,\n",
    "    )\n",
    "    if len(gdfs) == 0:\n",
    "        raise ValueError(\"Empty gdf produced! Possible wrong folder?\", paths)\n",
    "    gdf = pd.concat(gdfs, axis=0, ignore_index=True)\n",
    "    return gdf\n",
    "\n",
    "@fc.delegates(_parallel_gdf_path_builder)\n",
    "def build_gdf_from_s2_patch_paths(\n",
    "    paths: List[Path],\n",
    "    **kwargs,\n",
    ") -> geopandas.GeoDataFrame:\n",
    "    \"\"\"\n",
    "    Build a single `geopandas.GeoDataFrame` from the BEN-S2 json files.\n",
    "    The code will run in parallel and use `n_workers` processes.\n",
    "    By default a progress-bar will be shown.\n",
    "\n",
    "    From personal experience, the ideal number of workers is 8 in most cases.\n",
    "    For laptops with fewer cores, 2 or 4 `n_workers` should be set.\n",
    "    More than 8 usually leads to only minor improvements and with n_workers > 12\n",
    "    the performance usually degrades.\n",
    "\n",
    "    The function returns a single GDF with all patches reprojected to `target_proj`,\n",
    "    which is `epsg:4326` by default.\n",
    "\n",
    "    If the directory contains no S2 patch-folders, an `ValueError` is raised.\n",
    "    \"\"\"\n",
    "    return _parallel_gdf_path_builder(paths, ben_s2_patch_to_reprojected_gdf, **kwargs)\n",
    "\n",
    "\n",
    "@fc.delegates(_parallel_gdf_path_builder)\n",
    "def build_gdf_from_s1_patch_paths(\n",
    "    paths: List[Path],\n",
    "    **kwargs,\n",
    ") -> geopandas.GeoDataFrame:\n",
    "    \"\"\"\n",
    "    Build a single `geopandas.GeoDataFrame` from the BEN-S1 json files.\n",
    "    The code will run in parallel and use `n_workers` processes.\n",
    "    By default a progress-bar will be shown.\n",
    "\n",
    "    From personal experience, the ideal number of workers is 8 in most cases.\n",
    "    For laptops with fewer cores, 2 or 4 `n_workers` should be set.\n",
    "    More than 8 usually leads to only minor improvements and with n_workers > 12\n",
    "    the performance usually degrades.\n",
    "\n",
    "    The function returns a single GDF with all patches reprojected to `target_proj`,\n",
    "    which is `epsg:4326` by default.\n",
    "\n",
    "    If the directory contains no S2 patch-folders, an `ValueError` is raised.\n",
    "    \"\"\"\n",
    "    return _parallel_gdf_path_builder(paths, ben_s1_patch_to_reprojected_gdf, **kwargs)"
   ]
  },
  {
   "cell_type": "code",
   "execution_count": null,
   "metadata": {},
   "outputs": [],
   "source": [
    "# export\n",
    "\n",
    "@fc.delegates(build_gdf_from_s2_patch_paths)\n",
    "def get_gdf_from_s2_patch_dir(dir_path: DirectoryPath, **kwargs) -> geopandas.GeoDataFrame:\n",
    "    \"\"\"\n",
    "    Searches through `dir_path` to assemble a BEN-S2-style `GeoDataFrame`.\n",
    "    Will only consider correctly named directories.\n",
    "    Wraps around `get_s2_patch_directory` and `build_gdf_from_s2_patch_paths`.\n",
    "\n",
    "    Raises an error if an empty GeoDataFrame would be produced.\n",
    "    \"\"\"\n",
    "    patch_paths = get_s2_patch_directories(dir_path)\n",
    "    gdf = build_gdf_from_s2_patch_paths(patch_paths, **kwargs)\n",
    "    if len(gdf) == 0:\n",
    "        raise ValueError(\"Empty gdf produced! Check provided directory!\")\n",
    "    return gdf\n",
    "\n",
    "@fc.delegates(build_gdf_from_s1_patch_paths)\n",
    "def get_gdf_from_s1_patch_dir(dir_path: DirectoryPath, **kwargs) -> geopandas.GeoDataFrame:\n",
    "    \"\"\"\n",
    "    Searches through `dir_path` to assemble a BEN-S1-style `GeoDataFrame`.\n",
    "    Will only consider correctly named directories.\n",
    "    Wraps around `get_s1_patch_directory` and `build_gdf_from_s1_patch_paths`.\n",
    "\n",
    "    Raises an error if an empty GeoDataFrame would be produced.\n",
    "    \"\"\"\n",
    "    patch_paths = get_s1_patch_directories(dir_path)\n",
    "    gdf = build_gdf_from_s1_patch_paths(patch_paths, **kwargs)\n",
    "    if len(gdf) == 0:\n",
    "        raise ValueError(\"Empty gdf produced! Check provided directory!\")\n",
    "    return gdf\n"
   ]
  },
  {
   "cell_type": "code",
   "execution_count": null,
   "metadata": {},
   "outputs": [
    {
     "data": {
      "text/html": [
       "<div style=\"width:100%;\"><div style=\"position:relative;width:100%;height:0;padding-bottom:60%;\"><span style=\"color:#565656\">Make this Notebook Trusted to load map: File -> Trust Notebook</span><iframe src=\"about:blank\" style=\"position:absolute;width:100%;height:100%;left:0;top:0;border:none !important;\" data-html=%3C%21DOCTYPE%20html%3E%0A%3Chead%3E%20%20%20%20%0A%20%20%20%20%3Cmeta%20http-equiv%3D%22content-type%22%20content%3D%22text/html%3B%20charset%3DUTF-8%22%20/%3E%0A%20%20%20%20%0A%20%20%20%20%20%20%20%20%3Cscript%3E%0A%20%20%20%20%20%20%20%20%20%20%20%20L_NO_TOUCH%20%3D%20false%3B%0A%20%20%20%20%20%20%20%20%20%20%20%20L_DISABLE_3D%20%3D%20false%3B%0A%20%20%20%20%20%20%20%20%3C/script%3E%0A%20%20%20%20%0A%20%20%20%20%3Cstyle%3Ehtml%2C%20body%20%7Bwidth%3A%20100%25%3Bheight%3A%20100%25%3Bmargin%3A%200%3Bpadding%3A%200%3B%7D%3C/style%3E%0A%20%20%20%20%3Cstyle%3E%23map%20%7Bposition%3Aabsolute%3Btop%3A0%3Bbottom%3A0%3Bright%3A0%3Bleft%3A0%3B%7D%3C/style%3E%0A%20%20%20%20%3Cscript%20src%3D%22https%3A//cdn.jsdelivr.net/npm/leaflet%401.6.0/dist/leaflet.js%22%3E%3C/script%3E%0A%20%20%20%20%3Cscript%20src%3D%22https%3A//code.jquery.com/jquery-1.12.4.min.js%22%3E%3C/script%3E%0A%20%20%20%20%3Cscript%20src%3D%22https%3A//maxcdn.bootstrapcdn.com/bootstrap/3.2.0/js/bootstrap.min.js%22%3E%3C/script%3E%0A%20%20%20%20%3Cscript%20src%3D%22https%3A//cdnjs.cloudflare.com/ajax/libs/Leaflet.awesome-markers/2.0.2/leaflet.awesome-markers.js%22%3E%3C/script%3E%0A%20%20%20%20%3Clink%20rel%3D%22stylesheet%22%20href%3D%22https%3A//cdn.jsdelivr.net/npm/leaflet%401.6.0/dist/leaflet.css%22/%3E%0A%20%20%20%20%3Clink%20rel%3D%22stylesheet%22%20href%3D%22https%3A//maxcdn.bootstrapcdn.com/bootstrap/3.2.0/css/bootstrap.min.css%22/%3E%0A%20%20%20%20%3Clink%20rel%3D%22stylesheet%22%20href%3D%22https%3A//maxcdn.bootstrapcdn.com/bootstrap/3.2.0/css/bootstrap-theme.min.css%22/%3E%0A%20%20%20%20%3Clink%20rel%3D%22stylesheet%22%20href%3D%22https%3A//maxcdn.bootstrapcdn.com/font-awesome/4.6.3/css/font-awesome.min.css%22/%3E%0A%20%20%20%20%3Clink%20rel%3D%22stylesheet%22%20href%3D%22https%3A//cdnjs.cloudflare.com/ajax/libs/Leaflet.awesome-markers/2.0.2/leaflet.awesome-markers.css%22/%3E%0A%20%20%20%20%3Clink%20rel%3D%22stylesheet%22%20href%3D%22https%3A//cdn.jsdelivr.net/gh/python-visualization/folium/folium/templates/leaflet.awesome.rotate.min.css%22/%3E%0A%20%20%20%20%0A%20%20%20%20%20%20%20%20%20%20%20%20%3Cmeta%20name%3D%22viewport%22%20content%3D%22width%3Ddevice-width%2C%0A%20%20%20%20%20%20%20%20%20%20%20%20%20%20%20%20initial-scale%3D1.0%2C%20maximum-scale%3D1.0%2C%20user-scalable%3Dno%22%20/%3E%0A%20%20%20%20%20%20%20%20%20%20%20%20%3Cstyle%3E%0A%20%20%20%20%20%20%20%20%20%20%20%20%20%20%20%20%23map_1a12367db3a7499ba6d68fca52f2a0c0%20%7B%0A%20%20%20%20%20%20%20%20%20%20%20%20%20%20%20%20%20%20%20%20position%3A%20relative%3B%0A%20%20%20%20%20%20%20%20%20%20%20%20%20%20%20%20%20%20%20%20width%3A%20100.0%25%3B%0A%20%20%20%20%20%20%20%20%20%20%20%20%20%20%20%20%20%20%20%20height%3A%20100.0%25%3B%0A%20%20%20%20%20%20%20%20%20%20%20%20%20%20%20%20%20%20%20%20left%3A%200.0%25%3B%0A%20%20%20%20%20%20%20%20%20%20%20%20%20%20%20%20%20%20%20%20top%3A%200.0%25%3B%0A%20%20%20%20%20%20%20%20%20%20%20%20%20%20%20%20%7D%0A%20%20%20%20%20%20%20%20%20%20%20%20%3C/style%3E%0A%20%20%20%20%20%20%20%20%0A%20%20%20%20%0A%20%20%20%20%20%20%20%20%20%20%20%20%20%20%20%20%20%20%20%20%3Cstyle%3E%0A%20%20%20%20%20%20%20%20%20%20%20%20%20%20%20%20%20%20%20%20%20%20%20%20.foliumtooltip%20%7B%0A%20%20%20%20%20%20%20%20%20%20%20%20%20%20%20%20%20%20%20%20%20%20%20%20%20%20%20%20%0A%20%20%20%20%20%20%20%20%20%20%20%20%20%20%20%20%20%20%20%20%20%20%20%20%7D%0A%20%20%20%20%20%20%20%20%20%20%20%20%20%20%20%20%20%20%20%20%20%20%20.foliumtooltip%20table%7B%0A%20%20%20%20%20%20%20%20%20%20%20%20%20%20%20%20%20%20%20%20%20%20%20%20%20%20%20%20margin%3A%20auto%3B%0A%20%20%20%20%20%20%20%20%20%20%20%20%20%20%20%20%20%20%20%20%20%20%20%20%7D%0A%20%20%20%20%20%20%20%20%20%20%20%20%20%20%20%20%20%20%20%20%20%20%20%20.foliumtooltip%20tr%7B%0A%20%20%20%20%20%20%20%20%20%20%20%20%20%20%20%20%20%20%20%20%20%20%20%20%20%20%20%20text-align%3A%20left%3B%0A%20%20%20%20%20%20%20%20%20%20%20%20%20%20%20%20%20%20%20%20%20%20%20%20%7D%0A%20%20%20%20%20%20%20%20%20%20%20%20%20%20%20%20%20%20%20%20%20%20%20%20.foliumtooltip%20th%7B%0A%20%20%20%20%20%20%20%20%20%20%20%20%20%20%20%20%20%20%20%20%20%20%20%20%20%20%20%20padding%3A%202px%3B%20padding-right%3A%208px%3B%0A%20%20%20%20%20%20%20%20%20%20%20%20%20%20%20%20%20%20%20%20%20%20%20%20%7D%0A%20%20%20%20%20%20%20%20%20%20%20%20%20%20%20%20%20%20%20%20%3C/style%3E%0A%20%20%20%20%20%20%20%20%20%20%20%20%0A%3C/head%3E%0A%3Cbody%3E%20%20%20%20%0A%20%20%20%20%0A%20%20%20%20%20%20%20%20%20%20%20%20%3Cdiv%20class%3D%22folium-map%22%20id%3D%22map_1a12367db3a7499ba6d68fca52f2a0c0%22%20%3E%3C/div%3E%0A%20%20%20%20%20%20%20%20%0A%3C/body%3E%0A%3Cscript%3E%20%20%20%20%0A%20%20%20%20%0A%20%20%20%20%20%20%20%20%20%20%20%20var%20map_1a12367db3a7499ba6d68fca52f2a0c0%20%3D%20L.map%28%0A%20%20%20%20%20%20%20%20%20%20%20%20%20%20%20%20%22map_1a12367db3a7499ba6d68fca52f2a0c0%22%2C%0A%20%20%20%20%20%20%20%20%20%20%20%20%20%20%20%20%7B%0A%20%20%20%20%20%20%20%20%20%20%20%20%20%20%20%20%20%20%20%20center%3A%20%5B50.09152198326542%2C%209.873067157507782%5D%2C%0A%20%20%20%20%20%20%20%20%20%20%20%20%20%20%20%20%20%20%20%20crs%3A%20L.CRS.EPSG3857%2C%0A%20%20%20%20%20%20%20%20%20%20%20%20%20%20%20%20%20%20%20%20zoom%3A%2010%2C%0A%20%20%20%20%20%20%20%20%20%20%20%20%20%20%20%20%20%20%20%20zoomControl%3A%20true%2C%0A%20%20%20%20%20%20%20%20%20%20%20%20%20%20%20%20%20%20%20%20preferCanvas%3A%20false%2C%0A%20%20%20%20%20%20%20%20%20%20%20%20%20%20%20%20%7D%0A%20%20%20%20%20%20%20%20%20%20%20%20%29%3B%0A%20%20%20%20%20%20%20%20%20%20%20%20L.control.scale%28%29.addTo%28map_1a12367db3a7499ba6d68fca52f2a0c0%29%3B%0A%0A%20%20%20%20%20%20%20%20%20%20%20%20%0A%0A%20%20%20%20%20%20%20%20%0A%20%20%20%20%0A%20%20%20%20%20%20%20%20%20%20%20%20var%20tile_layer_72990c19fd7648b29962851636c5d09f%20%3D%20L.tileLayer%28%0A%20%20%20%20%20%20%20%20%20%20%20%20%20%20%20%20%22https%3A//%7Bs%7D.tile.openstreetmap.org/%7Bz%7D/%7Bx%7D/%7By%7D.png%22%2C%0A%20%20%20%20%20%20%20%20%20%20%20%20%20%20%20%20%7B%22attribution%22%3A%20%22Data%20by%20%5Cu0026copy%3B%20%5Cu003ca%20href%3D%5C%22http%3A//openstreetmap.org%5C%22%5Cu003eOpenStreetMap%5Cu003c/a%5Cu003e%2C%20under%20%5Cu003ca%20href%3D%5C%22http%3A//www.openstreetmap.org/copyright%5C%22%5Cu003eODbL%5Cu003c/a%5Cu003e.%22%2C%20%22detectRetina%22%3A%20false%2C%20%22maxNativeZoom%22%3A%2018%2C%20%22maxZoom%22%3A%2018%2C%20%22minZoom%22%3A%200%2C%20%22noWrap%22%3A%20false%2C%20%22opacity%22%3A%201%2C%20%22subdomains%22%3A%20%22abc%22%2C%20%22tms%22%3A%20false%7D%0A%20%20%20%20%20%20%20%20%20%20%20%20%29.addTo%28map_1a12367db3a7499ba6d68fca52f2a0c0%29%3B%0A%20%20%20%20%20%20%20%20%0A%20%20%20%20%0A%20%20%20%20%20%20%20%20%20%20%20%20map_1a12367db3a7499ba6d68fca52f2a0c0.fitBounds%28%0A%20%20%20%20%20%20%20%20%20%20%20%20%20%20%20%20%5B%5B39.36376104689367%2C%20-8.213206798221538%5D%2C%20%5B60.81928291963718%2C%2027.9593411132371%5D%5D%2C%0A%20%20%20%20%20%20%20%20%20%20%20%20%20%20%20%20%7B%7D%0A%20%20%20%20%20%20%20%20%20%20%20%20%29%3B%0A%20%20%20%20%20%20%20%20%0A%20%20%20%20%0A%20%20%20%20%20%20%20%20function%20geo_json_e9fb227472234ae0b89de64b190fb451_styler%28feature%29%20%7B%0A%20%20%20%20%20%20%20%20%20%20%20%20switch%28feature.id%29%20%7B%0A%20%20%20%20%20%20%20%20%20%20%20%20%20%20%20%20default%3A%0A%20%20%20%20%20%20%20%20%20%20%20%20%20%20%20%20%20%20%20%20return%20%7B%22fillOpacity%22%3A%200.5%2C%20%22weight%22%3A%202%7D%3B%0A%20%20%20%20%20%20%20%20%20%20%20%20%7D%0A%20%20%20%20%20%20%20%20%7D%0A%20%20%20%20%20%20%20%20function%20geo_json_e9fb227472234ae0b89de64b190fb451_highlighter%28feature%29%20%7B%0A%20%20%20%20%20%20%20%20%20%20%20%20switch%28feature.id%29%20%7B%0A%20%20%20%20%20%20%20%20%20%20%20%20%20%20%20%20default%3A%0A%20%20%20%20%20%20%20%20%20%20%20%20%20%20%20%20%20%20%20%20return%20%7B%22fillOpacity%22%3A%200.75%7D%3B%0A%20%20%20%20%20%20%20%20%20%20%20%20%7D%0A%20%20%20%20%20%20%20%20%7D%0A%20%20%20%20%20%20%20%20function%20geo_json_e9fb227472234ae0b89de64b190fb451_pointToLayer%28feature%2C%20latlng%29%20%7B%0A%20%20%20%20%20%20%20%20%20%20%20%20var%20opts%20%3D%20%7B%22fill%22%3A%20true%2C%20%22radius%22%3A%202%7D%3B%0A%20%20%20%20%20%20%20%20%20%20%20%20%0A%20%20%20%20%20%20%20%20%20%20%20%20let%20style%20%3D%20geo_json_e9fb227472234ae0b89de64b190fb451_styler%28feature%29%0A%20%20%20%20%20%20%20%20%20%20%20%20Object.assign%28opts%2C%20style%29%0A%20%20%20%20%20%20%20%20%20%20%20%20%0A%20%20%20%20%20%20%20%20%20%20%20%20return%20new%20L.Marker%28latlng%2C%20opts%29%0A%20%20%20%20%20%20%20%20%7D%0A%0A%20%20%20%20%20%20%20%20function%20geo_json_e9fb227472234ae0b89de64b190fb451_onEachFeature%28feature%2C%20layer%29%20%7B%0A%20%20%20%20%20%20%20%20%20%20%20%20layer.on%28%7B%0A%20%20%20%20%20%20%20%20%20%20%20%20%20%20%20%20mouseout%3A%20function%28e%29%20%7B%0A%20%20%20%20%20%20%20%20%20%20%20%20%20%20%20%20%20%20%20%20if%28typeof%20e.target.setStyle%20%3D%3D%3D%20%22function%22%29%7B%0A%20%20%20%20%20%20%20%20%20%20%20%20%20%20%20%20%20%20%20%20%20%20%20%20geo_json_e9fb227472234ae0b89de64b190fb451.resetStyle%28e.target%29%3B%0A%20%20%20%20%20%20%20%20%20%20%20%20%20%20%20%20%20%20%20%20%7D%0A%20%20%20%20%20%20%20%20%20%20%20%20%20%20%20%20%7D%2C%0A%20%20%20%20%20%20%20%20%20%20%20%20%20%20%20%20mouseover%3A%20function%28e%29%20%7B%0A%20%20%20%20%20%20%20%20%20%20%20%20%20%20%20%20%20%20%20%20if%28typeof%20e.target.setStyle%20%3D%3D%3D%20%22function%22%29%7B%0A%20%20%20%20%20%20%20%20%20%20%20%20%20%20%20%20%20%20%20%20%20%20%20%20const%20highlightStyle%20%3D%20geo_json_e9fb227472234ae0b89de64b190fb451_highlighter%28e.target.feature%29%0A%20%20%20%20%20%20%20%20%20%20%20%20%20%20%20%20%20%20%20%20%20%20%20%20e.target.setStyle%28highlightStyle%29%3B%0A%20%20%20%20%20%20%20%20%20%20%20%20%20%20%20%20%20%20%20%20%7D%0A%20%20%20%20%20%20%20%20%20%20%20%20%20%20%20%20%7D%2C%0A%20%20%20%20%20%20%20%20%20%20%20%20%7D%29%3B%0A%20%20%20%20%20%20%20%20%7D%3B%0A%20%20%20%20%20%20%20%20var%20geo_json_e9fb227472234ae0b89de64b190fb451%20%3D%20L.geoJson%28null%2C%20%7B%0A%20%20%20%20%20%20%20%20%20%20%20%20%20%20%20%20onEachFeature%3A%20geo_json_e9fb227472234ae0b89de64b190fb451_onEachFeature%2C%0A%20%20%20%20%20%20%20%20%20%20%20%20%0A%20%20%20%20%20%20%20%20%20%20%20%20%20%20%20%20style%3A%20geo_json_e9fb227472234ae0b89de64b190fb451_styler%2C%0A%20%20%20%20%20%20%20%20%20%20%20%20%20%20%20%20pointToLayer%3A%20geo_json_e9fb227472234ae0b89de64b190fb451_pointToLayer%0A%20%20%20%20%20%20%20%20%7D%29%3B%0A%0A%20%20%20%20%20%20%20%20function%20geo_json_e9fb227472234ae0b89de64b190fb451_add%20%28data%29%20%7B%0A%20%20%20%20%20%20%20%20%20%20%20%20geo_json_e9fb227472234ae0b89de64b190fb451%0A%20%20%20%20%20%20%20%20%20%20%20%20%20%20%20%20.addData%28data%29%0A%20%20%20%20%20%20%20%20%20%20%20%20%20%20%20%20.addTo%28map_1a12367db3a7499ba6d68fca52f2a0c0%29%3B%0A%20%20%20%20%20%20%20%20%7D%0A%20%20%20%20%20%20%20%20%20%20%20%20geo_json_e9fb227472234ae0b89de64b190fb451_add%28%7B%22bbox%22%3A%20%5B-8.213206798221538%2C%2039.36376104689367%2C%2027.9593411132371%2C%2060.81928291963718%5D%2C%20%22features%22%3A%20%5B%7B%22bbox%22%3A%20%5B-8.213206798221538%2C%2039.36376104689367%2C%20-8.213206798221538%2C%2039.36376104689367%5D%2C%20%22geometry%22%3A%20%7B%22coordinates%22%3A%20%5B-8.213206798221538%2C%2039.36376104689367%5D%2C%20%22type%22%3A%20%22Point%22%7D%2C%20%22id%22%3A%20%220%22%2C%20%22properties%22%3A%20%7B%22acquisition_date%22%3A%20%222017-12-21%2011%3A25%3A01%22%2C%20%22labels%22%3A%20%5B%22Complex%20cultivation%20patterns%22%2C%20%22Land%20principally%20occupied%20by%20agriculture%2C%20with%20significant%20areas%20of%20natural%20vegetation%22%2C%20%22Broad-leaved%20forest%22%2C%20%22Transitional%20woodland/shrub%22%5D%2C%20%22name%22%3A%20%22S2A_MSIL2A_20171221T112501_56_35%22%2C%20%22tile_source%22%3A%20%22S2A_MSIL1C_20171221T112501_N0206_R037_T29SND_20171221T114356.SAFE%22%7D%2C%20%22type%22%3A%20%22Feature%22%7D%2C%20%7B%22bbox%22%3A%20%5B-6.890686649586739%2C%2052.30844251236928%2C%20-6.890686649586739%2C%2052.30844251236928%5D%2C%20%22geometry%22%3A%20%7B%22coordinates%22%3A%20%5B-6.890686649586739%2C%2052.30844251236928%5D%2C%20%22type%22%3A%20%22Point%22%7D%2C%20%22id%22%3A%20%221%22%2C%20%22properties%22%3A%20%7B%22acquisition_date%22%3A%20%222017-06-17%2011%3A33%3A21%22%2C%20%22labels%22%3A%20%5B%22Non-irrigated%20arable%20land%22%2C%20%22Pastures%22%5D%2C%20%22name%22%3A%20%22S2A_MSIL2A_20170617T113321_36_85%22%2C%20%22tile_source%22%3A%20%22S2A_MSIL1C_20170617T113321_N0205_R080_T29UPU_20170617T113319.SAFE%22%7D%2C%20%22type%22%3A%20%22Feature%22%7D%2C%20%7B%22bbox%22%3A%20%5B25.061582874332363%2C%2056.219499068259196%2C%2025.061582874332363%2C%2056.219499068259196%5D%2C%20%22geometry%22%3A%20%7B%22coordinates%22%3A%20%5B25.061582874332363%2C%2056.219499068259196%5D%2C%20%22type%22%3A%20%22Point%22%7D%2C%20%22id%22%3A%20%222%22%2C%20%22properties%22%3A%20%7B%22acquisition_date%22%3A%20%222017-09-27%2009%3A40%3A19%22%2C%20%22labels%22%3A%20%5B%22Land%20principally%20occupied%20by%20agriculture%2C%20with%20significant%20areas%20of%20natural%20vegetation%22%2C%20%22Broad-leaved%20forest%22%2C%20%22Mixed%20forest%22%2C%20%22Transitional%20woodland/shrub%22%5D%2C%20%22name%22%3A%20%22S2B_MSIL2A_20170927T094019_66_56%22%2C%20%22tile_source%22%3A%20%22S2B_MSIL1C_20170927T094019_N0205_R036_T35VLC_20170927T094016.SAFE%22%7D%2C%20%22type%22%3A%20%22Feature%22%7D%2C%20%7B%22bbox%22%3A%20%5B21.49223428565407%2C%2044.72608040968221%2C%2021.49223428565407%2C%2044.72608040968221%5D%2C%20%22geometry%22%3A%20%7B%22coordinates%22%3A%20%5B21.49223428565407%2C%2044.72608040968221%5D%2C%20%22type%22%3A%20%22Point%22%7D%2C%20%22id%22%3A%20%223%22%2C%20%22properties%22%3A%20%7B%22acquisition_date%22%3A%20%222017-09-14%2009%3A30%3A29%22%2C%20%22labels%22%3A%20%5B%22Non-irrigated%20arable%20land%22%2C%20%22Land%20principally%20occupied%20by%20agriculture%2C%20with%20significant%20areas%20of%20natural%20vegetation%22%2C%20%22Broad-leaved%20forest%22%5D%2C%20%22name%22%3A%20%22S2B_MSIL2A_20170914T093029_32_39%22%2C%20%22tile_source%22%3A%20%22S2B_MSIL1C_20170914T093029_N0205_R136_T34TEQ_20170914T093654.SAFE%22%7D%2C%20%22type%22%3A%20%22Feature%22%7D%2C%20%7B%22bbox%22%3A%20%5B-6.758362574665499%2C%2053.179993317824106%2C%20-6.758362574665499%2C%2053.179993317824106%5D%2C%20%22geometry%22%3A%20%7B%22coordinates%22%3A%20%5B-6.758362574665499%2C%2053.179993317824106%5D%2C%20%22type%22%3A%20%22Point%22%7D%2C%20%22id%22%3A%20%224%22%2C%20%22properties%22%3A%20%7B%22acquisition_date%22%3A%20%222018-04-21%2011%3A43%3A49%22%2C%20%22labels%22%3A%20%5B%22Non-irrigated%20arable%20land%22%2C%20%22Pastures%22%2C%20%22Broad-leaved%20forest%22%5D%2C%20%22name%22%3A%20%22S2B_MSIL2A_20180421T114349_41_4%22%2C%20%22tile_source%22%3A%20%22S2B_MSIL1C_20180421T114349_N0206_R123_T29UPU_20180421T134219.SAFE%22%7D%2C%20%22type%22%3A%20%22Feature%22%7D%2C%20%7B%22bbox%22%3A%20%5B-6.680849684127433%2C%2052.61743383004935%2C%20-6.680849684127433%2C%2052.61743383004935%5D%2C%20%22geometry%22%3A%20%7B%22coordinates%22%3A%20%5B-6.680849684127433%2C%2052.61743383004935%5D%2C%20%22type%22%3A%20%22Point%22%7D%2C%20%22id%22%3A%20%225%22%2C%20%22properties%22%3A%20%7B%22acquisition_date%22%3A%20%222018-04-21%2011%3A43%3A49%22%2C%20%22labels%22%3A%20%5B%22Non-irrigated%20arable%20land%22%2C%20%22Pastures%22%5D%2C%20%22name%22%3A%20%22S2B_MSIL2A_20180421T114349_47_56%22%2C%20%22tile_source%22%3A%20%22S2B_MSIL1C_20180421T114349_N0206_R123_T29UPU_20180421T134219.SAFE%22%7D%2C%20%22type%22%3A%20%22Feature%22%7D%2C%20%7B%22bbox%22%3A%20%5B21.65187303011116%2C%2044.09490137175899%2C%2021.65187303011116%2C%2044.09490137175899%5D%2C%20%22geometry%22%3A%20%7B%22coordinates%22%3A%20%5B21.65187303011116%2C%2044.09490137175899%5D%2C%20%22type%22%3A%20%22Point%22%7D%2C%20%22id%22%3A%20%226%22%2C%20%22properties%22%3A%20%7B%22acquisition_date%22%3A%20%222018-05-02%2009%3A30%3A39%22%2C%20%22labels%22%3A%20%5B%22Complex%20cultivation%20patterns%22%2C%20%22Land%20principally%20occupied%20by%20agriculture%2C%20with%20significant%20areas%20of%20natural%20vegetation%22%2C%20%22Broad-leaved%20forest%22%2C%20%22Transitional%20woodland/shrub%22%5D%2C%20%22name%22%3A%20%22S2B_MSIL2A_20180502T093039_43_14%22%2C%20%22tile_source%22%3A%20%22S2B_MSIL1C_20180502T093039_N0206_R136_T34TEP_20180502T113747.SAFE%22%7D%2C%20%22type%22%3A%20%22Feature%22%7D%2C%20%7B%22bbox%22%3A%20%5B27.9593411132371%2C%2060.81928291963718%2C%2027.9593411132371%2C%2060.81928291963718%5D%2C%20%22geometry%22%3A%20%7B%22coordinates%22%3A%20%5B27.9593411132371%2C%2060.81928291963718%5D%2C%20%22type%22%3A%20%22Point%22%7D%2C%20%22id%22%3A%20%227%22%2C%20%22properties%22%3A%20%7B%22acquisition_date%22%3A%20%222017-09-24%2009%3A30%3A19%22%2C%20%22labels%22%3A%20%5B%22Coniferous%20forest%22%2C%20%22Transitional%20woodland/shrub%22%5D%2C%20%22name%22%3A%20%22S2B_MSIL2A_20170924T093019_43_47%22%2C%20%22tile_source%22%3A%20%22S2B_MSIL1C_20170924T093019_N0205_R136_T35VNH_20170924T093132.SAFE%22%7D%2C%20%22type%22%3A%20%22Feature%22%7D%2C%20%7B%22bbox%22%3A%20%5B-7.442302856994679%2C%2052.64068597587841%2C%20-7.442302856994679%2C%2052.64068597587841%5D%2C%20%22geometry%22%3A%20%7B%22coordinates%22%3A%20%5B-7.442302856994679%2C%2052.64068597587841%5D%2C%20%22type%22%3A%20%22Point%22%7D%2C%20%22id%22%3A%20%228%22%2C%20%22properties%22%3A%20%7B%22acquisition_date%22%3A%20%222017-06-17%2011%3A33%3A21%22%2C%20%22labels%22%3A%20%5B%22Pastures%22%5D%2C%20%22name%22%3A%20%22S2A_MSIL2A_20170617T113321_4_55%22%2C%20%22tile_source%22%3A%20%22S2A_MSIL1C_20170617T113321_N0205_R080_T29UPU_20170617T113319.SAFE%22%7D%2C%20%22type%22%3A%20%22Feature%22%7D%5D%2C%20%22type%22%3A%20%22FeatureCollection%22%7D%29%3B%0A%0A%20%20%20%20%20%20%20%20%0A%20%20%20%20%0A%20%20%20%20geo_json_e9fb227472234ae0b89de64b190fb451.bindTooltip%28%0A%20%20%20%20function%28layer%29%7B%0A%20%20%20%20let%20div%20%3D%20L.DomUtil.create%28%27div%27%29%3B%0A%20%20%20%20%0A%20%20%20%20let%20handleObject%20%3D%20feature%3D%3Etypeof%28feature%29%3D%3D%27object%27%20%3F%20JSON.stringify%28feature%29%20%3A%20feature%3B%0A%20%20%20%20let%20fields%20%3D%20%5B%22labels%22%2C%20%22tile_source%22%2C%20%22acquisition_date%22%2C%20%22name%22%5D%3B%0A%20%20%20%20let%20aliases%20%3D%20%5B%22labels%22%2C%20%22tile_source%22%2C%20%22acquisition_date%22%2C%20%22name%22%5D%3B%0A%20%20%20%20let%20table%20%3D%20%27%3Ctable%3E%27%20%2B%0A%20%20%20%20%20%20%20%20String%28%0A%20%20%20%20%20%20%20%20fields.map%28%0A%20%20%20%20%20%20%20%20%28v%2Ci%29%3D%3E%0A%20%20%20%20%20%20%20%20%60%3Ctr%3E%0A%20%20%20%20%20%20%20%20%20%20%20%20%3Cth%3E%24%7Baliases%5Bi%5D%7D%3C/th%3E%0A%20%20%20%20%20%20%20%20%20%20%20%20%0A%20%20%20%20%20%20%20%20%20%20%20%20%3Ctd%3E%24%7BhandleObject%28layer.feature.properties%5Bv%5D%29%7D%3C/td%3E%0A%20%20%20%20%20%20%20%20%3C/tr%3E%60%29.join%28%27%27%29%29%0A%20%20%20%20%2B%27%3C/table%3E%27%3B%0A%20%20%20%20div.innerHTML%3Dtable%3B%0A%20%20%20%20%0A%20%20%20%20return%20div%0A%20%20%20%20%7D%0A%20%20%20%20%2C%7B%22className%22%3A%20%22foliumtooltip%22%2C%20%22sticky%22%3A%20true%7D%29%3B%0A%20%20%20%20%20%20%20%20%20%20%20%20%20%20%20%20%20%20%20%20%20%0A%3C/script%3E onload=\"this.contentDocument.open();this.contentDocument.write(    decodeURIComponent(this.getAttribute('data-html')));this.contentDocument.close();\" allowfullscreen webkitallowfullscreen mozallowfullscreen></iframe></div></div>"
      ],
      "text/plain": [
       "<folium.folium.Map at 0x7fc04ed68250>"
      ]
     },
     "execution_count": null,
     "metadata": {},
     "output_type": "execute_result"
    }
   ],
   "source": [
    "gdf = get_gdf_from_s2_patch_dir(test_dataset)\n",
    "# polygons are become too small on default zoom level\n",
    "# show a simple representative point of the polygon instead\n",
    "marker_gdf = gdf.copy()\n",
    "marker_gdf.geometry = marker_gdf.representative_point()\n",
    "marker_gdf.explore(marker_type=\"marker\")\n"
   ]
  },
  {
   "cell_type": "code",
   "execution_count": null,
   "metadata": {},
   "outputs": [],
   "source": [
    "# hide\n",
    "import geopandas.testing\n",
    "\n",
    "patch_folder = test_json.parent\n",
    "gdf1 = ben_s2_patch_to_reprojected_gdf(patch_folder)\n",
    "gdf2 = build_gdf_from_s2_patch_paths([patch_folder], n_workers=2)\n",
    "\n",
    "geopandas.testing.assert_geoseries_equal(gdf1.geometry, gdf2.geometry)\n",
    "geopandas.testing.assert_geodataframe_equal(gdf1, gdf2)\n"
   ]
  },
  {
   "cell_type": "code",
   "execution_count": null,
   "metadata": {},
   "outputs": [
    {
     "data": {
      "text/html": [
       "<div style=\"width:100%;\"><div style=\"position:relative;width:100%;height:0;padding-bottom:60%;\"><span style=\"color:#565656\">Make this Notebook Trusted to load map: File -> Trust Notebook</span><iframe src=\"about:blank\" style=\"position:absolute;width:100%;height:100%;left:0;top:0;border:none !important;\" data-html=%3C%21DOCTYPE%20html%3E%0A%3Chead%3E%20%20%20%20%0A%20%20%20%20%3Cmeta%20http-equiv%3D%22content-type%22%20content%3D%22text/html%3B%20charset%3DUTF-8%22%20/%3E%0A%20%20%20%20%0A%20%20%20%20%20%20%20%20%3Cscript%3E%0A%20%20%20%20%20%20%20%20%20%20%20%20L_NO_TOUCH%20%3D%20false%3B%0A%20%20%20%20%20%20%20%20%20%20%20%20L_DISABLE_3D%20%3D%20false%3B%0A%20%20%20%20%20%20%20%20%3C/script%3E%0A%20%20%20%20%0A%20%20%20%20%3Cstyle%3Ehtml%2C%20body%20%7Bwidth%3A%20100%25%3Bheight%3A%20100%25%3Bmargin%3A%200%3Bpadding%3A%200%3B%7D%3C/style%3E%0A%20%20%20%20%3Cstyle%3E%23map%20%7Bposition%3Aabsolute%3Btop%3A0%3Bbottom%3A0%3Bright%3A0%3Bleft%3A0%3B%7D%3C/style%3E%0A%20%20%20%20%3Cscript%20src%3D%22https%3A//cdn.jsdelivr.net/npm/leaflet%401.6.0/dist/leaflet.js%22%3E%3C/script%3E%0A%20%20%20%20%3Cscript%20src%3D%22https%3A//code.jquery.com/jquery-1.12.4.min.js%22%3E%3C/script%3E%0A%20%20%20%20%3Cscript%20src%3D%22https%3A//maxcdn.bootstrapcdn.com/bootstrap/3.2.0/js/bootstrap.min.js%22%3E%3C/script%3E%0A%20%20%20%20%3Cscript%20src%3D%22https%3A//cdnjs.cloudflare.com/ajax/libs/Leaflet.awesome-markers/2.0.2/leaflet.awesome-markers.js%22%3E%3C/script%3E%0A%20%20%20%20%3Clink%20rel%3D%22stylesheet%22%20href%3D%22https%3A//cdn.jsdelivr.net/npm/leaflet%401.6.0/dist/leaflet.css%22/%3E%0A%20%20%20%20%3Clink%20rel%3D%22stylesheet%22%20href%3D%22https%3A//maxcdn.bootstrapcdn.com/bootstrap/3.2.0/css/bootstrap.min.css%22/%3E%0A%20%20%20%20%3Clink%20rel%3D%22stylesheet%22%20href%3D%22https%3A//maxcdn.bootstrapcdn.com/bootstrap/3.2.0/css/bootstrap-theme.min.css%22/%3E%0A%20%20%20%20%3Clink%20rel%3D%22stylesheet%22%20href%3D%22https%3A//maxcdn.bootstrapcdn.com/font-awesome/4.6.3/css/font-awesome.min.css%22/%3E%0A%20%20%20%20%3Clink%20rel%3D%22stylesheet%22%20href%3D%22https%3A//cdnjs.cloudflare.com/ajax/libs/Leaflet.awesome-markers/2.0.2/leaflet.awesome-markers.css%22/%3E%0A%20%20%20%20%3Clink%20rel%3D%22stylesheet%22%20href%3D%22https%3A//cdn.jsdelivr.net/gh/python-visualization/folium/folium/templates/leaflet.awesome.rotate.min.css%22/%3E%0A%20%20%20%20%0A%20%20%20%20%20%20%20%20%20%20%20%20%3Cmeta%20name%3D%22viewport%22%20content%3D%22width%3Ddevice-width%2C%0A%20%20%20%20%20%20%20%20%20%20%20%20%20%20%20%20initial-scale%3D1.0%2C%20maximum-scale%3D1.0%2C%20user-scalable%3Dno%22%20/%3E%0A%20%20%20%20%20%20%20%20%20%20%20%20%3Cstyle%3E%0A%20%20%20%20%20%20%20%20%20%20%20%20%20%20%20%20%23map_114d471fc2254ddb9bce217d1ba66310%20%7B%0A%20%20%20%20%20%20%20%20%20%20%20%20%20%20%20%20%20%20%20%20position%3A%20relative%3B%0A%20%20%20%20%20%20%20%20%20%20%20%20%20%20%20%20%20%20%20%20width%3A%20100.0%25%3B%0A%20%20%20%20%20%20%20%20%20%20%20%20%20%20%20%20%20%20%20%20height%3A%20100.0%25%3B%0A%20%20%20%20%20%20%20%20%20%20%20%20%20%20%20%20%20%20%20%20left%3A%200.0%25%3B%0A%20%20%20%20%20%20%20%20%20%20%20%20%20%20%20%20%20%20%20%20top%3A%200.0%25%3B%0A%20%20%20%20%20%20%20%20%20%20%20%20%20%20%20%20%7D%0A%20%20%20%20%20%20%20%20%20%20%20%20%3C/style%3E%0A%20%20%20%20%20%20%20%20%0A%20%20%20%20%0A%20%20%20%20%20%20%20%20%20%20%20%20%20%20%20%20%20%20%20%20%3Cstyle%3E%0A%20%20%20%20%20%20%20%20%20%20%20%20%20%20%20%20%20%20%20%20%20%20%20%20.foliumtooltip%20%7B%0A%20%20%20%20%20%20%20%20%20%20%20%20%20%20%20%20%20%20%20%20%20%20%20%20%20%20%20%20%0A%20%20%20%20%20%20%20%20%20%20%20%20%20%20%20%20%20%20%20%20%20%20%20%20%7D%0A%20%20%20%20%20%20%20%20%20%20%20%20%20%20%20%20%20%20%20%20%20%20%20.foliumtooltip%20table%7B%0A%20%20%20%20%20%20%20%20%20%20%20%20%20%20%20%20%20%20%20%20%20%20%20%20%20%20%20%20margin%3A%20auto%3B%0A%20%20%20%20%20%20%20%20%20%20%20%20%20%20%20%20%20%20%20%20%20%20%20%20%7D%0A%20%20%20%20%20%20%20%20%20%20%20%20%20%20%20%20%20%20%20%20%20%20%20%20.foliumtooltip%20tr%7B%0A%20%20%20%20%20%20%20%20%20%20%20%20%20%20%20%20%20%20%20%20%20%20%20%20%20%20%20%20text-align%3A%20left%3B%0A%20%20%20%20%20%20%20%20%20%20%20%20%20%20%20%20%20%20%20%20%20%20%20%20%7D%0A%20%20%20%20%20%20%20%20%20%20%20%20%20%20%20%20%20%20%20%20%20%20%20%20.foliumtooltip%20th%7B%0A%20%20%20%20%20%20%20%20%20%20%20%20%20%20%20%20%20%20%20%20%20%20%20%20%20%20%20%20padding%3A%202px%3B%20padding-right%3A%208px%3B%0A%20%20%20%20%20%20%20%20%20%20%20%20%20%20%20%20%20%20%20%20%20%20%20%20%7D%0A%20%20%20%20%20%20%20%20%20%20%20%20%20%20%20%20%20%20%20%20%3C/style%3E%0A%20%20%20%20%20%20%20%20%20%20%20%20%0A%3C/head%3E%0A%3Cbody%3E%20%20%20%20%0A%20%20%20%20%0A%20%20%20%20%20%20%20%20%20%20%20%20%3Cdiv%20class%3D%22folium-map%22%20id%3D%22map_114d471fc2254ddb9bce217d1ba66310%22%20%3E%3C/div%3E%0A%20%20%20%20%20%20%20%20%0A%3C/body%3E%0A%3Cscript%3E%20%20%20%20%0A%20%20%20%20%0A%20%20%20%20%20%20%20%20%20%20%20%20var%20map_114d471fc2254ddb9bce217d1ba66310%20%3D%20L.map%28%0A%20%20%20%20%20%20%20%20%20%20%20%20%20%20%20%20%22map_114d471fc2254ddb9bce217d1ba66310%22%2C%0A%20%20%20%20%20%20%20%20%20%20%20%20%20%20%20%20%7B%0A%20%20%20%20%20%20%20%20%20%20%20%20%20%20%20%20%20%20%20%20center%3A%20%5B50.09152198326542%2C%209.873067157507782%5D%2C%0A%20%20%20%20%20%20%20%20%20%20%20%20%20%20%20%20%20%20%20%20crs%3A%20L.CRS.EPSG3857%2C%0A%20%20%20%20%20%20%20%20%20%20%20%20%20%20%20%20%20%20%20%20zoom%3A%2010%2C%0A%20%20%20%20%20%20%20%20%20%20%20%20%20%20%20%20%20%20%20%20zoomControl%3A%20true%2C%0A%20%20%20%20%20%20%20%20%20%20%20%20%20%20%20%20%20%20%20%20preferCanvas%3A%20false%2C%0A%20%20%20%20%20%20%20%20%20%20%20%20%20%20%20%20%7D%0A%20%20%20%20%20%20%20%20%20%20%20%20%29%3B%0A%20%20%20%20%20%20%20%20%20%20%20%20L.control.scale%28%29.addTo%28map_114d471fc2254ddb9bce217d1ba66310%29%3B%0A%0A%20%20%20%20%20%20%20%20%20%20%20%20%0A%0A%20%20%20%20%20%20%20%20%0A%20%20%20%20%0A%20%20%20%20%20%20%20%20%20%20%20%20var%20tile_layer_d76111cd71cd4229bcf4079a9c6c84a1%20%3D%20L.tileLayer%28%0A%20%20%20%20%20%20%20%20%20%20%20%20%20%20%20%20%22https%3A//%7Bs%7D.tile.openstreetmap.org/%7Bz%7D/%7Bx%7D/%7By%7D.png%22%2C%0A%20%20%20%20%20%20%20%20%20%20%20%20%20%20%20%20%7B%22attribution%22%3A%20%22Data%20by%20%5Cu0026copy%3B%20%5Cu003ca%20href%3D%5C%22http%3A//openstreetmap.org%5C%22%5Cu003eOpenStreetMap%5Cu003c/a%5Cu003e%2C%20under%20%5Cu003ca%20href%3D%5C%22http%3A//www.openstreetmap.org/copyright%5C%22%5Cu003eODbL%5Cu003c/a%5Cu003e.%22%2C%20%22detectRetina%22%3A%20false%2C%20%22maxNativeZoom%22%3A%2018%2C%20%22maxZoom%22%3A%2018%2C%20%22minZoom%22%3A%200%2C%20%22noWrap%22%3A%20false%2C%20%22opacity%22%3A%201%2C%20%22subdomains%22%3A%20%22abc%22%2C%20%22tms%22%3A%20false%7D%0A%20%20%20%20%20%20%20%20%20%20%20%20%29.addTo%28map_114d471fc2254ddb9bce217d1ba66310%29%3B%0A%20%20%20%20%20%20%20%20%0A%20%20%20%20%0A%20%20%20%20%20%20%20%20%20%20%20%20map_114d471fc2254ddb9bce217d1ba66310.fitBounds%28%0A%20%20%20%20%20%20%20%20%20%20%20%20%20%20%20%20%5B%5B39.36376104689367%2C%20-8.213206798221538%5D%2C%20%5B60.81928291963718%2C%2027.9593411132371%5D%5D%2C%0A%20%20%20%20%20%20%20%20%20%20%20%20%20%20%20%20%7B%7D%0A%20%20%20%20%20%20%20%20%20%20%20%20%29%3B%0A%20%20%20%20%20%20%20%20%0A%20%20%20%20%0A%20%20%20%20%20%20%20%20function%20geo_json_84e8cbe3d7d84eeb8ad4fc0babcc5dbc_styler%28feature%29%20%7B%0A%20%20%20%20%20%20%20%20%20%20%20%20switch%28feature.id%29%20%7B%0A%20%20%20%20%20%20%20%20%20%20%20%20%20%20%20%20default%3A%0A%20%20%20%20%20%20%20%20%20%20%20%20%20%20%20%20%20%20%20%20return%20%7B%22fillOpacity%22%3A%200.5%2C%20%22weight%22%3A%202%7D%3B%0A%20%20%20%20%20%20%20%20%20%20%20%20%7D%0A%20%20%20%20%20%20%20%20%7D%0A%20%20%20%20%20%20%20%20function%20geo_json_84e8cbe3d7d84eeb8ad4fc0babcc5dbc_highlighter%28feature%29%20%7B%0A%20%20%20%20%20%20%20%20%20%20%20%20switch%28feature.id%29%20%7B%0A%20%20%20%20%20%20%20%20%20%20%20%20%20%20%20%20default%3A%0A%20%20%20%20%20%20%20%20%20%20%20%20%20%20%20%20%20%20%20%20return%20%7B%22fillOpacity%22%3A%200.75%7D%3B%0A%20%20%20%20%20%20%20%20%20%20%20%20%7D%0A%20%20%20%20%20%20%20%20%7D%0A%20%20%20%20%20%20%20%20function%20geo_json_84e8cbe3d7d84eeb8ad4fc0babcc5dbc_pointToLayer%28feature%2C%20latlng%29%20%7B%0A%20%20%20%20%20%20%20%20%20%20%20%20var%20opts%20%3D%20%7B%22bubblingMouseEvents%22%3A%20true%2C%20%22color%22%3A%20%22%233388ff%22%2C%20%22dashArray%22%3A%20null%2C%20%22dashOffset%22%3A%20null%2C%20%22fill%22%3A%20true%2C%20%22fillColor%22%3A%20%22%233388ff%22%2C%20%22fillOpacity%22%3A%200.2%2C%20%22fillRule%22%3A%20%22evenodd%22%2C%20%22lineCap%22%3A%20%22round%22%2C%20%22lineJoin%22%3A%20%22round%22%2C%20%22opacity%22%3A%201.0%2C%20%22radius%22%3A%202%2C%20%22stroke%22%3A%20true%2C%20%22weight%22%3A%203%7D%3B%0A%20%20%20%20%20%20%20%20%20%20%20%20%0A%20%20%20%20%20%20%20%20%20%20%20%20let%20style%20%3D%20geo_json_84e8cbe3d7d84eeb8ad4fc0babcc5dbc_styler%28feature%29%0A%20%20%20%20%20%20%20%20%20%20%20%20Object.assign%28opts%2C%20style%29%0A%20%20%20%20%20%20%20%20%20%20%20%20%0A%20%20%20%20%20%20%20%20%20%20%20%20return%20new%20L.CircleMarker%28latlng%2C%20opts%29%0A%20%20%20%20%20%20%20%20%7D%0A%0A%20%20%20%20%20%20%20%20function%20geo_json_84e8cbe3d7d84eeb8ad4fc0babcc5dbc_onEachFeature%28feature%2C%20layer%29%20%7B%0A%20%20%20%20%20%20%20%20%20%20%20%20layer.on%28%7B%0A%20%20%20%20%20%20%20%20%20%20%20%20%20%20%20%20mouseout%3A%20function%28e%29%20%7B%0A%20%20%20%20%20%20%20%20%20%20%20%20%20%20%20%20%20%20%20%20if%28typeof%20e.target.setStyle%20%3D%3D%3D%20%22function%22%29%7B%0A%20%20%20%20%20%20%20%20%20%20%20%20%20%20%20%20%20%20%20%20%20%20%20%20geo_json_84e8cbe3d7d84eeb8ad4fc0babcc5dbc.resetStyle%28e.target%29%3B%0A%20%20%20%20%20%20%20%20%20%20%20%20%20%20%20%20%20%20%20%20%7D%0A%20%20%20%20%20%20%20%20%20%20%20%20%20%20%20%20%7D%2C%0A%20%20%20%20%20%20%20%20%20%20%20%20%20%20%20%20mouseover%3A%20function%28e%29%20%7B%0A%20%20%20%20%20%20%20%20%20%20%20%20%20%20%20%20%20%20%20%20if%28typeof%20e.target.setStyle%20%3D%3D%3D%20%22function%22%29%7B%0A%20%20%20%20%20%20%20%20%20%20%20%20%20%20%20%20%20%20%20%20%20%20%20%20const%20highlightStyle%20%3D%20geo_json_84e8cbe3d7d84eeb8ad4fc0babcc5dbc_highlighter%28e.target.feature%29%0A%20%20%20%20%20%20%20%20%20%20%20%20%20%20%20%20%20%20%20%20%20%20%20%20e.target.setStyle%28highlightStyle%29%3B%0A%20%20%20%20%20%20%20%20%20%20%20%20%20%20%20%20%20%20%20%20%7D%0A%20%20%20%20%20%20%20%20%20%20%20%20%20%20%20%20%7D%2C%0A%20%20%20%20%20%20%20%20%20%20%20%20%7D%29%3B%0A%20%20%20%20%20%20%20%20%7D%3B%0A%20%20%20%20%20%20%20%20var%20geo_json_84e8cbe3d7d84eeb8ad4fc0babcc5dbc%20%3D%20L.geoJson%28null%2C%20%7B%0A%20%20%20%20%20%20%20%20%20%20%20%20%20%20%20%20onEachFeature%3A%20geo_json_84e8cbe3d7d84eeb8ad4fc0babcc5dbc_onEachFeature%2C%0A%20%20%20%20%20%20%20%20%20%20%20%20%0A%20%20%20%20%20%20%20%20%20%20%20%20%20%20%20%20style%3A%20geo_json_84e8cbe3d7d84eeb8ad4fc0babcc5dbc_styler%2C%0A%20%20%20%20%20%20%20%20%20%20%20%20%20%20%20%20pointToLayer%3A%20geo_json_84e8cbe3d7d84eeb8ad4fc0babcc5dbc_pointToLayer%0A%20%20%20%20%20%20%20%20%7D%29%3B%0A%0A%20%20%20%20%20%20%20%20function%20geo_json_84e8cbe3d7d84eeb8ad4fc0babcc5dbc_add%20%28data%29%20%7B%0A%20%20%20%20%20%20%20%20%20%20%20%20geo_json_84e8cbe3d7d84eeb8ad4fc0babcc5dbc%0A%20%20%20%20%20%20%20%20%20%20%20%20%20%20%20%20.addData%28data%29%0A%20%20%20%20%20%20%20%20%20%20%20%20%20%20%20%20.addTo%28map_114d471fc2254ddb9bce217d1ba66310%29%3B%0A%20%20%20%20%20%20%20%20%7D%0A%20%20%20%20%20%20%20%20%20%20%20%20geo_json_84e8cbe3d7d84eeb8ad4fc0babcc5dbc_add%28%7B%22bbox%22%3A%20%5B-8.213206798221538%2C%2039.36376104689367%2C%2027.9593411132371%2C%2060.81928291963718%5D%2C%20%22features%22%3A%20%5B%7B%22bbox%22%3A%20%5B-8.213206798221538%2C%2039.36376104689367%2C%20-8.213206798221538%2C%2039.36376104689367%5D%2C%20%22geometry%22%3A%20%7B%22coordinates%22%3A%20%5B-8.213206798221538%2C%2039.36376104689367%5D%2C%20%22type%22%3A%20%22Point%22%7D%2C%20%22id%22%3A%20%220%22%2C%20%22properties%22%3A%20%7B%22acquisition_date%22%3A%20%222017-12-21%2011%3A25%3A01%22%2C%20%22labels%22%3A%20%5B%22Complex%20cultivation%20patterns%22%2C%20%22Land%20principally%20occupied%20by%20agriculture%2C%20with%20significant%20areas%20of%20natural%20vegetation%22%2C%20%22Broad-leaved%20forest%22%2C%20%22Transitional%20woodland/shrub%22%5D%2C%20%22name%22%3A%20%22S2A_MSIL2A_20171221T112501_56_35%22%2C%20%22tile_source%22%3A%20%22S2A_MSIL1C_20171221T112501_N0206_R037_T29SND_20171221T114356.SAFE%22%7D%2C%20%22type%22%3A%20%22Feature%22%7D%2C%20%7B%22bbox%22%3A%20%5B-6.890686649586739%2C%2052.30844251236928%2C%20-6.890686649586739%2C%2052.30844251236928%5D%2C%20%22geometry%22%3A%20%7B%22coordinates%22%3A%20%5B-6.890686649586739%2C%2052.30844251236928%5D%2C%20%22type%22%3A%20%22Point%22%7D%2C%20%22id%22%3A%20%221%22%2C%20%22properties%22%3A%20%7B%22acquisition_date%22%3A%20%222017-06-17%2011%3A33%3A21%22%2C%20%22labels%22%3A%20%5B%22Non-irrigated%20arable%20land%22%2C%20%22Pastures%22%5D%2C%20%22name%22%3A%20%22S2A_MSIL2A_20170617T113321_36_85%22%2C%20%22tile_source%22%3A%20%22S2A_MSIL1C_20170617T113321_N0205_R080_T29UPU_20170617T113319.SAFE%22%7D%2C%20%22type%22%3A%20%22Feature%22%7D%2C%20%7B%22bbox%22%3A%20%5B25.061582874332363%2C%2056.219499068259196%2C%2025.061582874332363%2C%2056.219499068259196%5D%2C%20%22geometry%22%3A%20%7B%22coordinates%22%3A%20%5B25.061582874332363%2C%2056.219499068259196%5D%2C%20%22type%22%3A%20%22Point%22%7D%2C%20%22id%22%3A%20%222%22%2C%20%22properties%22%3A%20%7B%22acquisition_date%22%3A%20%222017-09-27%2009%3A40%3A19%22%2C%20%22labels%22%3A%20%5B%22Land%20principally%20occupied%20by%20agriculture%2C%20with%20significant%20areas%20of%20natural%20vegetation%22%2C%20%22Broad-leaved%20forest%22%2C%20%22Mixed%20forest%22%2C%20%22Transitional%20woodland/shrub%22%5D%2C%20%22name%22%3A%20%22S2B_MSIL2A_20170927T094019_66_56%22%2C%20%22tile_source%22%3A%20%22S2B_MSIL1C_20170927T094019_N0205_R036_T35VLC_20170927T094016.SAFE%22%7D%2C%20%22type%22%3A%20%22Feature%22%7D%2C%20%7B%22bbox%22%3A%20%5B21.49223428565407%2C%2044.72608040968221%2C%2021.49223428565407%2C%2044.72608040968221%5D%2C%20%22geometry%22%3A%20%7B%22coordinates%22%3A%20%5B21.49223428565407%2C%2044.72608040968221%5D%2C%20%22type%22%3A%20%22Point%22%7D%2C%20%22id%22%3A%20%223%22%2C%20%22properties%22%3A%20%7B%22acquisition_date%22%3A%20%222017-09-14%2009%3A30%3A29%22%2C%20%22labels%22%3A%20%5B%22Non-irrigated%20arable%20land%22%2C%20%22Land%20principally%20occupied%20by%20agriculture%2C%20with%20significant%20areas%20of%20natural%20vegetation%22%2C%20%22Broad-leaved%20forest%22%5D%2C%20%22name%22%3A%20%22S2B_MSIL2A_20170914T093029_32_39%22%2C%20%22tile_source%22%3A%20%22S2B_MSIL1C_20170914T093029_N0205_R136_T34TEQ_20170914T093654.SAFE%22%7D%2C%20%22type%22%3A%20%22Feature%22%7D%2C%20%7B%22bbox%22%3A%20%5B-6.758362574665499%2C%2053.179993317824106%2C%20-6.758362574665499%2C%2053.179993317824106%5D%2C%20%22geometry%22%3A%20%7B%22coordinates%22%3A%20%5B-6.758362574665499%2C%2053.179993317824106%5D%2C%20%22type%22%3A%20%22Point%22%7D%2C%20%22id%22%3A%20%224%22%2C%20%22properties%22%3A%20%7B%22acquisition_date%22%3A%20%222018-04-21%2011%3A43%3A49%22%2C%20%22labels%22%3A%20%5B%22Non-irrigated%20arable%20land%22%2C%20%22Pastures%22%2C%20%22Broad-leaved%20forest%22%5D%2C%20%22name%22%3A%20%22S2B_MSIL2A_20180421T114349_41_4%22%2C%20%22tile_source%22%3A%20%22S2B_MSIL1C_20180421T114349_N0206_R123_T29UPU_20180421T134219.SAFE%22%7D%2C%20%22type%22%3A%20%22Feature%22%7D%2C%20%7B%22bbox%22%3A%20%5B-6.680849684127433%2C%2052.61743383004935%2C%20-6.680849684127433%2C%2052.61743383004935%5D%2C%20%22geometry%22%3A%20%7B%22coordinates%22%3A%20%5B-6.680849684127433%2C%2052.61743383004935%5D%2C%20%22type%22%3A%20%22Point%22%7D%2C%20%22id%22%3A%20%225%22%2C%20%22properties%22%3A%20%7B%22acquisition_date%22%3A%20%222018-04-21%2011%3A43%3A49%22%2C%20%22labels%22%3A%20%5B%22Non-irrigated%20arable%20land%22%2C%20%22Pastures%22%5D%2C%20%22name%22%3A%20%22S2B_MSIL2A_20180421T114349_47_56%22%2C%20%22tile_source%22%3A%20%22S2B_MSIL1C_20180421T114349_N0206_R123_T29UPU_20180421T134219.SAFE%22%7D%2C%20%22type%22%3A%20%22Feature%22%7D%2C%20%7B%22bbox%22%3A%20%5B21.65187303011116%2C%2044.09490137175899%2C%2021.65187303011116%2C%2044.09490137175899%5D%2C%20%22geometry%22%3A%20%7B%22coordinates%22%3A%20%5B21.65187303011116%2C%2044.09490137175899%5D%2C%20%22type%22%3A%20%22Point%22%7D%2C%20%22id%22%3A%20%226%22%2C%20%22properties%22%3A%20%7B%22acquisition_date%22%3A%20%222018-05-02%2009%3A30%3A39%22%2C%20%22labels%22%3A%20%5B%22Complex%20cultivation%20patterns%22%2C%20%22Land%20principally%20occupied%20by%20agriculture%2C%20with%20significant%20areas%20of%20natural%20vegetation%22%2C%20%22Broad-leaved%20forest%22%2C%20%22Transitional%20woodland/shrub%22%5D%2C%20%22name%22%3A%20%22S2B_MSIL2A_20180502T093039_43_14%22%2C%20%22tile_source%22%3A%20%22S2B_MSIL1C_20180502T093039_N0206_R136_T34TEP_20180502T113747.SAFE%22%7D%2C%20%22type%22%3A%20%22Feature%22%7D%2C%20%7B%22bbox%22%3A%20%5B27.9593411132371%2C%2060.81928291963718%2C%2027.9593411132371%2C%2060.81928291963718%5D%2C%20%22geometry%22%3A%20%7B%22coordinates%22%3A%20%5B27.9593411132371%2C%2060.81928291963718%5D%2C%20%22type%22%3A%20%22Point%22%7D%2C%20%22id%22%3A%20%227%22%2C%20%22properties%22%3A%20%7B%22acquisition_date%22%3A%20%222017-09-24%2009%3A30%3A19%22%2C%20%22labels%22%3A%20%5B%22Coniferous%20forest%22%2C%20%22Transitional%20woodland/shrub%22%5D%2C%20%22name%22%3A%20%22S2B_MSIL2A_20170924T093019_43_47%22%2C%20%22tile_source%22%3A%20%22S2B_MSIL1C_20170924T093019_N0205_R136_T35VNH_20170924T093132.SAFE%22%7D%2C%20%22type%22%3A%20%22Feature%22%7D%2C%20%7B%22bbox%22%3A%20%5B-7.442302856994679%2C%2052.64068597587841%2C%20-7.442302856994679%2C%2052.64068597587841%5D%2C%20%22geometry%22%3A%20%7B%22coordinates%22%3A%20%5B-7.442302856994679%2C%2052.64068597587841%5D%2C%20%22type%22%3A%20%22Point%22%7D%2C%20%22id%22%3A%20%228%22%2C%20%22properties%22%3A%20%7B%22acquisition_date%22%3A%20%222017-06-17%2011%3A33%3A21%22%2C%20%22labels%22%3A%20%5B%22Pastures%22%5D%2C%20%22name%22%3A%20%22S2A_MSIL2A_20170617T113321_4_55%22%2C%20%22tile_source%22%3A%20%22S2A_MSIL1C_20170617T113321_N0205_R080_T29UPU_20170617T113319.SAFE%22%7D%2C%20%22type%22%3A%20%22Feature%22%7D%5D%2C%20%22type%22%3A%20%22FeatureCollection%22%7D%29%3B%0A%0A%20%20%20%20%20%20%20%20%0A%20%20%20%20%0A%20%20%20%20geo_json_84e8cbe3d7d84eeb8ad4fc0babcc5dbc.bindTooltip%28%0A%20%20%20%20function%28layer%29%7B%0A%20%20%20%20let%20div%20%3D%20L.DomUtil.create%28%27div%27%29%3B%0A%20%20%20%20%0A%20%20%20%20let%20handleObject%20%3D%20feature%3D%3Etypeof%28feature%29%3D%3D%27object%27%20%3F%20JSON.stringify%28feature%29%20%3A%20feature%3B%0A%20%20%20%20let%20fields%20%3D%20%5B%22labels%22%2C%20%22tile_source%22%2C%20%22acquisition_date%22%2C%20%22name%22%5D%3B%0A%20%20%20%20let%20aliases%20%3D%20%5B%22labels%22%2C%20%22tile_source%22%2C%20%22acquisition_date%22%2C%20%22name%22%5D%3B%0A%20%20%20%20let%20table%20%3D%20%27%3Ctable%3E%27%20%2B%0A%20%20%20%20%20%20%20%20String%28%0A%20%20%20%20%20%20%20%20fields.map%28%0A%20%20%20%20%20%20%20%20%28v%2Ci%29%3D%3E%0A%20%20%20%20%20%20%20%20%60%3Ctr%3E%0A%20%20%20%20%20%20%20%20%20%20%20%20%3Cth%3E%24%7Baliases%5Bi%5D%7D%3C/th%3E%0A%20%20%20%20%20%20%20%20%20%20%20%20%0A%20%20%20%20%20%20%20%20%20%20%20%20%3Ctd%3E%24%7BhandleObject%28layer.feature.properties%5Bv%5D%29%7D%3C/td%3E%0A%20%20%20%20%20%20%20%20%3C/tr%3E%60%29.join%28%27%27%29%29%0A%20%20%20%20%2B%27%3C/table%3E%27%3B%0A%20%20%20%20div.innerHTML%3Dtable%3B%0A%20%20%20%20%0A%20%20%20%20return%20div%0A%20%20%20%20%7D%0A%20%20%20%20%2C%7B%22className%22%3A%20%22foliumtooltip%22%2C%20%22sticky%22%3A%20true%7D%29%3B%0A%20%20%20%20%20%20%20%20%20%20%20%20%20%20%20%20%20%20%20%20%20%0A%3C/script%3E onload=\"this.contentDocument.open();this.contentDocument.write(    decodeURIComponent(this.getAttribute('data-html')));this.contentDocument.close();\" allowfullscreen webkitallowfullscreen mozallowfullscreen></iframe></div></div>"
      ],
      "text/plain": [
       "<folium.folium.Map at 0x7fc0e873c210>"
      ]
     },
     "execution_count": null,
     "metadata": {},
     "output_type": "execute_result"
    }
   ],
   "source": [
    "gdf = get_gdf_from_s1_patch_dir(s1_test_dataset)\n",
    "# if polygons are close enough together, they could be plotted\n",
    "# together\n",
    "marker_gdf.explore()\n"
   ]
  },
  {
   "cell_type": "markdown",
   "metadata": {},
   "source": [
    "## Adding metadata"
   ]
  },
  {
   "cell_type": "markdown",
   "metadata": {},
   "source": [
    "### Adding BEN-Country metadata"
   ]
  },
  {
   "cell_type": "code",
   "execution_count": null,
   "metadata": {},
   "outputs": [],
   "source": [
    "# export\n",
    "def _get_country_borders(force_download: bool = False) -> geopandas.GeoDataFrame:\n",
    "    \"Get all country borders\"\n",
    "    # directly filter out irrelevant lines\n",
    "    rel_cols = [\n",
    "        \"ISO_A3\",\n",
    "        \"ISO_A2\",\n",
    "        \"NAME\",\n",
    "        \"geometry\",\n",
    "    ]\n",
    "\n",
    "    file_path = _download_and_cache_url(COUNTRIES_URL, force_download=force_download)\n",
    "\n",
    "    gdf = geopandas.read_file(file_path)\n",
    "    return gdf[rel_cols]\n"
   ]
  },
  {
   "cell_type": "code",
   "execution_count": null,
   "metadata": {},
   "outputs": [
    {
     "data": {
      "text/html": [
       "<div>\n",
       "<style scoped>\n",
       "    .dataframe tbody tr th:only-of-type {\n",
       "        vertical-align: middle;\n",
       "    }\n",
       "\n",
       "    .dataframe tbody tr th {\n",
       "        vertical-align: top;\n",
       "    }\n",
       "\n",
       "    .dataframe thead th {\n",
       "        text-align: right;\n",
       "    }\n",
       "</style>\n",
       "<table border=\"1\" class=\"dataframe\">\n",
       "  <thead>\n",
       "    <tr style=\"text-align: right;\">\n",
       "      <th></th>\n",
       "      <th>ISO_A3</th>\n",
       "      <th>ISO_A2</th>\n",
       "      <th>NAME</th>\n",
       "      <th>geometry</th>\n",
       "    </tr>\n",
       "  </thead>\n",
       "  <tbody>\n",
       "    <tr>\n",
       "      <th>0</th>\n",
       "      <td>IDN</td>\n",
       "      <td>ID</td>\n",
       "      <td>Indonesia</td>\n",
       "      <td>MULTIPOLYGON (((117.70361 4.16341, 117.70361 4...</td>\n",
       "    </tr>\n",
       "    <tr>\n",
       "      <th>1</th>\n",
       "      <td>MYS</td>\n",
       "      <td>MY</td>\n",
       "      <td>Malaysia</td>\n",
       "      <td>MULTIPOLYGON (((117.70361 4.16341, 117.69711 4...</td>\n",
       "    </tr>\n",
       "    <tr>\n",
       "      <th>2</th>\n",
       "      <td>CHL</td>\n",
       "      <td>CL</td>\n",
       "      <td>Chile</td>\n",
       "      <td>MULTIPOLYGON (((-69.51009 -17.50659, -69.50611...</td>\n",
       "    </tr>\n",
       "  </tbody>\n",
       "</table>\n",
       "</div>"
      ],
      "text/plain": [
       "  ISO_A3 ISO_A2       NAME                                           geometry\n",
       "0    IDN     ID  Indonesia  MULTIPOLYGON (((117.70361 4.16341, 117.70361 4...\n",
       "1    MYS     MY   Malaysia  MULTIPOLYGON (((117.70361 4.16341, 117.69711 4...\n",
       "2    CHL     CL      Chile  MULTIPOLYGON (((-69.51009 -17.50659, -69.50611..."
      ]
     },
     "execution_count": null,
     "metadata": {},
     "output_type": "execute_result"
    }
   ],
   "source": [
    "# hide\n",
    "countries = _get_country_borders()\n",
    "countries.head(3)\n",
    "# countries.head(3).explore()\n"
   ]
  },
  {
   "cell_type": "code",
   "execution_count": null,
   "metadata": {},
   "outputs": [],
   "source": [
    "# hide\n",
    "# check that the countries constants are compatible with the chosen country shapefile\n",
    "countries = _get_country_borders()\n",
    "# ensures that the names match with my country border shapefile\n",
    "assert len(countries[countries[\"NAME\"].isin(COUNTRIES)]) == len(COUNTRIES)\n",
    "# ensures that the iso_a2 match with my country border shapefile\n",
    "assert len(countries[countries[\"ISO_A2\"].isin(COUNTRIES_ISO_A2)]) == len(\n",
    "    COUNTRIES_ISO_A2\n",
    ")\n"
   ]
  },
  {
   "cell_type": "code",
   "execution_count": null,
   "metadata": {},
   "outputs": [],
   "source": [
    "# export\n",
    "def get_ben_countries_gdf() -> geopandas.GeoDataFrame:\n",
    "    \"\"\"\n",
    "    Return a `GeoDataFrame` that includes the shapes of each\n",
    "    country from the BigEarthNet dataset.\n",
    "\n",
    "    This is a subset of the naturalearthdata 10m-admin-0-countries dataset:\n",
    "\n",
    "    https://www.naturalearthdata.com/downloads/10m-cultural-vectors/10m-admin-0-countries\n",
    "    \"\"\"\n",
    "    borders = _get_country_borders()\n",
    "    ben_borders = borders[borders[\"ISO_A2\"].isin(COUNTRIES_ISO_A2)].copy()\n",
    "    return ben_borders\n"
   ]
  },
  {
   "cell_type": "code",
   "execution_count": null,
   "metadata": {},
   "outputs": [],
   "source": [
    "# export\n",
    "def assign_to_ben_country(\n",
    "    gdf: geopandas.GeoDataFrame, crs: str = \"epsg:3035\"\n",
    ") -> geopandas.GeoDataFrame:\n",
    "    \"\"\"\n",
    "    Takes a GeoDataFrame as an input and appends a `country` column.\n",
    "    The `country` column indicates the closest BEN country.\n",
    "\n",
    "    The function calculates the centroid of each input geometry with the `crs` projection.\n",
    "    These centroids are then used to find and assign the entry to the closest BEN country.\n",
    "    Centroids help to more deterministically assign a border-crossing patch to a country.\n",
    "    For the small BEN patches (1200mx1200m) the _error_ of the approximation is negligible\n",
    "    and a good heuristic to assign the patch to the country with the largest overlap.\n",
    "    \"\"\"\n",
    "    with Progress(\n",
    "        TextColumn(\"{task.description}\"),\n",
    "        SpinnerColumn(\"bouncingBall\"),\n",
    "        TimeElapsedColumn(),\n",
    "        transient=True,\n",
    "    ) as progress:\n",
    "        task = progress.add_task(\"Reprojecting\", total=1)\n",
    "        local_gdf = gdf.to_crs(crs)\n",
    "        progress.update(task, completed=1)\n",
    "\n",
    "        # has column called NAME for country name\n",
    "        task = progress.add_task(\"Loading country shapes\", total=1)\n",
    "        borders = get_ben_countries_gdf()\n",
    "        borders = borders.to_crs(crs)\n",
    "        progress.update(task, completed=1)\n",
    "\n",
    "        task = progress.add_task(\"Calculating centroids\", total=1)\n",
    "        local_gdf.geometry = local_gdf.geometry.centroid\n",
    "        progress.update(task, completed=1)\n",
    "\n",
    "        task = progress.add_task(\"Assigning data to countries\", total=1)\n",
    "        nn_gdf = local_gdf.sjoin_nearest(borders, how=\"inner\")\n",
    "        progress.update(task, completed=1)\n",
    "\n",
    "        gdf[\"country\"] = nn_gdf[\"NAME\"]\n",
    "    return gdf\n"
   ]
  },
  {
   "cell_type": "code",
   "execution_count": null,
   "metadata": {},
   "outputs": [],
   "source": [
    "# hide\n",
    "# Requires geopy to be installed, but helps to quickly get a\n",
    "# couple of values for testing\n",
    "\n",
    "# import geopandas.tools\n",
    "# g = geopandas.tools.geocode([\"Helsinki\"])\n",
    "# g.geometry\n"
   ]
  },
  {
   "cell_type": "code",
   "execution_count": null,
   "metadata": {},
   "outputs": [
    {
     "data": {
      "text/html": [
       "<pre style=\"white-space:pre;overflow-x:auto;line-height:normal;font-family:Menlo,'DejaVu Sans Mono',consolas,'Courier New',monospace\">Reprojecting                         <span style=\"color: #808000; text-decoration-color: #808000\">0:00:00</span>\n",
       "Loading country shapes               <span style=\"color: #808000; text-decoration-color: #808000\">0:00:00</span>\n",
       "Calculating centroids                <span style=\"color: #808000; text-decoration-color: #808000\">0:00:00</span>\n",
       "Assigning data to countries <span style=\"color: #008000; text-decoration-color: #008000\">(     ●)</span> <span style=\"color: #808000; text-decoration-color: #808000\">0:00:00</span>\n",
       "</pre>\n"
      ],
      "text/plain": [
       "Reprojecting                         \u001b[33m0:00:00\u001b[0m\n",
       "Loading country shapes               \u001b[33m0:00:00\u001b[0m\n",
       "Calculating centroids                \u001b[33m0:00:00\u001b[0m\n",
       "Assigning data to countries \u001b[32m(     ●)\u001b[0m \u001b[33m0:00:00\u001b[0m\n"
      ]
     },
     "metadata": {},
     "output_type": "display_data"
    },
    {
     "data": {
      "text/html": [
       "<pre style=\"white-space:pre;overflow-x:auto;line-height:normal;font-family:Menlo,'DejaVu Sans Mono',consolas,'Courier New',monospace\"></pre>\n"
      ],
      "text/plain": []
     },
     "metadata": {},
     "output_type": "display_data"
    },
    {
     "data": {
      "text/html": [
       "<pre style=\"white-space:pre;overflow-x:auto;line-height:normal;font-family:Menlo,'DejaVu Sans Mono',consolas,'Courier New',monospace\">\n",
       "</pre>\n"
      ],
      "text/plain": [
       "\n"
      ]
     },
     "metadata": {},
     "output_type": "display_data"
    }
   ],
   "source": [
    "# hide_output\n",
    "from shapely.geometry import Point\n",
    "\n",
    "g = geopandas.GeoDataFrame(\n",
    "    {\n",
    "        \"city\": [\n",
    "            \"Dublin\",\n",
    "            \"Pristina\",\n",
    "            \"Oslo\",\n",
    "            \"Geneva\",\n",
    "            \"Vienna\",\n",
    "        ],\n",
    "        \"geometry\": [\n",
    "            Point(-6.26027, 53.34976),\n",
    "            Point(21.27082, 42.69962),\n",
    "            Point(24.94275, 60.16749),\n",
    "            Point(6.14392, 46.22565),\n",
    "            Point(16.37122, 48.22021),\n",
    "        ],\n",
    "    },\n",
    "    crs=\"epsg:4326\",\n",
    ")\n",
    "\n",
    "assigned_gdf = assign_to_ben_country(g)\n",
    "assert assigned_gdf[\"country\"].tolist() == [\n",
    "    \"Ireland\",\n",
    "    \"Kosovo\",\n",
    "    \"Finland\",\n",
    "    \"Switzerland\",\n",
    "    \"Austria\",\n",
    "]\n"
   ]
  },
  {
   "cell_type": "code",
   "execution_count": null,
   "metadata": {},
   "outputs": [
    {
     "data": {
      "text/html": [
       "<pre style=\"white-space:pre;overflow-x:auto;line-height:normal;font-family:Menlo,'DejaVu Sans Mono',consolas,'Courier New',monospace\">Reprojecting                         <span style=\"color: #808000; text-decoration-color: #808000\">0:00:00</span>\n",
       "Loading country shapes               <span style=\"color: #808000; text-decoration-color: #808000\">0:00:00</span>\n",
       "Calculating centroids                <span style=\"color: #808000; text-decoration-color: #808000\">0:00:00</span>\n",
       "Assigning data to countries <span style=\"color: #008000; text-decoration-color: #008000\">(    ● )</span> <span style=\"color: #808000; text-decoration-color: #808000\">0:00:00</span>\n",
       "</pre>\n"
      ],
      "text/plain": [
       "Reprojecting                         \u001b[33m0:00:00\u001b[0m\n",
       "Loading country shapes               \u001b[33m0:00:00\u001b[0m\n",
       "Calculating centroids                \u001b[33m0:00:00\u001b[0m\n",
       "Assigning data to countries \u001b[32m(    ● )\u001b[0m \u001b[33m0:00:00\u001b[0m\n"
      ]
     },
     "metadata": {},
     "output_type": "display_data"
    },
    {
     "data": {
      "text/html": [
       "<pre style=\"white-space:pre;overflow-x:auto;line-height:normal;font-family:Menlo,'DejaVu Sans Mono',consolas,'Courier New',monospace\"></pre>\n"
      ],
      "text/plain": []
     },
     "metadata": {},
     "output_type": "display_data"
    },
    {
     "data": {
      "text/html": [
       "<pre style=\"white-space:pre;overflow-x:auto;line-height:normal;font-family:Menlo,'DejaVu Sans Mono',consolas,'Courier New',monospace\">\n",
       "</pre>\n"
      ],
      "text/plain": [
       "\n"
      ]
     },
     "metadata": {},
     "output_type": "display_data"
    },
    {
     "data": {
      "text/html": [
       "<div style=\"width:100%;\"><div style=\"position:relative;width:100%;height:0;padding-bottom:60%;\"><span style=\"color:#565656\">Make this Notebook Trusted to load map: File -> Trust Notebook</span><iframe src=\"about:blank\" style=\"position:absolute;width:100%;height:100%;left:0;top:0;border:none !important;\" data-html=%3C%21DOCTYPE%20html%3E%0A%3Chead%3E%20%20%20%20%0A%20%20%20%20%3Cmeta%20http-equiv%3D%22content-type%22%20content%3D%22text/html%3B%20charset%3DUTF-8%22%20/%3E%0A%20%20%20%20%0A%20%20%20%20%20%20%20%20%3Cscript%3E%0A%20%20%20%20%20%20%20%20%20%20%20%20L_NO_TOUCH%20%3D%20false%3B%0A%20%20%20%20%20%20%20%20%20%20%20%20L_DISABLE_3D%20%3D%20false%3B%0A%20%20%20%20%20%20%20%20%3C/script%3E%0A%20%20%20%20%0A%20%20%20%20%3Cstyle%3Ehtml%2C%20body%20%7Bwidth%3A%20100%25%3Bheight%3A%20100%25%3Bmargin%3A%200%3Bpadding%3A%200%3B%7D%3C/style%3E%0A%20%20%20%20%3Cstyle%3E%23map%20%7Bposition%3Aabsolute%3Btop%3A0%3Bbottom%3A0%3Bright%3A0%3Bleft%3A0%3B%7D%3C/style%3E%0A%20%20%20%20%3Cscript%20src%3D%22https%3A//cdn.jsdelivr.net/npm/leaflet%401.6.0/dist/leaflet.js%22%3E%3C/script%3E%0A%20%20%20%20%3Cscript%20src%3D%22https%3A//code.jquery.com/jquery-1.12.4.min.js%22%3E%3C/script%3E%0A%20%20%20%20%3Cscript%20src%3D%22https%3A//maxcdn.bootstrapcdn.com/bootstrap/3.2.0/js/bootstrap.min.js%22%3E%3C/script%3E%0A%20%20%20%20%3Cscript%20src%3D%22https%3A//cdnjs.cloudflare.com/ajax/libs/Leaflet.awesome-markers/2.0.2/leaflet.awesome-markers.js%22%3E%3C/script%3E%0A%20%20%20%20%3Clink%20rel%3D%22stylesheet%22%20href%3D%22https%3A//cdn.jsdelivr.net/npm/leaflet%401.6.0/dist/leaflet.css%22/%3E%0A%20%20%20%20%3Clink%20rel%3D%22stylesheet%22%20href%3D%22https%3A//maxcdn.bootstrapcdn.com/bootstrap/3.2.0/css/bootstrap.min.css%22/%3E%0A%20%20%20%20%3Clink%20rel%3D%22stylesheet%22%20href%3D%22https%3A//maxcdn.bootstrapcdn.com/bootstrap/3.2.0/css/bootstrap-theme.min.css%22/%3E%0A%20%20%20%20%3Clink%20rel%3D%22stylesheet%22%20href%3D%22https%3A//maxcdn.bootstrapcdn.com/font-awesome/4.6.3/css/font-awesome.min.css%22/%3E%0A%20%20%20%20%3Clink%20rel%3D%22stylesheet%22%20href%3D%22https%3A//cdnjs.cloudflare.com/ajax/libs/Leaflet.awesome-markers/2.0.2/leaflet.awesome-markers.css%22/%3E%0A%20%20%20%20%3Clink%20rel%3D%22stylesheet%22%20href%3D%22https%3A//cdn.jsdelivr.net/gh/python-visualization/folium/folium/templates/leaflet.awesome.rotate.min.css%22/%3E%0A%20%20%20%20%0A%20%20%20%20%20%20%20%20%20%20%20%20%3Cmeta%20name%3D%22viewport%22%20content%3D%22width%3Ddevice-width%2C%0A%20%20%20%20%20%20%20%20%20%20%20%20%20%20%20%20initial-scale%3D1.0%2C%20maximum-scale%3D1.0%2C%20user-scalable%3Dno%22%20/%3E%0A%20%20%20%20%20%20%20%20%20%20%20%20%3Cstyle%3E%0A%20%20%20%20%20%20%20%20%20%20%20%20%20%20%20%20%23map_5179b00125344241af983413eaa41f7e%20%7B%0A%20%20%20%20%20%20%20%20%20%20%20%20%20%20%20%20%20%20%20%20position%3A%20relative%3B%0A%20%20%20%20%20%20%20%20%20%20%20%20%20%20%20%20%20%20%20%20width%3A%20100.0%25%3B%0A%20%20%20%20%20%20%20%20%20%20%20%20%20%20%20%20%20%20%20%20height%3A%20100.0%25%3B%0A%20%20%20%20%20%20%20%20%20%20%20%20%20%20%20%20%20%20%20%20left%3A%200.0%25%3B%0A%20%20%20%20%20%20%20%20%20%20%20%20%20%20%20%20%20%20%20%20top%3A%200.0%25%3B%0A%20%20%20%20%20%20%20%20%20%20%20%20%20%20%20%20%7D%0A%20%20%20%20%20%20%20%20%20%20%20%20%3C/style%3E%0A%20%20%20%20%20%20%20%20%0A%20%20%20%20%0A%20%20%20%20%20%20%20%20%20%20%20%20%20%20%20%20%20%20%20%20%3Cstyle%3E%0A%20%20%20%20%20%20%20%20%20%20%20%20%20%20%20%20%20%20%20%20%20%20%20%20.foliumtooltip%20%7B%0A%20%20%20%20%20%20%20%20%20%20%20%20%20%20%20%20%20%20%20%20%20%20%20%20%20%20%20%20%0A%20%20%20%20%20%20%20%20%20%20%20%20%20%20%20%20%20%20%20%20%20%20%20%20%7D%0A%20%20%20%20%20%20%20%20%20%20%20%20%20%20%20%20%20%20%20%20%20%20%20.foliumtooltip%20table%7B%0A%20%20%20%20%20%20%20%20%20%20%20%20%20%20%20%20%20%20%20%20%20%20%20%20%20%20%20%20margin%3A%20auto%3B%0A%20%20%20%20%20%20%20%20%20%20%20%20%20%20%20%20%20%20%20%20%20%20%20%20%7D%0A%20%20%20%20%20%20%20%20%20%20%20%20%20%20%20%20%20%20%20%20%20%20%20%20.foliumtooltip%20tr%7B%0A%20%20%20%20%20%20%20%20%20%20%20%20%20%20%20%20%20%20%20%20%20%20%20%20%20%20%20%20text-align%3A%20left%3B%0A%20%20%20%20%20%20%20%20%20%20%20%20%20%20%20%20%20%20%20%20%20%20%20%20%7D%0A%20%20%20%20%20%20%20%20%20%20%20%20%20%20%20%20%20%20%20%20%20%20%20%20.foliumtooltip%20th%7B%0A%20%20%20%20%20%20%20%20%20%20%20%20%20%20%20%20%20%20%20%20%20%20%20%20%20%20%20%20padding%3A%202px%3B%20padding-right%3A%208px%3B%0A%20%20%20%20%20%20%20%20%20%20%20%20%20%20%20%20%20%20%20%20%20%20%20%20%7D%0A%20%20%20%20%20%20%20%20%20%20%20%20%20%20%20%20%20%20%20%20%3C/style%3E%0A%20%20%20%20%20%20%20%20%20%20%20%20%0A%3C/head%3E%0A%3Cbody%3E%20%20%20%20%0A%20%20%20%20%0A%20%20%20%20%20%20%20%20%20%20%20%20%3Cdiv%20class%3D%22folium-map%22%20id%3D%22map_5179b00125344241af983413eaa41f7e%22%20%3E%3C/div%3E%0A%20%20%20%20%20%20%20%20%0A%3C/body%3E%0A%3Cscript%3E%20%20%20%20%0A%20%20%20%20%0A%20%20%20%20%20%20%20%20%20%20%20%20var%20map_5179b00125344241af983413eaa41f7e%20%3D%20L.map%28%0A%20%20%20%20%20%20%20%20%20%20%20%20%20%20%20%20%22map_5179b00125344241af983413eaa41f7e%22%2C%0A%20%20%20%20%20%20%20%20%20%20%20%20%20%20%20%20%7B%0A%20%20%20%20%20%20%20%20%20%20%20%20%20%20%20%20%20%20%20%20center%3A%20%5B50.09152198326542%2C%209.873067157507782%5D%2C%0A%20%20%20%20%20%20%20%20%20%20%20%20%20%20%20%20%20%20%20%20crs%3A%20L.CRS.EPSG3857%2C%0A%20%20%20%20%20%20%20%20%20%20%20%20%20%20%20%20%20%20%20%20zoom%3A%2010%2C%0A%20%20%20%20%20%20%20%20%20%20%20%20%20%20%20%20%20%20%20%20zoomControl%3A%20true%2C%0A%20%20%20%20%20%20%20%20%20%20%20%20%20%20%20%20%20%20%20%20preferCanvas%3A%20false%2C%0A%20%20%20%20%20%20%20%20%20%20%20%20%20%20%20%20%7D%0A%20%20%20%20%20%20%20%20%20%20%20%20%29%3B%0A%20%20%20%20%20%20%20%20%20%20%20%20L.control.scale%28%29.addTo%28map_5179b00125344241af983413eaa41f7e%29%3B%0A%0A%20%20%20%20%20%20%20%20%20%20%20%20%0A%0A%20%20%20%20%20%20%20%20%0A%20%20%20%20%0A%20%20%20%20%20%20%20%20%20%20%20%20var%20tile_layer_a53029d6804e4ea09857f26dfb718fd3%20%3D%20L.tileLayer%28%0A%20%20%20%20%20%20%20%20%20%20%20%20%20%20%20%20%22https%3A//%7Bs%7D.tile.openstreetmap.org/%7Bz%7D/%7Bx%7D/%7By%7D.png%22%2C%0A%20%20%20%20%20%20%20%20%20%20%20%20%20%20%20%20%7B%22attribution%22%3A%20%22Data%20by%20%5Cu0026copy%3B%20%5Cu003ca%20href%3D%5C%22http%3A//openstreetmap.org%5C%22%5Cu003eOpenStreetMap%5Cu003c/a%5Cu003e%2C%20under%20%5Cu003ca%20href%3D%5C%22http%3A//www.openstreetmap.org/copyright%5C%22%5Cu003eODbL%5Cu003c/a%5Cu003e.%22%2C%20%22detectRetina%22%3A%20false%2C%20%22maxNativeZoom%22%3A%2018%2C%20%22maxZoom%22%3A%2018%2C%20%22minZoom%22%3A%200%2C%20%22noWrap%22%3A%20false%2C%20%22opacity%22%3A%201%2C%20%22subdomains%22%3A%20%22abc%22%2C%20%22tms%22%3A%20false%7D%0A%20%20%20%20%20%20%20%20%20%20%20%20%29.addTo%28map_5179b00125344241af983413eaa41f7e%29%3B%0A%20%20%20%20%20%20%20%20%0A%20%20%20%20%0A%20%20%20%20%20%20%20%20%20%20%20%20map_5179b00125344241af983413eaa41f7e.fitBounds%28%0A%20%20%20%20%20%20%20%20%20%20%20%20%20%20%20%20%5B%5B39.36376104689367%2C%20-8.213206798221538%5D%2C%20%5B60.81928291963718%2C%2027.9593411132371%5D%5D%2C%0A%20%20%20%20%20%20%20%20%20%20%20%20%20%20%20%20%7B%7D%0A%20%20%20%20%20%20%20%20%20%20%20%20%29%3B%0A%20%20%20%20%20%20%20%20%0A%20%20%20%20%0A%20%20%20%20%20%20%20%20function%20geo_json_3a44990f1e114f11aacd1a0abaa9be80_styler%28feature%29%20%7B%0A%20%20%20%20%20%20%20%20%20%20%20%20switch%28feature.id%29%20%7B%0A%20%20%20%20%20%20%20%20%20%20%20%20%20%20%20%20default%3A%0A%20%20%20%20%20%20%20%20%20%20%20%20%20%20%20%20%20%20%20%20return%20%7B%22fillOpacity%22%3A%200.5%2C%20%22weight%22%3A%202%7D%3B%0A%20%20%20%20%20%20%20%20%20%20%20%20%7D%0A%20%20%20%20%20%20%20%20%7D%0A%20%20%20%20%20%20%20%20function%20geo_json_3a44990f1e114f11aacd1a0abaa9be80_highlighter%28feature%29%20%7B%0A%20%20%20%20%20%20%20%20%20%20%20%20switch%28feature.id%29%20%7B%0A%20%20%20%20%20%20%20%20%20%20%20%20%20%20%20%20default%3A%0A%20%20%20%20%20%20%20%20%20%20%20%20%20%20%20%20%20%20%20%20return%20%7B%22fillOpacity%22%3A%200.75%7D%3B%0A%20%20%20%20%20%20%20%20%20%20%20%20%7D%0A%20%20%20%20%20%20%20%20%7D%0A%20%20%20%20%20%20%20%20function%20geo_json_3a44990f1e114f11aacd1a0abaa9be80_pointToLayer%28feature%2C%20latlng%29%20%7B%0A%20%20%20%20%20%20%20%20%20%20%20%20var%20opts%20%3D%20%7B%22fill%22%3A%20true%2C%20%22radius%22%3A%202%7D%3B%0A%20%20%20%20%20%20%20%20%20%20%20%20%0A%20%20%20%20%20%20%20%20%20%20%20%20let%20style%20%3D%20geo_json_3a44990f1e114f11aacd1a0abaa9be80_styler%28feature%29%0A%20%20%20%20%20%20%20%20%20%20%20%20Object.assign%28opts%2C%20style%29%0A%20%20%20%20%20%20%20%20%20%20%20%20%0A%20%20%20%20%20%20%20%20%20%20%20%20return%20new%20L.Marker%28latlng%2C%20opts%29%0A%20%20%20%20%20%20%20%20%7D%0A%0A%20%20%20%20%20%20%20%20function%20geo_json_3a44990f1e114f11aacd1a0abaa9be80_onEachFeature%28feature%2C%20layer%29%20%7B%0A%20%20%20%20%20%20%20%20%20%20%20%20layer.on%28%7B%0A%20%20%20%20%20%20%20%20%20%20%20%20%20%20%20%20mouseout%3A%20function%28e%29%20%7B%0A%20%20%20%20%20%20%20%20%20%20%20%20%20%20%20%20%20%20%20%20if%28typeof%20e.target.setStyle%20%3D%3D%3D%20%22function%22%29%7B%0A%20%20%20%20%20%20%20%20%20%20%20%20%20%20%20%20%20%20%20%20%20%20%20%20geo_json_3a44990f1e114f11aacd1a0abaa9be80.resetStyle%28e.target%29%3B%0A%20%20%20%20%20%20%20%20%20%20%20%20%20%20%20%20%20%20%20%20%7D%0A%20%20%20%20%20%20%20%20%20%20%20%20%20%20%20%20%7D%2C%0A%20%20%20%20%20%20%20%20%20%20%20%20%20%20%20%20mouseover%3A%20function%28e%29%20%7B%0A%20%20%20%20%20%20%20%20%20%20%20%20%20%20%20%20%20%20%20%20if%28typeof%20e.target.setStyle%20%3D%3D%3D%20%22function%22%29%7B%0A%20%20%20%20%20%20%20%20%20%20%20%20%20%20%20%20%20%20%20%20%20%20%20%20const%20highlightStyle%20%3D%20geo_json_3a44990f1e114f11aacd1a0abaa9be80_highlighter%28e.target.feature%29%0A%20%20%20%20%20%20%20%20%20%20%20%20%20%20%20%20%20%20%20%20%20%20%20%20e.target.setStyle%28highlightStyle%29%3B%0A%20%20%20%20%20%20%20%20%20%20%20%20%20%20%20%20%20%20%20%20%7D%0A%20%20%20%20%20%20%20%20%20%20%20%20%20%20%20%20%7D%2C%0A%20%20%20%20%20%20%20%20%20%20%20%20%7D%29%3B%0A%20%20%20%20%20%20%20%20%7D%3B%0A%20%20%20%20%20%20%20%20var%20geo_json_3a44990f1e114f11aacd1a0abaa9be80%20%3D%20L.geoJson%28null%2C%20%7B%0A%20%20%20%20%20%20%20%20%20%20%20%20%20%20%20%20onEachFeature%3A%20geo_json_3a44990f1e114f11aacd1a0abaa9be80_onEachFeature%2C%0A%20%20%20%20%20%20%20%20%20%20%20%20%0A%20%20%20%20%20%20%20%20%20%20%20%20%20%20%20%20style%3A%20geo_json_3a44990f1e114f11aacd1a0abaa9be80_styler%2C%0A%20%20%20%20%20%20%20%20%20%20%20%20%20%20%20%20pointToLayer%3A%20geo_json_3a44990f1e114f11aacd1a0abaa9be80_pointToLayer%0A%20%20%20%20%20%20%20%20%7D%29%3B%0A%0A%20%20%20%20%20%20%20%20function%20geo_json_3a44990f1e114f11aacd1a0abaa9be80_add%20%28data%29%20%7B%0A%20%20%20%20%20%20%20%20%20%20%20%20geo_json_3a44990f1e114f11aacd1a0abaa9be80%0A%20%20%20%20%20%20%20%20%20%20%20%20%20%20%20%20.addData%28data%29%0A%20%20%20%20%20%20%20%20%20%20%20%20%20%20%20%20.addTo%28map_5179b00125344241af983413eaa41f7e%29%3B%0A%20%20%20%20%20%20%20%20%7D%0A%20%20%20%20%20%20%20%20%20%20%20%20geo_json_3a44990f1e114f11aacd1a0abaa9be80_add%28%7B%22bbox%22%3A%20%5B-8.213206798221538%2C%2039.36376104689367%2C%2027.9593411132371%2C%2060.81928291963718%5D%2C%20%22features%22%3A%20%5B%7B%22bbox%22%3A%20%5B-8.213206798221538%2C%2039.36376104689367%2C%20-8.213206798221538%2C%2039.36376104689367%5D%2C%20%22geometry%22%3A%20%7B%22coordinates%22%3A%20%5B-8.213206798221538%2C%2039.36376104689367%5D%2C%20%22type%22%3A%20%22Point%22%7D%2C%20%22id%22%3A%20%220%22%2C%20%22properties%22%3A%20%7B%22country%22%3A%20%22Portugal%22%7D%2C%20%22type%22%3A%20%22Feature%22%7D%2C%20%7B%22bbox%22%3A%20%5B-6.890686649586739%2C%2052.30844251236928%2C%20-6.890686649586739%2C%2052.30844251236928%5D%2C%20%22geometry%22%3A%20%7B%22coordinates%22%3A%20%5B-6.890686649586739%2C%2052.30844251236928%5D%2C%20%22type%22%3A%20%22Point%22%7D%2C%20%22id%22%3A%20%221%22%2C%20%22properties%22%3A%20%7B%22country%22%3A%20%22Ireland%22%7D%2C%20%22type%22%3A%20%22Feature%22%7D%2C%20%7B%22bbox%22%3A%20%5B25.061582874332363%2C%2056.219499068259196%2C%2025.061582874332363%2C%2056.219499068259196%5D%2C%20%22geometry%22%3A%20%7B%22coordinates%22%3A%20%5B25.061582874332363%2C%2056.219499068259196%5D%2C%20%22type%22%3A%20%22Point%22%7D%2C%20%22id%22%3A%20%222%22%2C%20%22properties%22%3A%20%7B%22country%22%3A%20%22Lithuania%22%7D%2C%20%22type%22%3A%20%22Feature%22%7D%2C%20%7B%22bbox%22%3A%20%5B21.49223428565407%2C%2044.72608040968221%2C%2021.49223428565407%2C%2044.72608040968221%5D%2C%20%22geometry%22%3A%20%7B%22coordinates%22%3A%20%5B21.49223428565407%2C%2044.72608040968221%5D%2C%20%22type%22%3A%20%22Point%22%7D%2C%20%22id%22%3A%20%223%22%2C%20%22properties%22%3A%20%7B%22country%22%3A%20%22Serbia%22%7D%2C%20%22type%22%3A%20%22Feature%22%7D%2C%20%7B%22bbox%22%3A%20%5B-6.758362574665499%2C%2053.179993317824106%2C%20-6.758362574665499%2C%2053.179993317824106%5D%2C%20%22geometry%22%3A%20%7B%22coordinates%22%3A%20%5B-6.758362574665499%2C%2053.179993317824106%5D%2C%20%22type%22%3A%20%22Point%22%7D%2C%20%22id%22%3A%20%224%22%2C%20%22properties%22%3A%20%7B%22country%22%3A%20%22Ireland%22%7D%2C%20%22type%22%3A%20%22Feature%22%7D%2C%20%7B%22bbox%22%3A%20%5B-6.680849684127433%2C%2052.61743383004935%2C%20-6.680849684127433%2C%2052.61743383004935%5D%2C%20%22geometry%22%3A%20%7B%22coordinates%22%3A%20%5B-6.680849684127433%2C%2052.61743383004935%5D%2C%20%22type%22%3A%20%22Point%22%7D%2C%20%22id%22%3A%20%225%22%2C%20%22properties%22%3A%20%7B%22country%22%3A%20%22Ireland%22%7D%2C%20%22type%22%3A%20%22Feature%22%7D%2C%20%7B%22bbox%22%3A%20%5B21.65187303011116%2C%2044.09490137175899%2C%2021.65187303011116%2C%2044.09490137175899%5D%2C%20%22geometry%22%3A%20%7B%22coordinates%22%3A%20%5B21.65187303011116%2C%2044.09490137175899%5D%2C%20%22type%22%3A%20%22Point%22%7D%2C%20%22id%22%3A%20%226%22%2C%20%22properties%22%3A%20%7B%22country%22%3A%20%22Serbia%22%7D%2C%20%22type%22%3A%20%22Feature%22%7D%2C%20%7B%22bbox%22%3A%20%5B27.9593411132371%2C%2060.81928291963718%2C%2027.9593411132371%2C%2060.81928291963718%5D%2C%20%22geometry%22%3A%20%7B%22coordinates%22%3A%20%5B27.9593411132371%2C%2060.81928291963718%5D%2C%20%22type%22%3A%20%22Point%22%7D%2C%20%22id%22%3A%20%227%22%2C%20%22properties%22%3A%20%7B%22country%22%3A%20%22Finland%22%7D%2C%20%22type%22%3A%20%22Feature%22%7D%2C%20%7B%22bbox%22%3A%20%5B-7.442302856994679%2C%2052.64068597587841%2C%20-7.442302856994679%2C%2052.64068597587841%5D%2C%20%22geometry%22%3A%20%7B%22coordinates%22%3A%20%5B-7.442302856994679%2C%2052.64068597587841%5D%2C%20%22type%22%3A%20%22Point%22%7D%2C%20%22id%22%3A%20%228%22%2C%20%22properties%22%3A%20%7B%22country%22%3A%20%22Ireland%22%7D%2C%20%22type%22%3A%20%22Feature%22%7D%5D%2C%20%22type%22%3A%20%22FeatureCollection%22%7D%29%3B%0A%0A%20%20%20%20%20%20%20%20%0A%20%20%20%20%0A%20%20%20%20geo_json_3a44990f1e114f11aacd1a0abaa9be80.bindTooltip%28%0A%20%20%20%20function%28layer%29%7B%0A%20%20%20%20let%20div%20%3D%20L.DomUtil.create%28%27div%27%29%3B%0A%20%20%20%20%0A%20%20%20%20let%20handleObject%20%3D%20feature%3D%3Etypeof%28feature%29%3D%3D%27object%27%20%3F%20JSON.stringify%28feature%29%20%3A%20feature%3B%0A%20%20%20%20let%20fields%20%3D%20%5B%22country%22%5D%3B%0A%20%20%20%20let%20aliases%20%3D%20%5B%22country%22%5D%3B%0A%20%20%20%20let%20table%20%3D%20%27%3Ctable%3E%27%20%2B%0A%20%20%20%20%20%20%20%20String%28%0A%20%20%20%20%20%20%20%20fields.map%28%0A%20%20%20%20%20%20%20%20%28v%2Ci%29%3D%3E%0A%20%20%20%20%20%20%20%20%60%3Ctr%3E%0A%20%20%20%20%20%20%20%20%20%20%20%20%3Cth%3E%24%7Baliases%5Bi%5D%7D%3C/th%3E%0A%20%20%20%20%20%20%20%20%20%20%20%20%0A%20%20%20%20%20%20%20%20%20%20%20%20%3Ctd%3E%24%7BhandleObject%28layer.feature.properties%5Bv%5D%29%7D%3C/td%3E%0A%20%20%20%20%20%20%20%20%3C/tr%3E%60%29.join%28%27%27%29%29%0A%20%20%20%20%2B%27%3C/table%3E%27%3B%0A%20%20%20%20div.innerHTML%3Dtable%3B%0A%20%20%20%20%0A%20%20%20%20return%20div%0A%20%20%20%20%7D%0A%20%20%20%20%2C%7B%22className%22%3A%20%22foliumtooltip%22%2C%20%22sticky%22%3A%20true%7D%29%3B%0A%20%20%20%20%20%20%20%20%20%20%20%20%20%20%20%20%20%20%20%20%20%0A%3C/script%3E onload=\"this.contentDocument.open();this.contentDocument.write(    decodeURIComponent(this.getAttribute('data-html')));this.contentDocument.close();\" allowfullscreen webkitallowfullscreen mozallowfullscreen></iframe></div></div>"
      ],
      "text/plain": [
       "<folium.folium.Map at 0x7fc04ed41e10>"
      ]
     },
     "execution_count": null,
     "metadata": {},
     "output_type": "execute_result"
    }
   ],
   "source": [
    "# hide\n",
    "\n",
    "tiny_gdf = get_gdf_from_s2_patch_dir(test_dataset)\n",
    "\n",
    "# Can also visually inspect the result\n",
    "country_gdf = assign_to_ben_country(tiny_gdf)\n",
    "country_gdf.geometry = country_gdf.representative_point()\n",
    "country_gdf[[\"country\", \"geometry\"]].explore(marker_type=\"marker\")\n"
   ]
  },
  {
   "cell_type": "code",
   "execution_count": null,
   "metadata": {},
   "outputs": [
    {
     "data": {
      "text/html": [
       "<pre style=\"white-space:pre;overflow-x:auto;line-height:normal;font-family:Menlo,'DejaVu Sans Mono',consolas,'Courier New',monospace\">Reprojecting                    <span style=\"color: #808000; text-decoration-color: #808000\">0:00:00</span>\n",
       "Loading country shapes          <span style=\"color: #808000; text-decoration-color: #808000\">0:00:00</span>\n",
       "Calculating centroids  <span style=\"color: #008000; text-decoration-color: #008000\">(   ●  )</span> <span style=\"color: #808000; text-decoration-color: #808000\">0:00:00</span>\n",
       "</pre>\n"
      ],
      "text/plain": [
       "Reprojecting                    \u001b[33m0:00:00\u001b[0m\n",
       "Loading country shapes          \u001b[33m0:00:00\u001b[0m\n",
       "Calculating centroids  \u001b[32m(   ●  )\u001b[0m \u001b[33m0:00:00\u001b[0m\n"
      ]
     },
     "metadata": {},
     "output_type": "display_data"
    },
    {
     "data": {
      "text/html": [
       "<pre style=\"white-space:pre;overflow-x:auto;line-height:normal;font-family:Menlo,'DejaVu Sans Mono',consolas,'Courier New',monospace\"></pre>\n"
      ],
      "text/plain": []
     },
     "metadata": {},
     "output_type": "display_data"
    },
    {
     "data": {
      "text/html": [
       "<pre style=\"white-space:pre;overflow-x:auto;line-height:normal;font-family:Menlo,'DejaVu Sans Mono',consolas,'Courier New',monospace\">\n",
       "</pre>\n"
      ],
      "text/plain": [
       "\n"
      ]
     },
     "metadata": {},
     "output_type": "display_data"
    },
    {
     "data": {
      "text/html": [
       "<div style=\"width:100%;\"><div style=\"position:relative;width:100%;height:0;padding-bottom:60%;\"><span style=\"color:#565656\">Make this Notebook Trusted to load map: File -> Trust Notebook</span><iframe src=\"about:blank\" style=\"position:absolute;width:100%;height:100%;left:0;top:0;border:none !important;\" data-html=%3C%21DOCTYPE%20html%3E%0A%3Chead%3E%20%20%20%20%0A%20%20%20%20%3Cmeta%20http-equiv%3D%22content-type%22%20content%3D%22text/html%3B%20charset%3DUTF-8%22%20/%3E%0A%20%20%20%20%0A%20%20%20%20%20%20%20%20%3Cscript%3E%0A%20%20%20%20%20%20%20%20%20%20%20%20L_NO_TOUCH%20%3D%20false%3B%0A%20%20%20%20%20%20%20%20%20%20%20%20L_DISABLE_3D%20%3D%20false%3B%0A%20%20%20%20%20%20%20%20%3C/script%3E%0A%20%20%20%20%0A%20%20%20%20%3Cstyle%3Ehtml%2C%20body%20%7Bwidth%3A%20100%25%3Bheight%3A%20100%25%3Bmargin%3A%200%3Bpadding%3A%200%3B%7D%3C/style%3E%0A%20%20%20%20%3Cstyle%3E%23map%20%7Bposition%3Aabsolute%3Btop%3A0%3Bbottom%3A0%3Bright%3A0%3Bleft%3A0%3B%7D%3C/style%3E%0A%20%20%20%20%3Cscript%20src%3D%22https%3A//cdn.jsdelivr.net/npm/leaflet%401.6.0/dist/leaflet.js%22%3E%3C/script%3E%0A%20%20%20%20%3Cscript%20src%3D%22https%3A//code.jquery.com/jquery-1.12.4.min.js%22%3E%3C/script%3E%0A%20%20%20%20%3Cscript%20src%3D%22https%3A//maxcdn.bootstrapcdn.com/bootstrap/3.2.0/js/bootstrap.min.js%22%3E%3C/script%3E%0A%20%20%20%20%3Cscript%20src%3D%22https%3A//cdnjs.cloudflare.com/ajax/libs/Leaflet.awesome-markers/2.0.2/leaflet.awesome-markers.js%22%3E%3C/script%3E%0A%20%20%20%20%3Clink%20rel%3D%22stylesheet%22%20href%3D%22https%3A//cdn.jsdelivr.net/npm/leaflet%401.6.0/dist/leaflet.css%22/%3E%0A%20%20%20%20%3Clink%20rel%3D%22stylesheet%22%20href%3D%22https%3A//maxcdn.bootstrapcdn.com/bootstrap/3.2.0/css/bootstrap.min.css%22/%3E%0A%20%20%20%20%3Clink%20rel%3D%22stylesheet%22%20href%3D%22https%3A//maxcdn.bootstrapcdn.com/bootstrap/3.2.0/css/bootstrap-theme.min.css%22/%3E%0A%20%20%20%20%3Clink%20rel%3D%22stylesheet%22%20href%3D%22https%3A//maxcdn.bootstrapcdn.com/font-awesome/4.6.3/css/font-awesome.min.css%22/%3E%0A%20%20%20%20%3Clink%20rel%3D%22stylesheet%22%20href%3D%22https%3A//cdnjs.cloudflare.com/ajax/libs/Leaflet.awesome-markers/2.0.2/leaflet.awesome-markers.css%22/%3E%0A%20%20%20%20%3Clink%20rel%3D%22stylesheet%22%20href%3D%22https%3A//cdn.jsdelivr.net/gh/python-visualization/folium/folium/templates/leaflet.awesome.rotate.min.css%22/%3E%0A%20%20%20%20%0A%20%20%20%20%20%20%20%20%20%20%20%20%3Cmeta%20name%3D%22viewport%22%20content%3D%22width%3Ddevice-width%2C%0A%20%20%20%20%20%20%20%20%20%20%20%20%20%20%20%20initial-scale%3D1.0%2C%20maximum-scale%3D1.0%2C%20user-scalable%3Dno%22%20/%3E%0A%20%20%20%20%20%20%20%20%20%20%20%20%3Cstyle%3E%0A%20%20%20%20%20%20%20%20%20%20%20%20%20%20%20%20%23map_9e279a9de0fe4be0b1bdc1f4055d5b5b%20%7B%0A%20%20%20%20%20%20%20%20%20%20%20%20%20%20%20%20%20%20%20%20position%3A%20relative%3B%0A%20%20%20%20%20%20%20%20%20%20%20%20%20%20%20%20%20%20%20%20width%3A%20100.0%25%3B%0A%20%20%20%20%20%20%20%20%20%20%20%20%20%20%20%20%20%20%20%20height%3A%20100.0%25%3B%0A%20%20%20%20%20%20%20%20%20%20%20%20%20%20%20%20%20%20%20%20left%3A%200.0%25%3B%0A%20%20%20%20%20%20%20%20%20%20%20%20%20%20%20%20%20%20%20%20top%3A%200.0%25%3B%0A%20%20%20%20%20%20%20%20%20%20%20%20%20%20%20%20%7D%0A%20%20%20%20%20%20%20%20%20%20%20%20%3C/style%3E%0A%20%20%20%20%20%20%20%20%0A%20%20%20%20%0A%20%20%20%20%20%20%20%20%20%20%20%20%20%20%20%20%20%20%20%20%3Cstyle%3E%0A%20%20%20%20%20%20%20%20%20%20%20%20%20%20%20%20%20%20%20%20%20%20%20%20.foliumtooltip%20%7B%0A%20%20%20%20%20%20%20%20%20%20%20%20%20%20%20%20%20%20%20%20%20%20%20%20%20%20%20%20%0A%20%20%20%20%20%20%20%20%20%20%20%20%20%20%20%20%20%20%20%20%20%20%20%20%7D%0A%20%20%20%20%20%20%20%20%20%20%20%20%20%20%20%20%20%20%20%20%20%20%20.foliumtooltip%20table%7B%0A%20%20%20%20%20%20%20%20%20%20%20%20%20%20%20%20%20%20%20%20%20%20%20%20%20%20%20%20margin%3A%20auto%3B%0A%20%20%20%20%20%20%20%20%20%20%20%20%20%20%20%20%20%20%20%20%20%20%20%20%7D%0A%20%20%20%20%20%20%20%20%20%20%20%20%20%20%20%20%20%20%20%20%20%20%20%20.foliumtooltip%20tr%7B%0A%20%20%20%20%20%20%20%20%20%20%20%20%20%20%20%20%20%20%20%20%20%20%20%20%20%20%20%20text-align%3A%20left%3B%0A%20%20%20%20%20%20%20%20%20%20%20%20%20%20%20%20%20%20%20%20%20%20%20%20%7D%0A%20%20%20%20%20%20%20%20%20%20%20%20%20%20%20%20%20%20%20%20%20%20%20%20.foliumtooltip%20th%7B%0A%20%20%20%20%20%20%20%20%20%20%20%20%20%20%20%20%20%20%20%20%20%20%20%20%20%20%20%20padding%3A%202px%3B%20padding-right%3A%208px%3B%0A%20%20%20%20%20%20%20%20%20%20%20%20%20%20%20%20%20%20%20%20%20%20%20%20%7D%0A%20%20%20%20%20%20%20%20%20%20%20%20%20%20%20%20%20%20%20%20%3C/style%3E%0A%20%20%20%20%20%20%20%20%20%20%20%20%0A%3C/head%3E%0A%3Cbody%3E%20%20%20%20%0A%20%20%20%20%0A%20%20%20%20%20%20%20%20%20%20%20%20%3Cdiv%20class%3D%22folium-map%22%20id%3D%22map_9e279a9de0fe4be0b1bdc1f4055d5b5b%22%20%3E%3C/div%3E%0A%20%20%20%20%20%20%20%20%0A%3C/body%3E%0A%3Cscript%3E%20%20%20%20%0A%20%20%20%20%0A%20%20%20%20%20%20%20%20%20%20%20%20var%20map_9e279a9de0fe4be0b1bdc1f4055d5b5b%20%3D%20L.map%28%0A%20%20%20%20%20%20%20%20%20%20%20%20%20%20%20%20%22map_9e279a9de0fe4be0b1bdc1f4055d5b5b%22%2C%0A%20%20%20%20%20%20%20%20%20%20%20%20%20%20%20%20%7B%0A%20%20%20%20%20%20%20%20%20%20%20%20%20%20%20%20%20%20%20%20center%3A%20%5B48.30319842955377%2C%2013.298184871161315%5D%2C%0A%20%20%20%20%20%20%20%20%20%20%20%20%20%20%20%20%20%20%20%20crs%3A%20L.CRS.EPSG3857%2C%0A%20%20%20%20%20%20%20%20%20%20%20%20%20%20%20%20%20%20%20%20zoom%3A%2010%2C%0A%20%20%20%20%20%20%20%20%20%20%20%20%20%20%20%20%20%20%20%20zoomControl%3A%20true%2C%0A%20%20%20%20%20%20%20%20%20%20%20%20%20%20%20%20%20%20%20%20preferCanvas%3A%20false%2C%0A%20%20%20%20%20%20%20%20%20%20%20%20%20%20%20%20%7D%0A%20%20%20%20%20%20%20%20%20%20%20%20%29%3B%0A%20%20%20%20%20%20%20%20%20%20%20%20L.control.scale%28%29.addTo%28map_9e279a9de0fe4be0b1bdc1f4055d5b5b%29%3B%0A%0A%20%20%20%20%20%20%20%20%20%20%20%20%0A%0A%20%20%20%20%20%20%20%20%0A%20%20%20%20%0A%20%20%20%20%20%20%20%20%20%20%20%20var%20tile_layer_ba6f8086a35e465c9beb62498d1931c7%20%3D%20L.tileLayer%28%0A%20%20%20%20%20%20%20%20%20%20%20%20%20%20%20%20%22https%3A//%7Bs%7D.tile.openstreetmap.org/%7Bz%7D/%7Bx%7D/%7By%7D.png%22%2C%0A%20%20%20%20%20%20%20%20%20%20%20%20%20%20%20%20%7B%22attribution%22%3A%20%22Data%20by%20%5Cu0026copy%3B%20%5Cu003ca%20href%3D%5C%22http%3A//openstreetmap.org%5C%22%5Cu003eOpenStreetMap%5Cu003c/a%5Cu003e%2C%20under%20%5Cu003ca%20href%3D%5C%22http%3A//www.openstreetmap.org/copyright%5C%22%5Cu003eODbL%5Cu003c/a%5Cu003e.%22%2C%20%22detectRetina%22%3A%20false%2C%20%22maxNativeZoom%22%3A%2018%2C%20%22maxZoom%22%3A%2018%2C%20%22minZoom%22%3A%200%2C%20%22noWrap%22%3A%20false%2C%20%22opacity%22%3A%201%2C%20%22subdomains%22%3A%20%22abc%22%2C%20%22tms%22%3A%20false%7D%0A%20%20%20%20%20%20%20%20%20%20%20%20%29.addTo%28map_9e279a9de0fe4be0b1bdc1f4055d5b5b%29%3B%0A%20%20%20%20%20%20%20%20%0A%20%20%20%20%0A%20%20%20%20%20%20%20%20%20%20%20%20map_9e279a9de0fe4be0b1bdc1f4055d5b5b.fitBounds%28%0A%20%20%20%20%20%20%20%20%20%20%20%20%20%20%20%20%5B%5B48.29240714536957%2C%2013.297826044321077%5D%2C%20%5B48.31398971373796%2C%2013.298543698001552%5D%5D%2C%0A%20%20%20%20%20%20%20%20%20%20%20%20%20%20%20%20%7B%7D%0A%20%20%20%20%20%20%20%20%20%20%20%20%29%3B%0A%20%20%20%20%20%20%20%20%0A%20%20%20%20%0A%20%20%20%20%20%20%20%20function%20geo_json_8cb1b656408d4ba0812d8c9259167368_styler%28feature%29%20%7B%0A%20%20%20%20%20%20%20%20%20%20%20%20switch%28feature.id%29%20%7B%0A%20%20%20%20%20%20%20%20%20%20%20%20%20%20%20%20default%3A%0A%20%20%20%20%20%20%20%20%20%20%20%20%20%20%20%20%20%20%20%20return%20%7B%22fillOpacity%22%3A%200.5%2C%20%22weight%22%3A%202%7D%3B%0A%20%20%20%20%20%20%20%20%20%20%20%20%7D%0A%20%20%20%20%20%20%20%20%7D%0A%20%20%20%20%20%20%20%20function%20geo_json_8cb1b656408d4ba0812d8c9259167368_highlighter%28feature%29%20%7B%0A%20%20%20%20%20%20%20%20%20%20%20%20switch%28feature.id%29%20%7B%0A%20%20%20%20%20%20%20%20%20%20%20%20%20%20%20%20default%3A%0A%20%20%20%20%20%20%20%20%20%20%20%20%20%20%20%20%20%20%20%20return%20%7B%22fillOpacity%22%3A%200.75%7D%3B%0A%20%20%20%20%20%20%20%20%20%20%20%20%7D%0A%20%20%20%20%20%20%20%20%7D%0A%20%20%20%20%20%20%20%20function%20geo_json_8cb1b656408d4ba0812d8c9259167368_pointToLayer%28feature%2C%20latlng%29%20%7B%0A%20%20%20%20%20%20%20%20%20%20%20%20var%20opts%20%3D%20%7B%22fill%22%3A%20true%2C%20%22radius%22%3A%202%7D%3B%0A%20%20%20%20%20%20%20%20%20%20%20%20%0A%20%20%20%20%20%20%20%20%20%20%20%20let%20style%20%3D%20geo_json_8cb1b656408d4ba0812d8c9259167368_styler%28feature%29%0A%20%20%20%20%20%20%20%20%20%20%20%20Object.assign%28opts%2C%20style%29%0A%20%20%20%20%20%20%20%20%20%20%20%20%0A%20%20%20%20%20%20%20%20%20%20%20%20return%20new%20L.Marker%28latlng%2C%20opts%29%0A%20%20%20%20%20%20%20%20%7D%0A%0A%20%20%20%20%20%20%20%20function%20geo_json_8cb1b656408d4ba0812d8c9259167368_onEachFeature%28feature%2C%20layer%29%20%7B%0A%20%20%20%20%20%20%20%20%20%20%20%20layer.on%28%7B%0A%20%20%20%20%20%20%20%20%20%20%20%20%20%20%20%20mouseout%3A%20function%28e%29%20%7B%0A%20%20%20%20%20%20%20%20%20%20%20%20%20%20%20%20%20%20%20%20if%28typeof%20e.target.setStyle%20%3D%3D%3D%20%22function%22%29%7B%0A%20%20%20%20%20%20%20%20%20%20%20%20%20%20%20%20%20%20%20%20%20%20%20%20geo_json_8cb1b656408d4ba0812d8c9259167368.resetStyle%28e.target%29%3B%0A%20%20%20%20%20%20%20%20%20%20%20%20%20%20%20%20%20%20%20%20%7D%0A%20%20%20%20%20%20%20%20%20%20%20%20%20%20%20%20%7D%2C%0A%20%20%20%20%20%20%20%20%20%20%20%20%20%20%20%20mouseover%3A%20function%28e%29%20%7B%0A%20%20%20%20%20%20%20%20%20%20%20%20%20%20%20%20%20%20%20%20if%28typeof%20e.target.setStyle%20%3D%3D%3D%20%22function%22%29%7B%0A%20%20%20%20%20%20%20%20%20%20%20%20%20%20%20%20%20%20%20%20%20%20%20%20const%20highlightStyle%20%3D%20geo_json_8cb1b656408d4ba0812d8c9259167368_highlighter%28e.target.feature%29%0A%20%20%20%20%20%20%20%20%20%20%20%20%20%20%20%20%20%20%20%20%20%20%20%20e.target.setStyle%28highlightStyle%29%3B%0A%20%20%20%20%20%20%20%20%20%20%20%20%20%20%20%20%20%20%20%20%7D%0A%20%20%20%20%20%20%20%20%20%20%20%20%20%20%20%20%7D%2C%0A%20%20%20%20%20%20%20%20%20%20%20%20%7D%29%3B%0A%20%20%20%20%20%20%20%20%7D%3B%0A%20%20%20%20%20%20%20%20var%20geo_json_8cb1b656408d4ba0812d8c9259167368%20%3D%20L.geoJson%28null%2C%20%7B%0A%20%20%20%20%20%20%20%20%20%20%20%20%20%20%20%20onEachFeature%3A%20geo_json_8cb1b656408d4ba0812d8c9259167368_onEachFeature%2C%0A%20%20%20%20%20%20%20%20%20%20%20%20%0A%20%20%20%20%20%20%20%20%20%20%20%20%20%20%20%20style%3A%20geo_json_8cb1b656408d4ba0812d8c9259167368_styler%2C%0A%20%20%20%20%20%20%20%20%20%20%20%20%20%20%20%20pointToLayer%3A%20geo_json_8cb1b656408d4ba0812d8c9259167368_pointToLayer%0A%20%20%20%20%20%20%20%20%7D%29%3B%0A%0A%20%20%20%20%20%20%20%20function%20geo_json_8cb1b656408d4ba0812d8c9259167368_add%20%28data%29%20%7B%0A%20%20%20%20%20%20%20%20%20%20%20%20geo_json_8cb1b656408d4ba0812d8c9259167368%0A%20%20%20%20%20%20%20%20%20%20%20%20%20%20%20%20.addData%28data%29%0A%20%20%20%20%20%20%20%20%20%20%20%20%20%20%20%20.addTo%28map_9e279a9de0fe4be0b1bdc1f4055d5b5b%29%3B%0A%20%20%20%20%20%20%20%20%7D%0A%20%20%20%20%20%20%20%20%20%20%20%20geo_json_8cb1b656408d4ba0812d8c9259167368_add%28%7B%22bbox%22%3A%20%5B13.297826044321077%2C%2048.29240714536957%2C%2013.298543698001552%2C%2048.31398971373796%5D%2C%20%22features%22%3A%20%5B%7B%22bbox%22%3A%20%5B13.298184976901029%2C%2048.303198440731215%2C%2013.298184976901029%2C%2048.303198440731215%5D%2C%20%22geometry%22%3A%20%7B%22coordinates%22%3A%20%5B13.298184976901029%2C%2048.303198440731215%5D%2C%20%22type%22%3A%20%22Point%22%7D%2C%20%22id%22%3A%20%220%22%2C%20%22properties%22%3A%20%7B%22country%22%3A%20%22Austria%22%7D%2C%20%22type%22%3A%20%22Feature%22%7D%2C%20%7B%22bbox%22%3A%20%5B13.297826044321077%2C%2048.31398971373796%2C%2013.297826044321077%2C%2048.31398971373796%5D%2C%20%22geometry%22%3A%20%7B%22coordinates%22%3A%20%5B13.297826044321077%2C%2048.31398971373796%5D%2C%20%22type%22%3A%20%22Point%22%7D%2C%20%22id%22%3A%20%221%22%2C%20%22properties%22%3A%20%7B%22country%22%3A%20%22Austria%22%7D%2C%20%22type%22%3A%20%22Feature%22%7D%2C%20%7B%22bbox%22%3A%20%5B13.298543698001552%2C%2048.29240714536957%2C%2013.298543698001552%2C%2048.29240714536957%5D%2C%20%22geometry%22%3A%20%7B%22coordinates%22%3A%20%5B13.298543698001552%2C%2048.29240714536957%5D%2C%20%22type%22%3A%20%22Point%22%7D%2C%20%22id%22%3A%20%222%22%2C%20%22properties%22%3A%20%7B%22country%22%3A%20%22Austria%22%7D%2C%20%22type%22%3A%20%22Feature%22%7D%5D%2C%20%22type%22%3A%20%22FeatureCollection%22%7D%29%3B%0A%0A%20%20%20%20%20%20%20%20%0A%20%20%20%20%0A%20%20%20%20geo_json_8cb1b656408d4ba0812d8c9259167368.bindTooltip%28%0A%20%20%20%20function%28layer%29%7B%0A%20%20%20%20let%20div%20%3D%20L.DomUtil.create%28%27div%27%29%3B%0A%20%20%20%20%0A%20%20%20%20let%20handleObject%20%3D%20feature%3D%3Etypeof%28feature%29%3D%3D%27object%27%20%3F%20JSON.stringify%28feature%29%20%3A%20feature%3B%0A%20%20%20%20let%20fields%20%3D%20%5B%22country%22%5D%3B%0A%20%20%20%20let%20aliases%20%3D%20%5B%22country%22%5D%3B%0A%20%20%20%20let%20table%20%3D%20%27%3Ctable%3E%27%20%2B%0A%20%20%20%20%20%20%20%20String%28%0A%20%20%20%20%20%20%20%20fields.map%28%0A%20%20%20%20%20%20%20%20%28v%2Ci%29%3D%3E%0A%20%20%20%20%20%20%20%20%60%3Ctr%3E%0A%20%20%20%20%20%20%20%20%20%20%20%20%3Cth%3E%24%7Baliases%5Bi%5D%7D%3C/th%3E%0A%20%20%20%20%20%20%20%20%20%20%20%20%0A%20%20%20%20%20%20%20%20%20%20%20%20%3Ctd%3E%24%7BhandleObject%28layer.feature.properties%5Bv%5D%29%7D%3C/td%3E%0A%20%20%20%20%20%20%20%20%3C/tr%3E%60%29.join%28%27%27%29%29%0A%20%20%20%20%2B%27%3C/table%3E%27%3B%0A%20%20%20%20div.innerHTML%3Dtable%3B%0A%20%20%20%20%0A%20%20%20%20return%20div%0A%20%20%20%20%7D%0A%20%20%20%20%2C%7B%22className%22%3A%20%22foliumtooltip%22%2C%20%22sticky%22%3A%20true%7D%29%3B%0A%20%20%20%20%20%20%20%20%20%20%20%20%20%20%20%20%20%20%20%20%20%0A%3C/script%3E onload=\"this.contentDocument.open();this.contentDocument.write(    decodeURIComponent(this.getAttribute('data-html')));this.contentDocument.close();\" allowfullscreen webkitallowfullscreen mozallowfullscreen></iframe></div></div>"
      ],
      "text/plain": [
       "<folium.folium.Map at 0x7fc04ed2c110>"
      ]
     },
     "execution_count": null,
     "metadata": {},
     "output_type": "execute_result"
    }
   ],
   "source": [
    "# hide\n",
    "\n",
    "tiny_gdf = get_gdf_from_s1_patch_dir(s1_test_dataset)\n",
    "\n",
    "# Can also visually inspect the result\n",
    "country_gdf = assign_to_ben_country(tiny_gdf)\n",
    "# Funnily enough, this random patch actually intersects with\n",
    "# Germany and has its centroid in Germany.\n",
    "# This goes to show how hard the country assignment could be\n",
    "country_gdf.geometry = country_gdf.centroid\n",
    "country_gdf[[\"country\", \"geometry\"]].explore(marker_type=\"marker\")\n"
   ]
  },
  {
   "cell_type": "markdown",
   "metadata": {},
   "source": [
    "### Adding seasonal metadata"
   ]
  },
  {
   "cell_type": "code",
   "execution_count": null,
   "metadata": {},
   "outputs": [],
   "source": [
    "# export\n",
    "class Season(str, enum.Enum):\n",
    "    \"\"\"\n",
    "    A simple season class.\n",
    "    \"\"\"\n",
    "\n",
    "    Winter = \"Winter\"\n",
    "    Spring = \"Spring\"\n",
    "    Summer = \"Summer\"\n",
    "    Fall = \"Fall\"\n",
    "\n",
    "    @classmethod\n",
    "    def from_idx(cls, idx):\n",
    "        return list(cls)[idx]\n",
    "\n",
    "    def __str__(self):\n",
    "        return self.value\n",
    "\n",
    "\n",
    "@validate_arguments\n",
    "def _month_to_season(month: conint(ge=1, le=12)) -> Season:\n",
    "    return Season.from_idx(month % 12 // 3)\n",
    "\n",
    "\n",
    "def tfm_month_to_season(dates: pd.Series) -> pd.Series:\n",
    "    \"\"\"\n",
    "    Uses simple mathmatical formula to transform date\n",
    "    to seasons string given their months.\n",
    "\n",
    "    The season is calculated as the meterological season, assuming\n",
    "    that we are on the northern hemisphere.\n",
    "    \"\"\"\n",
    "    return pd.to_datetime(dates).dt.month.apply(_month_to_season)\n"
   ]
  },
  {
   "cell_type": "code",
   "execution_count": null,
   "metadata": {},
   "outputs": [],
   "source": [
    "dates = pd.Series(\n",
    "    [\n",
    "        \"2018-01-21\",\n",
    "        \"2018-04-21\",\n",
    "        \"2018-08-10\",\n",
    "        \"2017-10-27\",\n",
    "    ]\n",
    ")\n",
    "fc.test_eq(\n",
    "    tfm_month_to_season(dates).to_list(),\n",
    "    [\n",
    "        Season.Winter,\n",
    "        Season.Spring,\n",
    "        Season.Summer,\n",
    "        Season.Fall,\n",
    "    ],\n",
    ")\n"
   ]
  },
  {
   "cell_type": "code",
   "execution_count": null,
   "metadata": {},
   "outputs": [],
   "source": [
    "# export\n",
    "@validate_arguments\n",
    "def filter_season(df, date_col: str, season: Season) -> pd.DataFrame:\n",
    "    seasons = tfm_month_to_season(df[date_col])\n",
    "    return df[seasons == season]\n"
   ]
  },
  {
   "cell_type": "code",
   "execution_count": null,
   "metadata": {},
   "outputs": [],
   "source": [
    "dates_df = pd.DataFrame(\n",
    "    {\n",
    "        \"Date\": [\n",
    "            \"2018-01-21\",\n",
    "            \"2018-04-21\",\n",
    "            \"2018-08-10\",\n",
    "            \"2017-10-27\",\n",
    "        ]\n",
    "    }\n",
    ")\n",
    "\n",
    "\n",
    "fc.test_eq(\n",
    "    filter_season(dates_df, \"Date\", Season.Winter).reset_index(drop=True),\n",
    "    pd.DataFrame({\"Date\": [\"2018-01-21\"]}),\n",
    ")\n",
    "fc.test_eq(\n",
    "    filter_season(dates_df, \"Date\", Season.Fall).reset_index(drop=True),\n",
    "    pd.DataFrame({\"Date\": [\"2017-10-27\"]}),\n",
    ")\n"
   ]
  },
  {
   "cell_type": "markdown",
   "metadata": {},
   "source": [
    "### Adding complete metadata to vanilla BEN GeoDataFrame"
   ]
  },
  {
   "cell_type": "code",
   "execution_count": null,
   "metadata": {},
   "outputs": [],
   "source": [
    "# export\n",
    "from bigearthnet_common.base import (\n",
    "    is_snowy_patch,\n",
    "    is_cloudy_shadowy_patch,\n",
    "    old2new_labels,\n",
    "    get_original_split_from_patch_name,\n",
    ")\n",
    "\n",
    "def _add_full_ben_metadata(gdf: geopandas.GeoDataFrame, s2_name_col: str, date_col: str) -> geopandas.GeoDataFrame:\n",
    "    \"\"\"\n",
    "    A function that adds all the entire BigEarthNet metadata.\n",
    "    To be able to be used with S1 and S2 sources, the provided\n",
    "    gdf needs to also get a series of `s2_names` to use the same\n",
    "    logic for S1 that is used for S2 sources.\n",
    "    Similarly, the `date_col` must be given.\n",
    "    \"\"\"\n",
    "    gdf[\"new_labels\"] = gdf[\"labels\"].apply(old2new_labels)\n",
    "    gdf[\"snow\"] = gdf[s2_name_col].apply(is_snowy_patch)\n",
    "    gdf[\"cloud_or_shadow\"] = gdf[s2_name_col].apply(is_cloudy_shadowy_patch)\n",
    "    gdf[\"original_split\"] = gdf[s2_name_col].apply(get_original_split_from_patch_name)\n",
    "    gdf = assign_to_ben_country(gdf)\n",
    "    gdf[\"season\"] = tfm_month_to_season(gdf[date_col])\n",
    "    return gdf\n",
    "\n",
    "# Split into two functions, as the source _guessing_ logic\n",
    "# may lead to confusing/unhelpful error messages\n",
    "# and by splitting the function, future updates\n",
    "# to the archives should be easier to incorporate.\n",
    "# There may be a future in which these two functions could be combined.\n",
    "def add_full_ben_s1_metadata(gdf: geopandas.GeoDataFrame) -> geopandas.GeoDataFrame:\n",
    "    \"\"\"\n",
    "    This is a wrapper around many functions from this library.\n",
    "    It requires an input `GeoDataFrame` in _S1-BigEarthNet_ style.\n",
    "\n",
    "    See `get_gdf_from_s1_patch_dir` for details to create a new `GeoDataFrame`.\n",
    "    This function adds the following columns:\n",
    "\n",
    "    - `snow`: `bool` - Whether or not the patch contains seasonal snow\n",
    "    - `cloud_or_shadow`: `bool` - Whether or not the patch contains clouds/shadows\n",
    "    - `original_split`: One of: `train|validation|test|None`; Indicates to which\n",
    "        split the patch was originally assigned to\n",
    "    - `new_labels`: `label|None` - The 19-label nomenclature or None if\n",
    "        no target labels exist.\n",
    "    - `country`: `str` - The name of the BigEarthNet country the patch belongs to.\n",
    "    - `season`: `str` - The season in which the tile was aquired.\n",
    "\n",
    "    In short, the function will add all the available metadata.\n",
    "    \"\"\"\n",
    "    required_col_names = {\"acquisition_time\", \"name\", \"labels\", \"corresponding_s2_patch\"}\n",
    "    diff = required_col_names - set(gdf.columns)\n",
    "    if len(diff) != 0:\n",
    "        # note that possibly wrong date-column is shown in error message\n",
    "        raise ValueError(\"The provided gdf is missing required columns: \", diff)\n",
    "    return _add_full_ben_metadata(gdf, \"corresponding_s2_patch\", \"acquisition_time\")\n",
    "\n",
    "\n",
    "\n",
    "def add_full_ben_s2_metadata(gdf: geopandas.GeoDataFrame) -> geopandas.GeoDataFrame:\n",
    "    \"\"\"\n",
    "    This is a wrapper around many functions from this library.\n",
    "    It requires an input `GeoDataFrame` in _S2-BigEarthNet_ style.\n",
    "\n",
    "    See `get_gdf_from_s2_patch_dir` for details to create a new `GeoDataFrame`.\n",
    "    This function adds the following columns:\n",
    "\n",
    "    - `snow`: `bool` - Whether or not the patch contains seasonal snow\n",
    "    - `cloud_or_shadow`: `bool` - Whether or not the patch contains clouds/shadows\n",
    "    - `original_split`: One of: `train|validation|test|None`; Indicates to which\n",
    "        split the patch was originally assigned to\n",
    "    - `new_labels`: `label|None` - The 19-label nomenclature or None if\n",
    "        no target labels exist.\n",
    "    - `country`: `str` - The name of the BigEarthNet country the patch belongs to.\n",
    "    - `season`: `str` - The season in which the tile was aquired.\n",
    "\n",
    "    In short, the function will add all the available metadata.\n",
    "    \"\"\"\n",
    "    # allow both datetime formats!\n",
    "    required_col_names = {\"acquisition_date\", \"name\", \"labels\"}\n",
    "    diff = required_col_names - set(gdf.columns)\n",
    "    if len(diff) != 0:\n",
    "        # note that possibly wrong date-column is shown in error message\n",
    "        raise ValueError(\"The provided gdf is missing required columns: \", diff)\n",
    "    return _add_full_ben_metadata(gdf, \"name\", \"acquisition_date\")"
   ]
  },
  {
   "cell_type": "code",
   "execution_count": null,
   "metadata": {},
   "outputs": [
    {
     "data": {
      "text/html": [
       "<pre style=\"white-space:pre;overflow-x:auto;line-height:normal;font-family:Menlo,'DejaVu Sans Mono',consolas,'Courier New',monospace\">Reprojecting                         <span style=\"color: #808000; text-decoration-color: #808000\">0:00:00</span>\n",
       "Loading country shapes               <span style=\"color: #808000; text-decoration-color: #808000\">0:00:00</span>\n",
       "Calculating centroids                <span style=\"color: #808000; text-decoration-color: #808000\">0:00:00</span>\n",
       "Assigning data to countries <span style=\"color: #008000; text-decoration-color: #008000\">(    ● )</span> <span style=\"color: #808000; text-decoration-color: #808000\">0:00:00</span>\n",
       "</pre>\n"
      ],
      "text/plain": [
       "Reprojecting                         \u001b[33m0:00:00\u001b[0m\n",
       "Loading country shapes               \u001b[33m0:00:00\u001b[0m\n",
       "Calculating centroids                \u001b[33m0:00:00\u001b[0m\n",
       "Assigning data to countries \u001b[32m(    ● )\u001b[0m \u001b[33m0:00:00\u001b[0m\n"
      ]
     },
     "metadata": {},
     "output_type": "display_data"
    },
    {
     "data": {
      "text/html": [
       "<pre style=\"white-space:pre;overflow-x:auto;line-height:normal;font-family:Menlo,'DejaVu Sans Mono',consolas,'Courier New',monospace\"></pre>\n"
      ],
      "text/plain": []
     },
     "metadata": {},
     "output_type": "display_data"
    },
    {
     "data": {
      "text/html": [
       "<pre style=\"white-space:pre;overflow-x:auto;line-height:normal;font-family:Menlo,'DejaVu Sans Mono',consolas,'Courier New',monospace\">\n",
       "</pre>\n"
      ],
      "text/plain": [
       "\n"
      ]
     },
     "metadata": {},
     "output_type": "display_data"
    },
    {
     "data": {
      "text/html": [
       "<div style=\"width:100%;\"><div style=\"position:relative;width:100%;height:0;padding-bottom:60%;\"><span style=\"color:#565656\">Make this Notebook Trusted to load map: File -> Trust Notebook</span><iframe src=\"about:blank\" style=\"position:absolute;width:100%;height:100%;left:0;top:0;border:none !important;\" data-html=%3C%21DOCTYPE%20html%3E%0A%3Chead%3E%20%20%20%20%0A%20%20%20%20%3Cmeta%20http-equiv%3D%22content-type%22%20content%3D%22text/html%3B%20charset%3DUTF-8%22%20/%3E%0A%20%20%20%20%0A%20%20%20%20%20%20%20%20%3Cscript%3E%0A%20%20%20%20%20%20%20%20%20%20%20%20L_NO_TOUCH%20%3D%20false%3B%0A%20%20%20%20%20%20%20%20%20%20%20%20L_DISABLE_3D%20%3D%20false%3B%0A%20%20%20%20%20%20%20%20%3C/script%3E%0A%20%20%20%20%0A%20%20%20%20%3Cstyle%3Ehtml%2C%20body%20%7Bwidth%3A%20100%25%3Bheight%3A%20100%25%3Bmargin%3A%200%3Bpadding%3A%200%3B%7D%3C/style%3E%0A%20%20%20%20%3Cstyle%3E%23map%20%7Bposition%3Aabsolute%3Btop%3A0%3Bbottom%3A0%3Bright%3A0%3Bleft%3A0%3B%7D%3C/style%3E%0A%20%20%20%20%3Cscript%20src%3D%22https%3A//cdn.jsdelivr.net/npm/leaflet%401.6.0/dist/leaflet.js%22%3E%3C/script%3E%0A%20%20%20%20%3Cscript%20src%3D%22https%3A//code.jquery.com/jquery-1.12.4.min.js%22%3E%3C/script%3E%0A%20%20%20%20%3Cscript%20src%3D%22https%3A//maxcdn.bootstrapcdn.com/bootstrap/3.2.0/js/bootstrap.min.js%22%3E%3C/script%3E%0A%20%20%20%20%3Cscript%20src%3D%22https%3A//cdnjs.cloudflare.com/ajax/libs/Leaflet.awesome-markers/2.0.2/leaflet.awesome-markers.js%22%3E%3C/script%3E%0A%20%20%20%20%3Clink%20rel%3D%22stylesheet%22%20href%3D%22https%3A//cdn.jsdelivr.net/npm/leaflet%401.6.0/dist/leaflet.css%22/%3E%0A%20%20%20%20%3Clink%20rel%3D%22stylesheet%22%20href%3D%22https%3A//maxcdn.bootstrapcdn.com/bootstrap/3.2.0/css/bootstrap.min.css%22/%3E%0A%20%20%20%20%3Clink%20rel%3D%22stylesheet%22%20href%3D%22https%3A//maxcdn.bootstrapcdn.com/bootstrap/3.2.0/css/bootstrap-theme.min.css%22/%3E%0A%20%20%20%20%3Clink%20rel%3D%22stylesheet%22%20href%3D%22https%3A//maxcdn.bootstrapcdn.com/font-awesome/4.6.3/css/font-awesome.min.css%22/%3E%0A%20%20%20%20%3Clink%20rel%3D%22stylesheet%22%20href%3D%22https%3A//cdnjs.cloudflare.com/ajax/libs/Leaflet.awesome-markers/2.0.2/leaflet.awesome-markers.css%22/%3E%0A%20%20%20%20%3Clink%20rel%3D%22stylesheet%22%20href%3D%22https%3A//cdn.jsdelivr.net/gh/python-visualization/folium/folium/templates/leaflet.awesome.rotate.min.css%22/%3E%0A%20%20%20%20%0A%20%20%20%20%20%20%20%20%20%20%20%20%3Cmeta%20name%3D%22viewport%22%20content%3D%22width%3Ddevice-width%2C%0A%20%20%20%20%20%20%20%20%20%20%20%20%20%20%20%20initial-scale%3D1.0%2C%20maximum-scale%3D1.0%2C%20user-scalable%3Dno%22%20/%3E%0A%20%20%20%20%20%20%20%20%20%20%20%20%3Cstyle%3E%0A%20%20%20%20%20%20%20%20%20%20%20%20%20%20%20%20%23map_2977bbe13015453a94fa7ee7da7ef7d1%20%7B%0A%20%20%20%20%20%20%20%20%20%20%20%20%20%20%20%20%20%20%20%20position%3A%20relative%3B%0A%20%20%20%20%20%20%20%20%20%20%20%20%20%20%20%20%20%20%20%20width%3A%20100.0%25%3B%0A%20%20%20%20%20%20%20%20%20%20%20%20%20%20%20%20%20%20%20%20height%3A%20100.0%25%3B%0A%20%20%20%20%20%20%20%20%20%20%20%20%20%20%20%20%20%20%20%20left%3A%200.0%25%3B%0A%20%20%20%20%20%20%20%20%20%20%20%20%20%20%20%20%20%20%20%20top%3A%200.0%25%3B%0A%20%20%20%20%20%20%20%20%20%20%20%20%20%20%20%20%7D%0A%20%20%20%20%20%20%20%20%20%20%20%20%3C/style%3E%0A%20%20%20%20%20%20%20%20%0A%20%20%20%20%0A%20%20%20%20%20%20%20%20%20%20%20%20%20%20%20%20%20%20%20%20%3Cstyle%3E%0A%20%20%20%20%20%20%20%20%20%20%20%20%20%20%20%20%20%20%20%20%20%20%20%20.foliumtooltip%20%7B%0A%20%20%20%20%20%20%20%20%20%20%20%20%20%20%20%20%20%20%20%20%20%20%20%20%20%20%20%20%0A%20%20%20%20%20%20%20%20%20%20%20%20%20%20%20%20%20%20%20%20%20%20%20%20%7D%0A%20%20%20%20%20%20%20%20%20%20%20%20%20%20%20%20%20%20%20%20%20%20%20.foliumtooltip%20table%7B%0A%20%20%20%20%20%20%20%20%20%20%20%20%20%20%20%20%20%20%20%20%20%20%20%20%20%20%20%20margin%3A%20auto%3B%0A%20%20%20%20%20%20%20%20%20%20%20%20%20%20%20%20%20%20%20%20%20%20%20%20%7D%0A%20%20%20%20%20%20%20%20%20%20%20%20%20%20%20%20%20%20%20%20%20%20%20%20.foliumtooltip%20tr%7B%0A%20%20%20%20%20%20%20%20%20%20%20%20%20%20%20%20%20%20%20%20%20%20%20%20%20%20%20%20text-align%3A%20left%3B%0A%20%20%20%20%20%20%20%20%20%20%20%20%20%20%20%20%20%20%20%20%20%20%20%20%7D%0A%20%20%20%20%20%20%20%20%20%20%20%20%20%20%20%20%20%20%20%20%20%20%20%20.foliumtooltip%20th%7B%0A%20%20%20%20%20%20%20%20%20%20%20%20%20%20%20%20%20%20%20%20%20%20%20%20%20%20%20%20padding%3A%202px%3B%20padding-right%3A%208px%3B%0A%20%20%20%20%20%20%20%20%20%20%20%20%20%20%20%20%20%20%20%20%20%20%20%20%7D%0A%20%20%20%20%20%20%20%20%20%20%20%20%20%20%20%20%20%20%20%20%3C/style%3E%0A%20%20%20%20%20%20%20%20%20%20%20%20%0A%3C/head%3E%0A%3Cbody%3E%20%20%20%20%0A%20%20%20%20%0A%20%20%20%20%20%20%20%20%20%20%20%20%3Cdiv%20class%3D%22folium-map%22%20id%3D%22map_2977bbe13015453a94fa7ee7da7ef7d1%22%20%3E%3C/div%3E%0A%20%20%20%20%20%20%20%20%0A%3C/body%3E%0A%3Cscript%3E%20%20%20%20%0A%20%20%20%20%0A%20%20%20%20%20%20%20%20%20%20%20%20var%20map_2977bbe13015453a94fa7ee7da7ef7d1%20%3D%20L.map%28%0A%20%20%20%20%20%20%20%20%20%20%20%20%20%20%20%20%22map_2977bbe13015453a94fa7ee7da7ef7d1%22%2C%0A%20%20%20%20%20%20%20%20%20%20%20%20%20%20%20%20%7B%0A%20%20%20%20%20%20%20%20%20%20%20%20%20%20%20%20%20%20%20%20center%3A%20%5B50.09152198326542%2C%209.873067157507782%5D%2C%0A%20%20%20%20%20%20%20%20%20%20%20%20%20%20%20%20%20%20%20%20crs%3A%20L.CRS.EPSG3857%2C%0A%20%20%20%20%20%20%20%20%20%20%20%20%20%20%20%20%20%20%20%20zoom%3A%2010%2C%0A%20%20%20%20%20%20%20%20%20%20%20%20%20%20%20%20%20%20%20%20zoomControl%3A%20true%2C%0A%20%20%20%20%20%20%20%20%20%20%20%20%20%20%20%20%20%20%20%20preferCanvas%3A%20false%2C%0A%20%20%20%20%20%20%20%20%20%20%20%20%20%20%20%20%7D%0A%20%20%20%20%20%20%20%20%20%20%20%20%29%3B%0A%20%20%20%20%20%20%20%20%20%20%20%20L.control.scale%28%29.addTo%28map_2977bbe13015453a94fa7ee7da7ef7d1%29%3B%0A%0A%20%20%20%20%20%20%20%20%20%20%20%20%0A%0A%20%20%20%20%20%20%20%20%0A%20%20%20%20%0A%20%20%20%20%20%20%20%20%20%20%20%20var%20tile_layer_4368a915610b411387449564da39d14b%20%3D%20L.tileLayer%28%0A%20%20%20%20%20%20%20%20%20%20%20%20%20%20%20%20%22https%3A//%7Bs%7D.tile.openstreetmap.org/%7Bz%7D/%7Bx%7D/%7By%7D.png%22%2C%0A%20%20%20%20%20%20%20%20%20%20%20%20%20%20%20%20%7B%22attribution%22%3A%20%22Data%20by%20%5Cu0026copy%3B%20%5Cu003ca%20href%3D%5C%22http%3A//openstreetmap.org%5C%22%5Cu003eOpenStreetMap%5Cu003c/a%5Cu003e%2C%20under%20%5Cu003ca%20href%3D%5C%22http%3A//www.openstreetmap.org/copyright%5C%22%5Cu003eODbL%5Cu003c/a%5Cu003e.%22%2C%20%22detectRetina%22%3A%20false%2C%20%22maxNativeZoom%22%3A%2018%2C%20%22maxZoom%22%3A%2018%2C%20%22minZoom%22%3A%200%2C%20%22noWrap%22%3A%20false%2C%20%22opacity%22%3A%201%2C%20%22subdomains%22%3A%20%22abc%22%2C%20%22tms%22%3A%20false%7D%0A%20%20%20%20%20%20%20%20%20%20%20%20%29.addTo%28map_2977bbe13015453a94fa7ee7da7ef7d1%29%3B%0A%20%20%20%20%20%20%20%20%0A%20%20%20%20%0A%20%20%20%20%20%20%20%20%20%20%20%20map_2977bbe13015453a94fa7ee7da7ef7d1.fitBounds%28%0A%20%20%20%20%20%20%20%20%20%20%20%20%20%20%20%20%5B%5B39.36376104689367%2C%20-8.213206798221538%5D%2C%20%5B60.81928291963718%2C%2027.9593411132371%5D%5D%2C%0A%20%20%20%20%20%20%20%20%20%20%20%20%20%20%20%20%7B%7D%0A%20%20%20%20%20%20%20%20%20%20%20%20%29%3B%0A%20%20%20%20%20%20%20%20%0A%20%20%20%20%0A%20%20%20%20%20%20%20%20function%20geo_json_664a8f2821504171b94fd200f624a22b_styler%28feature%29%20%7B%0A%20%20%20%20%20%20%20%20%20%20%20%20switch%28feature.id%29%20%7B%0A%20%20%20%20%20%20%20%20%20%20%20%20%20%20%20%20default%3A%0A%20%20%20%20%20%20%20%20%20%20%20%20%20%20%20%20%20%20%20%20return%20%7B%22fillOpacity%22%3A%200.5%2C%20%22weight%22%3A%202%7D%3B%0A%20%20%20%20%20%20%20%20%20%20%20%20%7D%0A%20%20%20%20%20%20%20%20%7D%0A%20%20%20%20%20%20%20%20function%20geo_json_664a8f2821504171b94fd200f624a22b_highlighter%28feature%29%20%7B%0A%20%20%20%20%20%20%20%20%20%20%20%20switch%28feature.id%29%20%7B%0A%20%20%20%20%20%20%20%20%20%20%20%20%20%20%20%20default%3A%0A%20%20%20%20%20%20%20%20%20%20%20%20%20%20%20%20%20%20%20%20return%20%7B%22fillOpacity%22%3A%200.75%7D%3B%0A%20%20%20%20%20%20%20%20%20%20%20%20%7D%0A%20%20%20%20%20%20%20%20%7D%0A%20%20%20%20%20%20%20%20function%20geo_json_664a8f2821504171b94fd200f624a22b_pointToLayer%28feature%2C%20latlng%29%20%7B%0A%20%20%20%20%20%20%20%20%20%20%20%20var%20opts%20%3D%20%7B%22fill%22%3A%20true%2C%20%22radius%22%3A%202%7D%3B%0A%20%20%20%20%20%20%20%20%20%20%20%20%0A%20%20%20%20%20%20%20%20%20%20%20%20let%20style%20%3D%20geo_json_664a8f2821504171b94fd200f624a22b_styler%28feature%29%0A%20%20%20%20%20%20%20%20%20%20%20%20Object.assign%28opts%2C%20style%29%0A%20%20%20%20%20%20%20%20%20%20%20%20%0A%20%20%20%20%20%20%20%20%20%20%20%20return%20new%20L.Marker%28latlng%2C%20opts%29%0A%20%20%20%20%20%20%20%20%7D%0A%0A%20%20%20%20%20%20%20%20function%20geo_json_664a8f2821504171b94fd200f624a22b_onEachFeature%28feature%2C%20layer%29%20%7B%0A%20%20%20%20%20%20%20%20%20%20%20%20layer.on%28%7B%0A%20%20%20%20%20%20%20%20%20%20%20%20%20%20%20%20mouseout%3A%20function%28e%29%20%7B%0A%20%20%20%20%20%20%20%20%20%20%20%20%20%20%20%20%20%20%20%20if%28typeof%20e.target.setStyle%20%3D%3D%3D%20%22function%22%29%7B%0A%20%20%20%20%20%20%20%20%20%20%20%20%20%20%20%20%20%20%20%20%20%20%20%20geo_json_664a8f2821504171b94fd200f624a22b.resetStyle%28e.target%29%3B%0A%20%20%20%20%20%20%20%20%20%20%20%20%20%20%20%20%20%20%20%20%7D%0A%20%20%20%20%20%20%20%20%20%20%20%20%20%20%20%20%7D%2C%0A%20%20%20%20%20%20%20%20%20%20%20%20%20%20%20%20mouseover%3A%20function%28e%29%20%7B%0A%20%20%20%20%20%20%20%20%20%20%20%20%20%20%20%20%20%20%20%20if%28typeof%20e.target.setStyle%20%3D%3D%3D%20%22function%22%29%7B%0A%20%20%20%20%20%20%20%20%20%20%20%20%20%20%20%20%20%20%20%20%20%20%20%20const%20highlightStyle%20%3D%20geo_json_664a8f2821504171b94fd200f624a22b_highlighter%28e.target.feature%29%0A%20%20%20%20%20%20%20%20%20%20%20%20%20%20%20%20%20%20%20%20%20%20%20%20e.target.setStyle%28highlightStyle%29%3B%0A%20%20%20%20%20%20%20%20%20%20%20%20%20%20%20%20%20%20%20%20%7D%0A%20%20%20%20%20%20%20%20%20%20%20%20%20%20%20%20%7D%2C%0A%20%20%20%20%20%20%20%20%20%20%20%20%7D%29%3B%0A%20%20%20%20%20%20%20%20%7D%3B%0A%20%20%20%20%20%20%20%20var%20geo_json_664a8f2821504171b94fd200f624a22b%20%3D%20L.geoJson%28null%2C%20%7B%0A%20%20%20%20%20%20%20%20%20%20%20%20%20%20%20%20onEachFeature%3A%20geo_json_664a8f2821504171b94fd200f624a22b_onEachFeature%2C%0A%20%20%20%20%20%20%20%20%20%20%20%20%0A%20%20%20%20%20%20%20%20%20%20%20%20%20%20%20%20style%3A%20geo_json_664a8f2821504171b94fd200f624a22b_styler%2C%0A%20%20%20%20%20%20%20%20%20%20%20%20%20%20%20%20pointToLayer%3A%20geo_json_664a8f2821504171b94fd200f624a22b_pointToLayer%0A%20%20%20%20%20%20%20%20%7D%29%3B%0A%0A%20%20%20%20%20%20%20%20function%20geo_json_664a8f2821504171b94fd200f624a22b_add%20%28data%29%20%7B%0A%20%20%20%20%20%20%20%20%20%20%20%20geo_json_664a8f2821504171b94fd200f624a22b%0A%20%20%20%20%20%20%20%20%20%20%20%20%20%20%20%20.addData%28data%29%0A%20%20%20%20%20%20%20%20%20%20%20%20%20%20%20%20.addTo%28map_2977bbe13015453a94fa7ee7da7ef7d1%29%3B%0A%20%20%20%20%20%20%20%20%7D%0A%20%20%20%20%20%20%20%20%20%20%20%20geo_json_664a8f2821504171b94fd200f624a22b_add%28%7B%22bbox%22%3A%20%5B-8.213206798221538%2C%2039.36376104689367%2C%2027.9593411132371%2C%2060.81928291963718%5D%2C%20%22features%22%3A%20%5B%7B%22bbox%22%3A%20%5B-8.213206798221538%2C%2039.36376104689367%2C%20-8.213206798221538%2C%2039.36376104689367%5D%2C%20%22geometry%22%3A%20%7B%22coordinates%22%3A%20%5B-8.213206798221538%2C%2039.36376104689367%5D%2C%20%22type%22%3A%20%22Point%22%7D%2C%20%22id%22%3A%20%220%22%2C%20%22properties%22%3A%20%7B%22acquisition_date%22%3A%20%222017-12-21%2011%3A25%3A01%22%2C%20%22cloud_or_shadow%22%3A%20false%2C%20%22country%22%3A%20%22Portugal%22%2C%20%22name%22%3A%20%22S2A_MSIL2A_20171221T112501_56_35%22%2C%20%22original_split%22%3A%20%22train%22%2C%20%22season%22%3A%20%22Winter%22%2C%20%22snow%22%3A%20false%2C%20%22tile_source%22%3A%20%22S2A_MSIL1C_20171221T112501_N0206_R037_T29SND_20171221T114356.SAFE%22%7D%2C%20%22type%22%3A%20%22Feature%22%7D%2C%20%7B%22bbox%22%3A%20%5B-6.890686649586739%2C%2052.30844251236928%2C%20-6.890686649586739%2C%2052.30844251236928%5D%2C%20%22geometry%22%3A%20%7B%22coordinates%22%3A%20%5B-6.890686649586739%2C%2052.30844251236928%5D%2C%20%22type%22%3A%20%22Point%22%7D%2C%20%22id%22%3A%20%221%22%2C%20%22properties%22%3A%20%7B%22acquisition_date%22%3A%20%222017-06-17%2011%3A33%3A21%22%2C%20%22cloud_or_shadow%22%3A%20false%2C%20%22country%22%3A%20%22Ireland%22%2C%20%22name%22%3A%20%22S2A_MSIL2A_20170617T113321_36_85%22%2C%20%22original_split%22%3A%20%22train%22%2C%20%22season%22%3A%20%22Summer%22%2C%20%22snow%22%3A%20false%2C%20%22tile_source%22%3A%20%22S2A_MSIL1C_20170617T113321_N0205_R080_T29UPU_20170617T113319.SAFE%22%7D%2C%20%22type%22%3A%20%22Feature%22%7D%2C%20%7B%22bbox%22%3A%20%5B25.061582874332363%2C%2056.219499068259196%2C%2025.061582874332363%2C%2056.219499068259196%5D%2C%20%22geometry%22%3A%20%7B%22coordinates%22%3A%20%5B25.061582874332363%2C%2056.219499068259196%5D%2C%20%22type%22%3A%20%22Point%22%7D%2C%20%22id%22%3A%20%222%22%2C%20%22properties%22%3A%20%7B%22acquisition_date%22%3A%20%222017-09-27%2009%3A40%3A19%22%2C%20%22cloud_or_shadow%22%3A%20false%2C%20%22country%22%3A%20%22Lithuania%22%2C%20%22name%22%3A%20%22S2B_MSIL2A_20170927T094019_66_56%22%2C%20%22original_split%22%3A%20%22train%22%2C%20%22season%22%3A%20%22Fall%22%2C%20%22snow%22%3A%20false%2C%20%22tile_source%22%3A%20%22S2B_MSIL1C_20170927T094019_N0205_R036_T35VLC_20170927T094016.SAFE%22%7D%2C%20%22type%22%3A%20%22Feature%22%7D%2C%20%7B%22bbox%22%3A%20%5B21.49223428565407%2C%2044.72608040968221%2C%2021.49223428565407%2C%2044.72608040968221%5D%2C%20%22geometry%22%3A%20%7B%22coordinates%22%3A%20%5B21.49223428565407%2C%2044.72608040968221%5D%2C%20%22type%22%3A%20%22Point%22%7D%2C%20%22id%22%3A%20%223%22%2C%20%22properties%22%3A%20%7B%22acquisition_date%22%3A%20%222017-09-14%2009%3A30%3A29%22%2C%20%22cloud_or_shadow%22%3A%20false%2C%20%22country%22%3A%20%22Serbia%22%2C%20%22name%22%3A%20%22S2B_MSIL2A_20170914T093029_32_39%22%2C%20%22original_split%22%3A%20%22test%22%2C%20%22season%22%3A%20%22Fall%22%2C%20%22snow%22%3A%20false%2C%20%22tile_source%22%3A%20%22S2B_MSIL1C_20170914T093029_N0205_R136_T34TEQ_20170914T093654.SAFE%22%7D%2C%20%22type%22%3A%20%22Feature%22%7D%2C%20%7B%22bbox%22%3A%20%5B-6.758362574665499%2C%2053.179993317824106%2C%20-6.758362574665499%2C%2053.179993317824106%5D%2C%20%22geometry%22%3A%20%7B%22coordinates%22%3A%20%5B-6.758362574665499%2C%2053.179993317824106%5D%2C%20%22type%22%3A%20%22Point%22%7D%2C%20%22id%22%3A%20%224%22%2C%20%22properties%22%3A%20%7B%22acquisition_date%22%3A%20%222018-04-21%2011%3A43%3A49%22%2C%20%22cloud_or_shadow%22%3A%20false%2C%20%22country%22%3A%20%22Ireland%22%2C%20%22name%22%3A%20%22S2B_MSIL2A_20180421T114349_41_4%22%2C%20%22original_split%22%3A%20%22test%22%2C%20%22season%22%3A%20%22Spring%22%2C%20%22snow%22%3A%20false%2C%20%22tile_source%22%3A%20%22S2B_MSIL1C_20180421T114349_N0206_R123_T29UPU_20180421T134219.SAFE%22%7D%2C%20%22type%22%3A%20%22Feature%22%7D%2C%20%7B%22bbox%22%3A%20%5B-6.680849684127433%2C%2052.61743383004935%2C%20-6.680849684127433%2C%2052.61743383004935%5D%2C%20%22geometry%22%3A%20%7B%22coordinates%22%3A%20%5B-6.680849684127433%2C%2052.61743383004935%5D%2C%20%22type%22%3A%20%22Point%22%7D%2C%20%22id%22%3A%20%225%22%2C%20%22properties%22%3A%20%7B%22acquisition_date%22%3A%20%222018-04-21%2011%3A43%3A49%22%2C%20%22cloud_or_shadow%22%3A%20false%2C%20%22country%22%3A%20%22Ireland%22%2C%20%22name%22%3A%20%22S2B_MSIL2A_20180421T114349_47_56%22%2C%20%22original_split%22%3A%20%22validation%22%2C%20%22season%22%3A%20%22Spring%22%2C%20%22snow%22%3A%20false%2C%20%22tile_source%22%3A%20%22S2B_MSIL1C_20180421T114349_N0206_R123_T29UPU_20180421T134219.SAFE%22%7D%2C%20%22type%22%3A%20%22Feature%22%7D%2C%20%7B%22bbox%22%3A%20%5B21.65187303011116%2C%2044.09490137175899%2C%2021.65187303011116%2C%2044.09490137175899%5D%2C%20%22geometry%22%3A%20%7B%22coordinates%22%3A%20%5B21.65187303011116%2C%2044.09490137175899%5D%2C%20%22type%22%3A%20%22Point%22%7D%2C%20%22id%22%3A%20%226%22%2C%20%22properties%22%3A%20%7B%22acquisition_date%22%3A%20%222018-05-02%2009%3A30%3A39%22%2C%20%22cloud_or_shadow%22%3A%20false%2C%20%22country%22%3A%20%22Serbia%22%2C%20%22name%22%3A%20%22S2B_MSIL2A_20180502T093039_43_14%22%2C%20%22original_split%22%3A%20%22validation%22%2C%20%22season%22%3A%20%22Spring%22%2C%20%22snow%22%3A%20false%2C%20%22tile_source%22%3A%20%22S2B_MSIL1C_20180502T093039_N0206_R136_T34TEP_20180502T113747.SAFE%22%7D%2C%20%22type%22%3A%20%22Feature%22%7D%2C%20%7B%22bbox%22%3A%20%5B27.9593411132371%2C%2060.81928291963718%2C%2027.9593411132371%2C%2060.81928291963718%5D%2C%20%22geometry%22%3A%20%7B%22coordinates%22%3A%20%5B27.9593411132371%2C%2060.81928291963718%5D%2C%20%22type%22%3A%20%22Point%22%7D%2C%20%22id%22%3A%20%227%22%2C%20%22properties%22%3A%20%7B%22acquisition_date%22%3A%20%222017-09-24%2009%3A30%3A19%22%2C%20%22cloud_or_shadow%22%3A%20false%2C%20%22country%22%3A%20%22Finland%22%2C%20%22name%22%3A%20%22S2B_MSIL2A_20170924T093019_43_47%22%2C%20%22original_split%22%3A%20%22validation%22%2C%20%22season%22%3A%20%22Fall%22%2C%20%22snow%22%3A%20false%2C%20%22tile_source%22%3A%20%22S2B_MSIL1C_20170924T093019_N0205_R136_T35VNH_20170924T093132.SAFE%22%7D%2C%20%22type%22%3A%20%22Feature%22%7D%2C%20%7B%22bbox%22%3A%20%5B-7.442302856994679%2C%2052.64068597587841%2C%20-7.442302856994679%2C%2052.64068597587841%5D%2C%20%22geometry%22%3A%20%7B%22coordinates%22%3A%20%5B-7.442302856994679%2C%2052.64068597587841%5D%2C%20%22type%22%3A%20%22Point%22%7D%2C%20%22id%22%3A%20%228%22%2C%20%22properties%22%3A%20%7B%22acquisition_date%22%3A%20%222017-06-17%2011%3A33%3A21%22%2C%20%22cloud_or_shadow%22%3A%20false%2C%20%22country%22%3A%20%22Ireland%22%2C%20%22name%22%3A%20%22S2A_MSIL2A_20170617T113321_4_55%22%2C%20%22original_split%22%3A%20%22train%22%2C%20%22season%22%3A%20%22Summer%22%2C%20%22snow%22%3A%20false%2C%20%22tile_source%22%3A%20%22S2A_MSIL1C_20170617T113321_N0205_R080_T29UPU_20170617T113319.SAFE%22%7D%2C%20%22type%22%3A%20%22Feature%22%7D%5D%2C%20%22type%22%3A%20%22FeatureCollection%22%7D%29%3B%0A%0A%20%20%20%20%20%20%20%20%0A%20%20%20%20%0A%20%20%20%20geo_json_664a8f2821504171b94fd200f624a22b.bindTooltip%28%0A%20%20%20%20function%28layer%29%7B%0A%20%20%20%20let%20div%20%3D%20L.DomUtil.create%28%27div%27%29%3B%0A%20%20%20%20%0A%20%20%20%20let%20handleObject%20%3D%20feature%3D%3Etypeof%28feature%29%3D%3D%27object%27%20%3F%20JSON.stringify%28feature%29%20%3A%20feature%3B%0A%20%20%20%20let%20fields%20%3D%20%5B%22tile_source%22%2C%20%22acquisition_date%22%2C%20%22name%22%2C%20%22snow%22%2C%20%22cloud_or_shadow%22%2C%20%22original_split%22%2C%20%22country%22%2C%20%22season%22%5D%3B%0A%20%20%20%20let%20aliases%20%3D%20%5B%22tile_source%22%2C%20%22acquisition_date%22%2C%20%22name%22%2C%20%22snow%22%2C%20%22cloud_or_shadow%22%2C%20%22original_split%22%2C%20%22country%22%2C%20%22season%22%5D%3B%0A%20%20%20%20let%20table%20%3D%20%27%3Ctable%3E%27%20%2B%0A%20%20%20%20%20%20%20%20String%28%0A%20%20%20%20%20%20%20%20fields.map%28%0A%20%20%20%20%20%20%20%20%28v%2Ci%29%3D%3E%0A%20%20%20%20%20%20%20%20%60%3Ctr%3E%0A%20%20%20%20%20%20%20%20%20%20%20%20%3Cth%3E%24%7Baliases%5Bi%5D%7D%3C/th%3E%0A%20%20%20%20%20%20%20%20%20%20%20%20%0A%20%20%20%20%20%20%20%20%20%20%20%20%3Ctd%3E%24%7BhandleObject%28layer.feature.properties%5Bv%5D%29%7D%3C/td%3E%0A%20%20%20%20%20%20%20%20%3C/tr%3E%60%29.join%28%27%27%29%29%0A%20%20%20%20%2B%27%3C/table%3E%27%3B%0A%20%20%20%20div.innerHTML%3Dtable%3B%0A%20%20%20%20%0A%20%20%20%20return%20div%0A%20%20%20%20%7D%0A%20%20%20%20%2C%7B%22className%22%3A%20%22foliumtooltip%22%2C%20%22sticky%22%3A%20true%7D%29%3B%0A%20%20%20%20%20%20%20%20%20%20%20%20%20%20%20%20%20%20%20%20%20%0A%3C/script%3E onload=\"this.contentDocument.open();this.contentDocument.write(    decodeURIComponent(this.getAttribute('data-html')));this.contentDocument.close();\" allowfullscreen webkitallowfullscreen mozallowfullscreen></iframe></div></div>"
      ],
      "text/plain": [
       "<folium.folium.Map at 0x7fc04ec8edd0>"
      ]
     },
     "execution_count": null,
     "metadata": {},
     "output_type": "execute_result"
    }
   ],
   "source": [
    "# hide\n",
    "gdf = get_gdf_from_s2_patch_dir(test_dataset)\n",
    "metadata_gdf = add_full_ben_s2_metadata(gdf)\n",
    "metadata_gdf.geometry = metadata_gdf.representative_point()\n",
    "# drop labels as parquet file format implicitely converts the list of strings from\n",
    "# labels to a `numpy.ndarray`, which cannot be implicitely converted by folium\n",
    "metadata_gdf.drop([\"labels\", \"new_labels\"], axis=1).explore(marker_type=\"marker\")\n"
   ]
  },
  {
   "cell_type": "code",
   "execution_count": null,
   "metadata": {},
   "outputs": [
    {
     "data": {
      "text/html": [
       "<pre style=\"white-space:pre;overflow-x:auto;line-height:normal;font-family:Menlo,'DejaVu Sans Mono',consolas,'Courier New',monospace\">Reprojecting                         <span style=\"color: #808000; text-decoration-color: #808000\">0:00:00</span>\n",
       "Loading country shapes               <span style=\"color: #808000; text-decoration-color: #808000\">0:00:00</span>\n",
       "Calculating centroids                <span style=\"color: #808000; text-decoration-color: #808000\">0:00:00</span>\n",
       "Assigning data to countries <span style=\"color: #008000; text-decoration-color: #008000\">(    ● )</span> <span style=\"color: #808000; text-decoration-color: #808000\">0:00:00</span>\n",
       "</pre>\n"
      ],
      "text/plain": [
       "Reprojecting                         \u001b[33m0:00:00\u001b[0m\n",
       "Loading country shapes               \u001b[33m0:00:00\u001b[0m\n",
       "Calculating centroids                \u001b[33m0:00:00\u001b[0m\n",
       "Assigning data to countries \u001b[32m(    ● )\u001b[0m \u001b[33m0:00:00\u001b[0m\n"
      ]
     },
     "metadata": {},
     "output_type": "display_data"
    },
    {
     "data": {
      "text/html": [
       "<pre style=\"white-space:pre;overflow-x:auto;line-height:normal;font-family:Menlo,'DejaVu Sans Mono',consolas,'Courier New',monospace\"></pre>\n"
      ],
      "text/plain": []
     },
     "metadata": {},
     "output_type": "display_data"
    },
    {
     "data": {
      "text/html": [
       "<pre style=\"white-space:pre;overflow-x:auto;line-height:normal;font-family:Menlo,'DejaVu Sans Mono',consolas,'Courier New',monospace\">\n",
       "</pre>\n"
      ],
      "text/plain": [
       "\n"
      ]
     },
     "metadata": {},
     "output_type": "display_data"
    },
    {
     "data": {
      "text/html": [
       "<div style=\"width:100%;\"><div style=\"position:relative;width:100%;height:0;padding-bottom:60%;\"><span style=\"color:#565656\">Make this Notebook Trusted to load map: File -> Trust Notebook</span><iframe src=\"about:blank\" style=\"position:absolute;width:100%;height:100%;left:0;top:0;border:none !important;\" data-html=%3C%21DOCTYPE%20html%3E%0A%3Chead%3E%20%20%20%20%0A%20%20%20%20%3Cmeta%20http-equiv%3D%22content-type%22%20content%3D%22text/html%3B%20charset%3DUTF-8%22%20/%3E%0A%20%20%20%20%0A%20%20%20%20%20%20%20%20%3Cscript%3E%0A%20%20%20%20%20%20%20%20%20%20%20%20L_NO_TOUCH%20%3D%20false%3B%0A%20%20%20%20%20%20%20%20%20%20%20%20L_DISABLE_3D%20%3D%20false%3B%0A%20%20%20%20%20%20%20%20%3C/script%3E%0A%20%20%20%20%0A%20%20%20%20%3Cstyle%3Ehtml%2C%20body%20%7Bwidth%3A%20100%25%3Bheight%3A%20100%25%3Bmargin%3A%200%3Bpadding%3A%200%3B%7D%3C/style%3E%0A%20%20%20%20%3Cstyle%3E%23map%20%7Bposition%3Aabsolute%3Btop%3A0%3Bbottom%3A0%3Bright%3A0%3Bleft%3A0%3B%7D%3C/style%3E%0A%20%20%20%20%3Cscript%20src%3D%22https%3A//cdn.jsdelivr.net/npm/leaflet%401.6.0/dist/leaflet.js%22%3E%3C/script%3E%0A%20%20%20%20%3Cscript%20src%3D%22https%3A//code.jquery.com/jquery-1.12.4.min.js%22%3E%3C/script%3E%0A%20%20%20%20%3Cscript%20src%3D%22https%3A//maxcdn.bootstrapcdn.com/bootstrap/3.2.0/js/bootstrap.min.js%22%3E%3C/script%3E%0A%20%20%20%20%3Cscript%20src%3D%22https%3A//cdnjs.cloudflare.com/ajax/libs/Leaflet.awesome-markers/2.0.2/leaflet.awesome-markers.js%22%3E%3C/script%3E%0A%20%20%20%20%3Clink%20rel%3D%22stylesheet%22%20href%3D%22https%3A//cdn.jsdelivr.net/npm/leaflet%401.6.0/dist/leaflet.css%22/%3E%0A%20%20%20%20%3Clink%20rel%3D%22stylesheet%22%20href%3D%22https%3A//maxcdn.bootstrapcdn.com/bootstrap/3.2.0/css/bootstrap.min.css%22/%3E%0A%20%20%20%20%3Clink%20rel%3D%22stylesheet%22%20href%3D%22https%3A//maxcdn.bootstrapcdn.com/bootstrap/3.2.0/css/bootstrap-theme.min.css%22/%3E%0A%20%20%20%20%3Clink%20rel%3D%22stylesheet%22%20href%3D%22https%3A//maxcdn.bootstrapcdn.com/font-awesome/4.6.3/css/font-awesome.min.css%22/%3E%0A%20%20%20%20%3Clink%20rel%3D%22stylesheet%22%20href%3D%22https%3A//cdnjs.cloudflare.com/ajax/libs/Leaflet.awesome-markers/2.0.2/leaflet.awesome-markers.css%22/%3E%0A%20%20%20%20%3Clink%20rel%3D%22stylesheet%22%20href%3D%22https%3A//cdn.jsdelivr.net/gh/python-visualization/folium/folium/templates/leaflet.awesome.rotate.min.css%22/%3E%0A%20%20%20%20%0A%20%20%20%20%20%20%20%20%20%20%20%20%3Cmeta%20name%3D%22viewport%22%20content%3D%22width%3Ddevice-width%2C%0A%20%20%20%20%20%20%20%20%20%20%20%20%20%20%20%20initial-scale%3D1.0%2C%20maximum-scale%3D1.0%2C%20user-scalable%3Dno%22%20/%3E%0A%20%20%20%20%20%20%20%20%20%20%20%20%3Cstyle%3E%0A%20%20%20%20%20%20%20%20%20%20%20%20%20%20%20%20%23map_331299074153458390cadf12c6ab6550%20%7B%0A%20%20%20%20%20%20%20%20%20%20%20%20%20%20%20%20%20%20%20%20position%3A%20relative%3B%0A%20%20%20%20%20%20%20%20%20%20%20%20%20%20%20%20%20%20%20%20width%3A%20100.0%25%3B%0A%20%20%20%20%20%20%20%20%20%20%20%20%20%20%20%20%20%20%20%20height%3A%20100.0%25%3B%0A%20%20%20%20%20%20%20%20%20%20%20%20%20%20%20%20%20%20%20%20left%3A%200.0%25%3B%0A%20%20%20%20%20%20%20%20%20%20%20%20%20%20%20%20%20%20%20%20top%3A%200.0%25%3B%0A%20%20%20%20%20%20%20%20%20%20%20%20%20%20%20%20%7D%0A%20%20%20%20%20%20%20%20%20%20%20%20%3C/style%3E%0A%20%20%20%20%20%20%20%20%0A%20%20%20%20%0A%20%20%20%20%20%20%20%20%20%20%20%20%20%20%20%20%20%20%20%20%3Cstyle%3E%0A%20%20%20%20%20%20%20%20%20%20%20%20%20%20%20%20%20%20%20%20%20%20%20%20.foliumtooltip%20%7B%0A%20%20%20%20%20%20%20%20%20%20%20%20%20%20%20%20%20%20%20%20%20%20%20%20%20%20%20%20%0A%20%20%20%20%20%20%20%20%20%20%20%20%20%20%20%20%20%20%20%20%20%20%20%20%7D%0A%20%20%20%20%20%20%20%20%20%20%20%20%20%20%20%20%20%20%20%20%20%20%20.foliumtooltip%20table%7B%0A%20%20%20%20%20%20%20%20%20%20%20%20%20%20%20%20%20%20%20%20%20%20%20%20%20%20%20%20margin%3A%20auto%3B%0A%20%20%20%20%20%20%20%20%20%20%20%20%20%20%20%20%20%20%20%20%20%20%20%20%7D%0A%20%20%20%20%20%20%20%20%20%20%20%20%20%20%20%20%20%20%20%20%20%20%20%20.foliumtooltip%20tr%7B%0A%20%20%20%20%20%20%20%20%20%20%20%20%20%20%20%20%20%20%20%20%20%20%20%20%20%20%20%20text-align%3A%20left%3B%0A%20%20%20%20%20%20%20%20%20%20%20%20%20%20%20%20%20%20%20%20%20%20%20%20%7D%0A%20%20%20%20%20%20%20%20%20%20%20%20%20%20%20%20%20%20%20%20%20%20%20%20.foliumtooltip%20th%7B%0A%20%20%20%20%20%20%20%20%20%20%20%20%20%20%20%20%20%20%20%20%20%20%20%20%20%20%20%20padding%3A%202px%3B%20padding-right%3A%208px%3B%0A%20%20%20%20%20%20%20%20%20%20%20%20%20%20%20%20%20%20%20%20%20%20%20%20%7D%0A%20%20%20%20%20%20%20%20%20%20%20%20%20%20%20%20%20%20%20%20%3C/style%3E%0A%20%20%20%20%20%20%20%20%20%20%20%20%0A%3C/head%3E%0A%3Cbody%3E%20%20%20%20%0A%20%20%20%20%0A%20%20%20%20%20%20%20%20%20%20%20%20%3Cdiv%20class%3D%22folium-map%22%20id%3D%22map_331299074153458390cadf12c6ab6550%22%20%3E%3C/div%3E%0A%20%20%20%20%20%20%20%20%0A%3C/body%3E%0A%3Cscript%3E%20%20%20%20%0A%20%20%20%20%0A%20%20%20%20%20%20%20%20%20%20%20%20var%20map_331299074153458390cadf12c6ab6550%20%3D%20L.map%28%0A%20%20%20%20%20%20%20%20%20%20%20%20%20%20%20%20%22map_331299074153458390cadf12c6ab6550%22%2C%0A%20%20%20%20%20%20%20%20%20%20%20%20%20%20%20%20%7B%0A%20%20%20%20%20%20%20%20%20%20%20%20%20%20%20%20%20%20%20%20center%3A%20%5B48.30319821747365%2C%2013.298184854337872%5D%2C%0A%20%20%20%20%20%20%20%20%20%20%20%20%20%20%20%20%20%20%20%20crs%3A%20L.CRS.EPSG3857%2C%0A%20%20%20%20%20%20%20%20%20%20%20%20%20%20%20%20%20%20%20%20zoom%3A%2010%2C%0A%20%20%20%20%20%20%20%20%20%20%20%20%20%20%20%20%20%20%20%20zoomControl%3A%20true%2C%0A%20%20%20%20%20%20%20%20%20%20%20%20%20%20%20%20%20%20%20%20preferCanvas%3A%20false%2C%0A%20%20%20%20%20%20%20%20%20%20%20%20%20%20%20%20%7D%0A%20%20%20%20%20%20%20%20%20%20%20%20%29%3B%0A%20%20%20%20%20%20%20%20%20%20%20%20L.control.scale%28%29.addTo%28map_331299074153458390cadf12c6ab6550%29%3B%0A%0A%20%20%20%20%20%20%20%20%20%20%20%20%0A%0A%20%20%20%20%20%20%20%20%0A%20%20%20%20%0A%20%20%20%20%20%20%20%20%20%20%20%20var%20tile_layer_f996383bd2df40fa89ebcb19f89f865b%20%3D%20L.tileLayer%28%0A%20%20%20%20%20%20%20%20%20%20%20%20%20%20%20%20%22https%3A//%7Bs%7D.tile.openstreetmap.org/%7Bz%7D/%7Bx%7D/%7By%7D.png%22%2C%0A%20%20%20%20%20%20%20%20%20%20%20%20%20%20%20%20%7B%22attribution%22%3A%20%22Data%20by%20%5Cu0026copy%3B%20%5Cu003ca%20href%3D%5C%22http%3A//openstreetmap.org%5C%22%5Cu003eOpenStreetMap%5Cu003c/a%5Cu003e%2C%20under%20%5Cu003ca%20href%3D%5C%22http%3A//www.openstreetmap.org/copyright%5C%22%5Cu003eODbL%5Cu003c/a%5Cu003e.%22%2C%20%22detectRetina%22%3A%20false%2C%20%22maxNativeZoom%22%3A%2018%2C%20%22maxZoom%22%3A%2018%2C%20%22minZoom%22%3A%200%2C%20%22noWrap%22%3A%20false%2C%20%22opacity%22%3A%201%2C%20%22subdomains%22%3A%20%22abc%22%2C%20%22tms%22%3A%20false%7D%0A%20%20%20%20%20%20%20%20%20%20%20%20%29.addTo%28map_331299074153458390cadf12c6ab6550%29%3B%0A%20%20%20%20%20%20%20%20%0A%20%20%20%20%0A%20%20%20%20%20%20%20%20%20%20%20%20map_331299074153458390cadf12c6ab6550.fitBounds%28%0A%20%20%20%20%20%20%20%20%20%20%20%20%20%20%20%20%5B%5B48.29240693337016%2C%2013.29782602748517%5D%2C%20%5B48.31398950157714%2C%2013.298543681190576%5D%5D%2C%0A%20%20%20%20%20%20%20%20%20%20%20%20%20%20%20%20%7B%7D%0A%20%20%20%20%20%20%20%20%20%20%20%20%29%3B%0A%20%20%20%20%20%20%20%20%0A%20%20%20%20%0A%20%20%20%20%20%20%20%20function%20geo_json_86289fce54e644f3af0ec903126adbf7_styler%28feature%29%20%7B%0A%20%20%20%20%20%20%20%20%20%20%20%20switch%28feature.id%29%20%7B%0A%20%20%20%20%20%20%20%20%20%20%20%20%20%20%20%20default%3A%0A%20%20%20%20%20%20%20%20%20%20%20%20%20%20%20%20%20%20%20%20return%20%7B%22fillOpacity%22%3A%200.5%2C%20%22weight%22%3A%202%7D%3B%0A%20%20%20%20%20%20%20%20%20%20%20%20%7D%0A%20%20%20%20%20%20%20%20%7D%0A%20%20%20%20%20%20%20%20function%20geo_json_86289fce54e644f3af0ec903126adbf7_highlighter%28feature%29%20%7B%0A%20%20%20%20%20%20%20%20%20%20%20%20switch%28feature.id%29%20%7B%0A%20%20%20%20%20%20%20%20%20%20%20%20%20%20%20%20default%3A%0A%20%20%20%20%20%20%20%20%20%20%20%20%20%20%20%20%20%20%20%20return%20%7B%22fillOpacity%22%3A%200.75%7D%3B%0A%20%20%20%20%20%20%20%20%20%20%20%20%7D%0A%20%20%20%20%20%20%20%20%7D%0A%20%20%20%20%20%20%20%20function%20geo_json_86289fce54e644f3af0ec903126adbf7_pointToLayer%28feature%2C%20latlng%29%20%7B%0A%20%20%20%20%20%20%20%20%20%20%20%20var%20opts%20%3D%20%7B%22fill%22%3A%20true%2C%20%22radius%22%3A%202%7D%3B%0A%20%20%20%20%20%20%20%20%20%20%20%20%0A%20%20%20%20%20%20%20%20%20%20%20%20let%20style%20%3D%20geo_json_86289fce54e644f3af0ec903126adbf7_styler%28feature%29%0A%20%20%20%20%20%20%20%20%20%20%20%20Object.assign%28opts%2C%20style%29%0A%20%20%20%20%20%20%20%20%20%20%20%20%0A%20%20%20%20%20%20%20%20%20%20%20%20return%20new%20L.Marker%28latlng%2C%20opts%29%0A%20%20%20%20%20%20%20%20%7D%0A%0A%20%20%20%20%20%20%20%20function%20geo_json_86289fce54e644f3af0ec903126adbf7_onEachFeature%28feature%2C%20layer%29%20%7B%0A%20%20%20%20%20%20%20%20%20%20%20%20layer.on%28%7B%0A%20%20%20%20%20%20%20%20%20%20%20%20%20%20%20%20mouseout%3A%20function%28e%29%20%7B%0A%20%20%20%20%20%20%20%20%20%20%20%20%20%20%20%20%20%20%20%20if%28typeof%20e.target.setStyle%20%3D%3D%3D%20%22function%22%29%7B%0A%20%20%20%20%20%20%20%20%20%20%20%20%20%20%20%20%20%20%20%20%20%20%20%20geo_json_86289fce54e644f3af0ec903126adbf7.resetStyle%28e.target%29%3B%0A%20%20%20%20%20%20%20%20%20%20%20%20%20%20%20%20%20%20%20%20%7D%0A%20%20%20%20%20%20%20%20%20%20%20%20%20%20%20%20%7D%2C%0A%20%20%20%20%20%20%20%20%20%20%20%20%20%20%20%20mouseover%3A%20function%28e%29%20%7B%0A%20%20%20%20%20%20%20%20%20%20%20%20%20%20%20%20%20%20%20%20if%28typeof%20e.target.setStyle%20%3D%3D%3D%20%22function%22%29%7B%0A%20%20%20%20%20%20%20%20%20%20%20%20%20%20%20%20%20%20%20%20%20%20%20%20const%20highlightStyle%20%3D%20geo_json_86289fce54e644f3af0ec903126adbf7_highlighter%28e.target.feature%29%0A%20%20%20%20%20%20%20%20%20%20%20%20%20%20%20%20%20%20%20%20%20%20%20%20e.target.setStyle%28highlightStyle%29%3B%0A%20%20%20%20%20%20%20%20%20%20%20%20%20%20%20%20%20%20%20%20%7D%0A%20%20%20%20%20%20%20%20%20%20%20%20%20%20%20%20%7D%2C%0A%20%20%20%20%20%20%20%20%20%20%20%20%7D%29%3B%0A%20%20%20%20%20%20%20%20%7D%3B%0A%20%20%20%20%20%20%20%20var%20geo_json_86289fce54e644f3af0ec903126adbf7%20%3D%20L.geoJson%28null%2C%20%7B%0A%20%20%20%20%20%20%20%20%20%20%20%20%20%20%20%20onEachFeature%3A%20geo_json_86289fce54e644f3af0ec903126adbf7_onEachFeature%2C%0A%20%20%20%20%20%20%20%20%20%20%20%20%0A%20%20%20%20%20%20%20%20%20%20%20%20%20%20%20%20style%3A%20geo_json_86289fce54e644f3af0ec903126adbf7_styler%2C%0A%20%20%20%20%20%20%20%20%20%20%20%20%20%20%20%20pointToLayer%3A%20geo_json_86289fce54e644f3af0ec903126adbf7_pointToLayer%0A%20%20%20%20%20%20%20%20%7D%29%3B%0A%0A%20%20%20%20%20%20%20%20function%20geo_json_86289fce54e644f3af0ec903126adbf7_add%20%28data%29%20%7B%0A%20%20%20%20%20%20%20%20%20%20%20%20geo_json_86289fce54e644f3af0ec903126adbf7%0A%20%20%20%20%20%20%20%20%20%20%20%20%20%20%20%20.addData%28data%29%0A%20%20%20%20%20%20%20%20%20%20%20%20%20%20%20%20.addTo%28map_331299074153458390cadf12c6ab6550%29%3B%0A%20%20%20%20%20%20%20%20%7D%0A%20%20%20%20%20%20%20%20%20%20%20%20geo_json_86289fce54e644f3af0ec903126adbf7_add%28%7B%22bbox%22%3A%20%5B13.29782602748517%2C%2048.29240693337016%2C%2013.298543681190576%2C%2048.31398950157714%5D%2C%20%22features%22%3A%20%5B%7B%22bbox%22%3A%20%5B13.298184960077597%2C%2048.30319822865112%2C%2013.298184960077597%2C%2048.30319822865112%5D%2C%20%22geometry%22%3A%20%7B%22coordinates%22%3A%20%5B13.298184960077597%2C%2048.30319822865112%5D%2C%20%22type%22%3A%20%22Point%22%7D%2C%20%22id%22%3A%20%220%22%2C%20%22properties%22%3A%20%7B%22acquisition_time%22%3A%20%222017-06-13T16%3A50%3A43%22%2C%20%22cloud_or_shadow%22%3A%20false%2C%20%22corresponding_s2_patch%22%3A%20%22S2A_MSIL2A_20170613T101031_61_40%22%2C%20%22country%22%3A%20%22Austria%22%2C%20%22name%22%3A%20%22S1A_IW_GRDH_1SDV_20170613T165043_33UUP_61_40%22%2C%20%22original_split%22%3A%20%22test%22%2C%20%22scene_source%22%3A%20%22S1A_IW_GRDH_1SDV_20170613T165043_20170613T165108_017018_01C579_7EEC%22%2C%20%22season%22%3A%20%22Summer%22%2C%20%22snow%22%3A%20false%7D%2C%20%22type%22%3A%20%22Feature%22%7D%2C%20%7B%22bbox%22%3A%20%5B13.29782602748517%2C%2048.31398950157714%2C%2013.29782602748517%2C%2048.31398950157714%5D%2C%20%22geometry%22%3A%20%7B%22coordinates%22%3A%20%5B13.29782602748517%2C%2048.31398950157714%5D%2C%20%22type%22%3A%20%22Point%22%7D%2C%20%22id%22%3A%20%221%22%2C%20%22properties%22%3A%20%7B%22acquisition_time%22%3A%20%222017-06-13T16%3A50%3A43%22%2C%20%22cloud_or_shadow%22%3A%20false%2C%20%22corresponding_s2_patch%22%3A%20%22S2A_MSIL2A_20170613T101031_61_39%22%2C%20%22country%22%3A%20%22Austria%22%2C%20%22name%22%3A%20%22S1A_IW_GRDH_1SDV_20170613T165043_33UUP_61_39%22%2C%20%22original_split%22%3A%20%22train%22%2C%20%22scene_source%22%3A%20%22S1A_IW_GRDH_1SDV_20170613T165043_20170613T165108_017018_01C579_7EEC%22%2C%20%22season%22%3A%20%22Summer%22%2C%20%22snow%22%3A%20false%7D%2C%20%22type%22%3A%20%22Feature%22%7D%2C%20%7B%22bbox%22%3A%20%5B13.298543681190576%2C%2048.29240693337016%2C%2013.298543681190576%2C%2048.29240693337016%5D%2C%20%22geometry%22%3A%20%7B%22coordinates%22%3A%20%5B13.298543681190576%2C%2048.29240693337016%5D%2C%20%22type%22%3A%20%22Point%22%7D%2C%20%22id%22%3A%20%222%22%2C%20%22properties%22%3A%20%7B%22acquisition_time%22%3A%20%222017-06-13T16%3A50%3A43%22%2C%20%22cloud_or_shadow%22%3A%20false%2C%20%22corresponding_s2_patch%22%3A%20%22S2A_MSIL2A_20170613T101031_61_41%22%2C%20%22country%22%3A%20%22Austria%22%2C%20%22name%22%3A%20%22S1A_IW_GRDH_1SDV_20170613T165043_33UUP_61_41%22%2C%20%22original_split%22%3A%20%22train%22%2C%20%22scene_source%22%3A%20%22S1A_IW_GRDH_1SDV_20170613T165043_20170613T165108_017018_01C579_7EEC%22%2C%20%22season%22%3A%20%22Summer%22%2C%20%22snow%22%3A%20false%7D%2C%20%22type%22%3A%20%22Feature%22%7D%5D%2C%20%22type%22%3A%20%22FeatureCollection%22%7D%29%3B%0A%0A%20%20%20%20%20%20%20%20%0A%20%20%20%20%0A%20%20%20%20geo_json_86289fce54e644f3af0ec903126adbf7.bindTooltip%28%0A%20%20%20%20function%28layer%29%7B%0A%20%20%20%20let%20div%20%3D%20L.DomUtil.create%28%27div%27%29%3B%0A%20%20%20%20%0A%20%20%20%20let%20handleObject%20%3D%20feature%3D%3Etypeof%28feature%29%3D%3D%27object%27%20%3F%20JSON.stringify%28feature%29%20%3A%20feature%3B%0A%20%20%20%20let%20fields%20%3D%20%5B%22corresponding_s2_patch%22%2C%20%22scene_source%22%2C%20%22acquisition_time%22%2C%20%22name%22%2C%20%22snow%22%2C%20%22cloud_or_shadow%22%2C%20%22original_split%22%2C%20%22country%22%2C%20%22season%22%5D%3B%0A%20%20%20%20let%20aliases%20%3D%20%5B%22corresponding_s2_patch%22%2C%20%22scene_source%22%2C%20%22acquisition_time%22%2C%20%22name%22%2C%20%22snow%22%2C%20%22cloud_or_shadow%22%2C%20%22original_split%22%2C%20%22country%22%2C%20%22season%22%5D%3B%0A%20%20%20%20let%20table%20%3D%20%27%3Ctable%3E%27%20%2B%0A%20%20%20%20%20%20%20%20String%28%0A%20%20%20%20%20%20%20%20fields.map%28%0A%20%20%20%20%20%20%20%20%28v%2Ci%29%3D%3E%0A%20%20%20%20%20%20%20%20%60%3Ctr%3E%0A%20%20%20%20%20%20%20%20%20%20%20%20%3Cth%3E%24%7Baliases%5Bi%5D%7D%3C/th%3E%0A%20%20%20%20%20%20%20%20%20%20%20%20%0A%20%20%20%20%20%20%20%20%20%20%20%20%3Ctd%3E%24%7BhandleObject%28layer.feature.properties%5Bv%5D%29%7D%3C/td%3E%0A%20%20%20%20%20%20%20%20%3C/tr%3E%60%29.join%28%27%27%29%29%0A%20%20%20%20%2B%27%3C/table%3E%27%3B%0A%20%20%20%20div.innerHTML%3Dtable%3B%0A%20%20%20%20%0A%20%20%20%20return%20div%0A%20%20%20%20%7D%0A%20%20%20%20%2C%7B%22className%22%3A%20%22foliumtooltip%22%2C%20%22sticky%22%3A%20true%7D%29%3B%0A%20%20%20%20%20%20%20%20%20%20%20%20%20%20%20%20%20%20%20%20%20%0A%3C/script%3E onload=\"this.contentDocument.open();this.contentDocument.write(    decodeURIComponent(this.getAttribute('data-html')));this.contentDocument.close();\" allowfullscreen webkitallowfullscreen mozallowfullscreen></iframe></div></div>"
      ],
      "text/plain": [
       "<folium.folium.Map at 0x7fc04ec75590>"
      ]
     },
     "execution_count": null,
     "metadata": {},
     "output_type": "execute_result"
    }
   ],
   "source": [
    "# hide\n",
    "gdf_s1 = get_gdf_from_s1_patch_dir(s1_test_dataset)\n",
    "metadata_gdf_s1 = add_full_ben_s1_metadata(gdf_s1)\n",
    "metadata_gdf_s1.geometry = metadata_gdf_s1.representative_point()\n",
    "# drop labels as parquet file format implicitely converts the list of strings from\n",
    "# labels to a `numpy.ndarray`, which cannot be implicitely converted by folium\n",
    "metadata_gdf_s1.drop([\"labels\", \"new_labels\"], axis=1).explore(marker_type=\"marker\")\n"
   ]
  },
  {
   "cell_type": "markdown",
   "metadata": {},
   "source": [
    "## Removing _bad_ patches\n",
    "Code to remove patches that aren't recommded to be used for Deep Learning applications.\n",
    "These patches are:\n",
    "- covered by seasonal snow\n",
    "- covered by clouds or shadows\n",
    "- do not have any target labels in the 19-class nomenclature"
   ]
  },
  {
   "cell_type": "code",
   "execution_count": null,
   "metadata": {},
   "outputs": [],
   "source": [
    "# export\n",
    "def _remove_snow_cloud_patches(gdf):\n",
    "    snowy = gdf[\"name\"].apply(is_snowy_patch)\n",
    "    cloudy = gdf[\"name\"].apply(is_cloudy_shadowy_patch)\n",
    "    return gdf[~(snowy | cloudy)]\n",
    "\n",
    "\n",
    "def remove_bad_ben_gdf_entries(gdf: geopandas.GeoDataFrame) -> geopandas.GeoDataFrame:\n",
    "    \"\"\"\n",
    "    It will ensure that the returned frame will only contain patches that\n",
    "    also have labels for the 19 label version.\n",
    "\n",
    "    If the GeoDataFrame doesn't include a column named `new_labels`, it\n",
    "    will be created by converting the `labels` column.\n",
    "    The patches that do not contain any `new_labels` are dropped.\n",
    "\n",
    "    There are 57 patches that would have no target labels.\n",
    "    Also patches that are covered by seasonal snow or clouds/shadows\n",
    "    are removed if present.\n",
    "\n",
    "    The dataframe will be reindexed.\n",
    "\n",
    "    Note: This function applies to both S1 and S2 BigEarthNet dataframes!\n",
    "    \"\"\"\n",
    "    gdf[\"new_labels\"] = gdf[\"labels\"].apply(old2new_labels)\n",
    "    errs = gdf[\"new_labels\"].isna()\n",
    "    gdf.drop(gdf[errs].index, inplace=True)  # remove wrong elements\n",
    "    gdf = _remove_snow_cloud_patches(gdf)\n",
    "    gdf = gdf.reset_index(drop=True)\n",
    "    return gdf\n"
   ]
  },
  {
   "cell_type": "code",
   "execution_count": null,
   "metadata": {},
   "outputs": [],
   "source": [
    "# hide\n",
    "import geopandas.testing\n",
    "\n",
    "# my tiny dataset contains only _good_ patches\n",
    "g1 = remove_bad_ben_gdf_entries(gdf)\n",
    "g2 = remove_bad_ben_gdf_entries(metadata_gdf)\n",
    "geopandas.testing.assert_geodataframe_equal(g1, g2)\n",
    "\n",
    "g1 = remove_bad_ben_gdf_entries(gdf_s1)\n",
    "g2 = remove_bad_ben_gdf_entries(metadata_gdf_s1)\n",
    "geopandas.testing.assert_geodataframe_equal(g1, g2)\n",
    "# TODO: Manually add a couple of tests that actually test the filtering\n"
   ]
  },
  {
   "cell_type": "markdown",
   "metadata": {},
   "source": [
    "# CLI\n",
    "To better streamline reproducible builds, the following section will introduce code to call the common functions via `typer`."
   ]
  },
  {
   "cell_type": "code",
   "execution_count": null,
   "metadata": {},
   "outputs": [],
   "source": [
    "# export\n",
    "import shutil\n",
    "import tempfile\n",
    "\n",
    "\n",
    "def build_raw_ben_s2_parquet(\n",
    "    ben_path: Path,\n",
    "    output_path: Path = Path() / \"raw_ben_s2_gdf.parquet\",\n",
    "    n_workers: int = 8,\n",
    "    target_proj: str = \"epsg:4326\",\n",
    "    verbose: bool = True,\n",
    ") -> Path:\n",
    "    \"\"\"\n",
    "    Create a fresh BigEarthNet-S2-style parquet file\n",
    "    from all the image patches in the root `ben_path` folder.\n",
    "    The output will be written to `output_path`.\n",
    "\n",
    "    The default output is `raw_ben_s2_gdf` in the current directory.\n",
    "\n",
    "    The other options are only for advanced use.\n",
    "    Returns the resolved output path.\n",
    "    \"\"\"\n",
    "    output_path = output_path.resolve()\n",
    "    gdf = get_gdf_from_s2_patch_dir(ben_path, n_workers=n_workers, target_proj=target_proj)\n",
    "    gdf.to_parquet(output_path)\n",
    "    if verbose:\n",
    "        rich.print(f\"[green]Output written to:\\n {output_path}[/green]\")\n",
    "    return output_path\n",
    "\n",
    "def build_raw_ben_s1_parquet(\n",
    "    ben_path: Path,\n",
    "    output_path: Path = Path() / \"raw_ben_s1_gdf.parquet\",\n",
    "    n_workers: int = 8,\n",
    "    target_proj: str = \"epsg:4326\",\n",
    "    verbose: bool = True,\n",
    ") -> Path:\n",
    "    \"\"\"\n",
    "    Create a fresh BigEarthNet-S1-style parquet file\n",
    "    from all the image patches in the root `ben_path` folder.\n",
    "    The output will be written to `output_path`.\n",
    "\n",
    "    The default output is `raw_ben_s1_gdf` in the current directory.\n",
    "\n",
    "    The other options are only for advanced use.\n",
    "    Returns the resolved output path.\n",
    "    \"\"\"\n",
    "    output_path = output_path.resolve()\n",
    "    gdf = get_gdf_from_s1_patch_dir(ben_path, n_workers=n_workers, target_proj=target_proj)\n",
    "    gdf.to_parquet(output_path)\n",
    "    if verbose:\n",
    "        rich.print(f\"[green]Output written to:\\n {output_path}[/green]\")\n",
    "    return output_path\n",
    "\n",
    "\n",
    "def extend_ben_s2_parquet(\n",
    "    ben_parquet_path: Path,\n",
    "    output_name: str = \"extended_ben_s2_gdf.parquet\",\n",
    "    verbose: bool = True,\n",
    ") -> Path:\n",
    "    \"\"\"\n",
    "    Extend an existing BigEarthNet-S2-style parquet file.\n",
    "\n",
    "    The output will be written next to `ben_parquet_path` with the file\n",
    "    `output_name`.\n",
    "    The default name is `extended_ben_s2_gdf`.\n",
    "\n",
    "    This function heavily relies on the structure of the parquet file.\n",
    "    It should only be used on parquet files that were build with this library!\n",
    "    Use the functions of this package directly to have more control!\n",
    "    \"\"\"\n",
    "    path = ben_parquet_path.resolve(strict=True)\n",
    "    gdf = geopandas.read_parquet(path)\n",
    "    extended_gdf = add_full_ben_s2_metadata(gdf)\n",
    "    output_path = path.with_name(output_name)\n",
    "    extended_gdf.to_parquet(output_path)\n",
    "    if verbose:\n",
    "        rich.print(f\"[green]Output written to:\\n {output_path}[/green]\")\n",
    "    return output_path\n",
    "\n",
    "def extend_ben_s1_parquet(\n",
    "    ben_parquet_path: Path,\n",
    "    output_name: str = \"extended_ben_s1_gdf.parquet\",\n",
    "    verbose: bool = True,\n",
    ") -> Path:\n",
    "    \"\"\"\n",
    "    Extend an existing BigEarthNet-S1-style parquet file.\n",
    "\n",
    "    The output will be written next to `ben_parquet_path` with the file\n",
    "    `output_name`.\n",
    "    The default name is `extended_ben_s1_gdf`.\n",
    "\n",
    "    This function heavily relies on the structure of the parquet file.\n",
    "    It should only be used on parquet files that were build with this library!\n",
    "    Use the functions of this package directly to have more control!\n",
    "    \"\"\"\n",
    "    path = ben_parquet_path.resolve(strict=True)\n",
    "    gdf = geopandas.read_parquet(path)\n",
    "    extended_gdf = add_full_ben_s1_metadata(gdf)\n",
    "    output_path = path.with_name(output_name)\n",
    "    extended_gdf.to_parquet(output_path)\n",
    "    if verbose:\n",
    "        rich.print(f\"[green]Output written to:\\n {output_path}[/green]\")\n",
    "    return output_path\n",
    "\n",
    "\n",
    "def remove_discouraged_parquet_entries(\n",
    "    ben_parquet_path: Path,\n",
    "    output_name: str = \"cleaned_ben_gdf.parquet\",\n",
    "    verbose: bool = True,\n",
    ") -> Path:\n",
    "    \"\"\"\n",
    "    Remove entries of an existing BigEarthNet-style (S1 or S2) parquet file.\n",
    "\n",
    "    The output will be written next to `ben_parquet_path` with the file\n",
    "    `output_name`.\n",
    "    The default name is `cleaned_ben_gdf.parquet`.\n",
    "\n",
    "    This function only requires the input parquet file to have the\n",
    "    `name` column and the original 43-class nomenclature called `labels`.\n",
    "    \"\"\"\n",
    "    path = ben_parquet_path.resolve(strict=True)\n",
    "    gdf = geopandas.read_parquet(path)\n",
    "    cleaned_gdf = remove_bad_ben_gdf_entries(gdf)\n",
    "    output_path = path.with_name(output_name)\n",
    "    cleaned_gdf.to_parquet(output_path)\n",
    "    if verbose:\n",
    "        rich.print(f\"[green]Output written to:\\n {output_path}[/green]\")\n",
    "    return output_path\n",
    "\n",
    "\n",
    "@fc.delegates(build_raw_ben_s2_parquet, but=[\"output_path\"])\n",
    "def build_recommended_s2_parquet(\n",
    "    ben_path: Path,\n",
    "    add_metadata: bool = True,\n",
    "    output_path: Path = \"final_ben_s2.parquet\",\n",
    "    **kwargs,\n",
    ") -> Path:\n",
    "    \"\"\"\n",
    "    Generate the recommended S2-GeoDataFrame and save\n",
    "    it as a parquet file.\n",
    "\n",
    "    It will call `build_raw_ben_s2_parquet` under the hood and remove\n",
    "    patches that are not recommended for DL.\n",
    "    If `add_metadata` is set, the GeoDataFrame will be\n",
    "    enriched with extra information, such as Country and Season of the patch.\n",
    "    See `add_full_ben_metadata` for more information.\n",
    "\n",
    "    This tool will store all intermediate results in a temporary directory.\n",
    "    This temporary directory will be printed to allow accessing these\n",
    "    intermediate results if necessary.\n",
    "    The resulting GeoDataFrame will be copied to `output_path`.\n",
    "\n",
    "    The other keyword arguments should usually be left untouched.\n",
    "    \"\"\"\n",
    "    output_path = Path(output_path).resolve()\n",
    "    tmp_dir_fp = tempfile.TemporaryDirectory()\n",
    "    tmp_dir = Path(tmp_dir_fp.name)\n",
    "    rich.print(\"[yellow]The intermediate results will be stored in: [/yellow]\")\n",
    "    rich.print(f\"[yellow]{tmp_dir}[/yellow]\\n\\n\")\n",
    "\n",
    "    rich.print(\"Parsing from json files\")\n",
    "    rich.print(\"This may take up to 30min for the entire dataset!\")\n",
    "    raw_gdf_path = build_raw_ben_s2_parquet(\n",
    "        ben_path, output_path=tmp_dir / \"raw_ben_gdf.parquet\", **kwargs\n",
    "    )\n",
    "\n",
    "    rich.print(\"Removing discouraged entries\")\n",
    "    gdf_path = remove_discouraged_parquet_entries(raw_gdf_path)\n",
    "\n",
    "    if add_metadata:\n",
    "        rich.print(\"Adding metadata\")\n",
    "        gdf_path = extend_ben_s2_parquet(gdf_path)\n",
    "\n",
    "    shutil.copyfile(gdf_path, output_path)\n",
    "    rich.print(f\"Final result copied to {output_path}\")\n",
    "    return output_path\n",
    "\n",
    "@fc.delegates(build_raw_ben_s1_parquet, but=[\"output_path\"])\n",
    "def build_recommended_s1_parquet(\n",
    "    ben_path: Path,\n",
    "    add_metadata: bool = True,\n",
    "    output_path: Path = \"final_ben_s1.parquet\",\n",
    "    **kwargs,\n",
    ") -> Path:\n",
    "    \"\"\"\n",
    "    Generate the recommended S1-GeoDataFrame and save\n",
    "    it as a parquet file.\n",
    "\n",
    "    It will call `build_raw_ben_s1_parquet` under the hood and remove\n",
    "    patches that are not recommended for DL.\n",
    "    If `add_metadata` is set, the GeoDataFrame will be\n",
    "    enriched with extra information, such as Country and Season of the patch.\n",
    "    See `add_full_ben_metadata` for more information.\n",
    "\n",
    "    This tool will store all intermediate results in a temporary directory.\n",
    "    This temporary directory will be printed to allow accessing these\n",
    "    intermediate results if necessary.\n",
    "    The resulting GeoDataFrame will be copied to `output_path`.\n",
    "\n",
    "    The other keyword arguments should usually be left untouched.\n",
    "    \"\"\"\n",
    "    output_path = Path(output_path).resolve()\n",
    "    tmp_dir_fp = tempfile.TemporaryDirectory()\n",
    "    tmp_dir = Path(tmp_dir_fp.name)\n",
    "    rich.print(\"[yellow]The intermediate results will be stored in: [/yellow]\")\n",
    "    rich.print(f\"[yellow]{tmp_dir}[/yellow]\\n\\n\")\n",
    "\n",
    "    rich.print(\"Parsing from json files\")\n",
    "    rich.print(\"This may take up to 30min for the entire dataset!\")\n",
    "    raw_gdf_path = build_raw_ben_s1_parquet(\n",
    "        ben_path, output_path=tmp_dir / \"raw_ben_gdf.parquet\", **kwargs\n",
    "    )\n",
    "\n",
    "    rich.print(\"Removing discouraged entries\")\n",
    "    gdf_path = remove_discouraged_parquet_entries(raw_gdf_path)\n",
    "\n",
    "    if add_metadata:\n",
    "        rich.print(\"Adding metadata\")\n",
    "        gdf_path = extend_ben_s1_parquet(gdf_path)\n",
    "\n",
    "    shutil.copyfile(gdf_path, output_path)\n",
    "    rich.print(f\"Final result copied to {output_path}\")\n",
    "    return output_path"
   ]
  },
  {
   "cell_type": "code",
   "execution_count": null,
   "metadata": {},
   "outputs": [
    {
     "data": {
      "text/html": [
       "<pre style=\"white-space:pre;overflow-x:auto;line-height:normal;font-family:Menlo,'DejaVu Sans Mono',consolas,'Courier New',monospace\">Reprojecting                         <span style=\"color: #808000; text-decoration-color: #808000\">0:00:00</span>\n",
       "Loading country shapes               <span style=\"color: #808000; text-decoration-color: #808000\">0:00:00</span>\n",
       "Calculating centroids                <span style=\"color: #808000; text-decoration-color: #808000\">0:00:00</span>\n",
       "Assigning data to countries <span style=\"color: #008000; text-decoration-color: #008000\">(     ●)</span> <span style=\"color: #808000; text-decoration-color: #808000\">0:00:00</span>\n",
       "</pre>\n"
      ],
      "text/plain": [
       "Reprojecting                         \u001b[33m0:00:00\u001b[0m\n",
       "Loading country shapes               \u001b[33m0:00:00\u001b[0m\n",
       "Calculating centroids                \u001b[33m0:00:00\u001b[0m\n",
       "Assigning data to countries \u001b[32m(     ●)\u001b[0m \u001b[33m0:00:00\u001b[0m\n"
      ]
     },
     "metadata": {},
     "output_type": "display_data"
    },
    {
     "data": {
      "text/html": [
       "<pre style=\"white-space:pre;overflow-x:auto;line-height:normal;font-family:Menlo,'DejaVu Sans Mono',consolas,'Courier New',monospace\"></pre>\n"
      ],
      "text/plain": []
     },
     "metadata": {},
     "output_type": "display_data"
    },
    {
     "data": {
      "text/html": [
       "<pre style=\"white-space:pre;overflow-x:auto;line-height:normal;font-family:Menlo,'DejaVu Sans Mono',consolas,'Courier New',monospace\">\n",
       "</pre>\n"
      ],
      "text/plain": [
       "\n"
      ]
     },
     "metadata": {},
     "output_type": "display_data"
    },
    {
     "data": {
      "text/html": [
       "<pre style=\"white-space:pre;overflow-x:auto;line-height:normal;font-family:Menlo,'DejaVu Sans Mono',consolas,'Courier New',monospace\"><span style=\"color: #008000; text-decoration-color: #008000\">Output written to:</span>\n",
       "<span style=\"color: #008000; text-decoration-color: #008000\"> /tmp/tmpuxf4lirg/extended_ben_s2_gdf.parquet</span>\n",
       "</pre>\n"
      ],
      "text/plain": [
       "\u001b[32mOutput written to:\u001b[0m\n",
       "\u001b[32m \u001b[0m\u001b[32m/tmp/tmpuxf4lirg/\u001b[0m\u001b[32mextended_ben_s2_gdf.parquet\u001b[0m\n"
      ]
     },
     "metadata": {},
     "output_type": "display_data"
    },
    {
     "data": {
      "text/html": [
       "<pre style=\"white-space:pre;overflow-x:auto;line-height:normal;font-family:Menlo,'DejaVu Sans Mono',consolas,'Courier New',monospace\">Final result copied to <span style=\"color: #800080; text-decoration-color: #800080\">/tmp/tmprja0ayr2/</span><span style=\"color: #ff00ff; text-decoration-color: #ff00ff\">out.parquet</span>\n",
       "</pre>\n"
      ],
      "text/plain": [
       "Final result copied to \u001b[35m/tmp/tmprja0ayr2/\u001b[0m\u001b[95mout.parquet\u001b[0m\n"
      ]
     },
     "metadata": {},
     "output_type": "display_data"
    }
   ],
   "source": [
    "# hide\n",
    "import tempfile\n",
    "\n",
    "\n",
    "# test default name if only given a path\n",
    "tmp_dir_fp = tempfile.TemporaryDirectory()\n",
    "tmp_path = Path(tmp_dir_fp.name)\n",
    "p = build_raw_ben_s2_parquet(\"datasets/tiny\", output_path=tmp_path / \"raw_ben_gdf.parquet\")\n",
    "t = build_recommended_s2_parquet(\"datasets/tiny\", output_path=tmp_path / \"out.parquet\")\n",
    "tmp_dir_fp.cleanup()\n",
    "# build_recommended_parquet(\"datasets/tiny\", output_path=\"datasets/tiny/tiny.parquet\")\n"
   ]
  },
  {
   "cell_type": "code",
   "execution_count": null,
   "metadata": {},
   "outputs": [
    {
     "data": {
      "text/html": [
       "<pre style=\"white-space:pre;overflow-x:auto;line-height:normal;font-family:Menlo,'DejaVu Sans Mono',consolas,'Courier New',monospace\">Reprojecting                         <span style=\"color: #808000; text-decoration-color: #808000\">0:00:00</span>\n",
       "Loading country shapes               <span style=\"color: #808000; text-decoration-color: #808000\">0:00:00</span>\n",
       "Calculating centroids                <span style=\"color: #808000; text-decoration-color: #808000\">0:00:00</span>\n",
       "Assigning data to countries <span style=\"color: #008000; text-decoration-color: #008000\">(     ●)</span> <span style=\"color: #808000; text-decoration-color: #808000\">0:00:00</span>\n",
       "</pre>\n"
      ],
      "text/plain": [
       "Reprojecting                         \u001b[33m0:00:00\u001b[0m\n",
       "Loading country shapes               \u001b[33m0:00:00\u001b[0m\n",
       "Calculating centroids                \u001b[33m0:00:00\u001b[0m\n",
       "Assigning data to countries \u001b[32m(     ●)\u001b[0m \u001b[33m0:00:00\u001b[0m\n"
      ]
     },
     "metadata": {},
     "output_type": "display_data"
    },
    {
     "data": {
      "text/html": [
       "<pre style=\"white-space:pre;overflow-x:auto;line-height:normal;font-family:Menlo,'DejaVu Sans Mono',consolas,'Courier New',monospace\"></pre>\n"
      ],
      "text/plain": []
     },
     "metadata": {},
     "output_type": "display_data"
    },
    {
     "data": {
      "text/html": [
       "<pre style=\"white-space:pre;overflow-x:auto;line-height:normal;font-family:Menlo,'DejaVu Sans Mono',consolas,'Courier New',monospace\">\n",
       "</pre>\n"
      ],
      "text/plain": [
       "\n"
      ]
     },
     "metadata": {},
     "output_type": "display_data"
    },
    {
     "data": {
      "text/html": [
       "<pre style=\"white-space:pre;overflow-x:auto;line-height:normal;font-family:Menlo,'DejaVu Sans Mono',consolas,'Courier New',monospace\"><span style=\"color: #008000; text-decoration-color: #008000\">Output written to:</span>\n",
       "<span style=\"color: #008000; text-decoration-color: #008000\"> /tmp/tmpvzr1ejcd/extended_ben_s1_gdf.parquet</span>\n",
       "</pre>\n"
      ],
      "text/plain": [
       "\u001b[32mOutput written to:\u001b[0m\n",
       "\u001b[32m \u001b[0m\u001b[32m/tmp/tmpvzr1ejcd/\u001b[0m\u001b[32mextended_ben_s1_gdf.parquet\u001b[0m\n"
      ]
     },
     "metadata": {},
     "output_type": "display_data"
    },
    {
     "data": {
      "text/html": [
       "<pre style=\"white-space:pre;overflow-x:auto;line-height:normal;font-family:Menlo,'DejaVu Sans Mono',consolas,'Courier New',monospace\">Final result copied to <span style=\"color: #800080; text-decoration-color: #800080\">/tmp/tmpzu7tj29k/</span><span style=\"color: #ff00ff; text-decoration-color: #ff00ff\">out.parquet</span>\n",
       "</pre>\n"
      ],
      "text/plain": [
       "Final result copied to \u001b[35m/tmp/tmpzu7tj29k/\u001b[0m\u001b[95mout.parquet\u001b[0m\n"
      ]
     },
     "metadata": {},
     "output_type": "display_data"
    }
   ],
   "source": [
    "# hide\n",
    "import tempfile\n",
    "\n",
    "\n",
    "# test default name if only given a path\n",
    "tmp_dir_fp = tempfile.TemporaryDirectory()\n",
    "tmp_path = Path(tmp_dir_fp.name)\n",
    "p = build_raw_ben_s1_parquet(\"datasets/s1-tiny\", output_path=tmp_path / \"raw_ben_gdf.parquet\")\n",
    "t = build_recommended_s1_parquet(\"datasets/s1-tiny\", output_path=tmp_path / \"out.parquet\")\n",
    "tmp_dir_fp.cleanup()\n",
    "# build_recommended_parquet(\"datasets/tiny\", output_path=\"datasets/tiny/tiny.parquet\")\n"
   ]
  },
  {
   "cell_type": "code",
   "execution_count": null,
   "metadata": {},
   "outputs": [],
   "source": [
    "# export\n",
    "\n",
    "def _run_gdf_cli() -> None:\n",
    "    app = typer.Typer()\n",
    "    # hack command registration here\n",
    "    # to better test the underlying function\n",
    "    app.command()(build_recommended_s1_parquet)\n",
    "    app.command()(build_recommended_s2_parquet)\n",
    "    app.command()(build_raw_ben_s1_parquet)\n",
    "    app.command()(build_raw_ben_s2_parquet)\n",
    "    app.command()(extend_ben_s1_parquet)\n",
    "    app.command()(extend_ben_s2_parquet)\n",
    "    app.command()(remove_discouraged_parquet_entries)\n",
    "    app()\n",
    "    \n",
    "if __name__ == \"__main__\" and not fc.IN_IPYTHON:\n",
    "    _run_gdf_cli()\n"
   ]
  },
  {
   "cell_type": "code",
   "execution_count": null,
   "metadata": {},
   "outputs": [
    {
     "name": "stdout",
     "output_type": "stream",
     "text": [
      "Converted 01a_constants.ipynb.\n",
      "Converted 01b_base.ipynb.\n",
      "Converted 01c_gdf_builder.ipynb.\n",
      "Converted index.ipynb.\n",
      "converting: /home/kai/git/bigearthnet_common/nbs/01b_base.ipynb\n",
      "converting /home/kai/git/bigearthnet_common/nbs/index.ipynb to README.md\n"
     ]
    }
   ],
   "source": [
    "# hide\n",
    "from nbdev.cli import nbdev_build_docs\n",
    "from nbdev.export import notebook2script\n",
    "\n",
    "notebook2script()\n",
    "nbdev_build_docs()\n"
   ]
  },
  {
   "cell_type": "code",
   "execution_count": null,
   "metadata": {},
   "outputs": [],
   "source": []
  }
 ],
 "metadata": {
  "kernelspec": {
   "display_name": "Python 3 (ipykernel)",
   "language": "python",
   "name": "python3"
  }
 },
 "nbformat": 4,
 "nbformat_minor": 4
}
