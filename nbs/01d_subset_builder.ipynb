{
 "cells": [
  {
   "cell_type": "code",
   "execution_count": null,
   "metadata": {},
   "outputs": [],
   "source": [
    "# default_exp subset_builder\n"
   ]
  },
  {
   "cell_type": "code",
   "execution_count": null,
   "metadata": {},
   "outputs": [],
   "source": [
    "# hide\n",
    "%load_ext autoreload\n",
    "%autoreload 2"
   ]
  },
  {
   "cell_type": "markdown",
   "metadata": {},
   "source": [
    "# BigEarthNet Subset Builder\n",
    "> Tools to quickly create and link subsets on UNIX based systems."
   ]
  },
  {
   "cell_type": "markdown",
   "metadata": {},
   "source": [
    "## Work-In-Progress!"
   ]
  },
  {
   "cell_type": "code",
   "execution_count": null,
   "metadata": {},
   "outputs": [],
   "source": [
    "# export\n",
    "import rich\n",
    "from pathlib import Path\n",
    "from typing import List, Optional"
   ]
  },
  {
   "cell_type": "code",
   "execution_count": null,
   "metadata": {},
   "outputs": [
    {
     "data": {
      "text/plain": [
       "{PosixPath('datasets/tiny/S2A_MSIL2A_20170617T113321_36_85'),\n",
       " PosixPath('datasets/tiny/S2A_MSIL2A_20170617T113321_4_55'),\n",
       " PosixPath('datasets/tiny/S2A_MSIL2A_20171221T112501_56_35'),\n",
       " PosixPath('datasets/tiny/S2A_MSIL2A_20180510T94033_19_86'),\n",
       " PosixPath('datasets/tiny/S2B_MSIL2A_20170914T093029_32_39'),\n",
       " PosixPath('datasets/tiny/S2B_MSIL2A_20170924T093019_43_47'),\n",
       " PosixPath('datasets/tiny/S2B_MSIL2A_20170924T93021_41_29'),\n",
       " PosixPath('datasets/tiny/S2B_MSIL2A_20170927T094019_66_56'),\n",
       " PosixPath('datasets/tiny/S2B_MSIL2A_20180421T114349_41_4'),\n",
       " PosixPath('datasets/tiny/S2B_MSIL2A_20180421T114349_47_56'),\n",
       " PosixPath('datasets/tiny/S2B_MSIL2A_20180502T093039_43_14')}"
      ]
     },
     "execution_count": null,
     "metadata": {},
     "output_type": "execute_result"
    }
   ],
   "source": [
    "# hide\n",
    "p = Path(\"datasets/tiny\")\n",
    "files = [p for p in p.rglob(\"*\") if p.suffix == \".tif\"]\n",
    "# use set to minimize directory creation calls\n",
    "dirs = {f.parent for f in files}\n",
    "dirs\n",
    "target = Path(\"/storagecube/kaiclasen/tiny/\")\n",
    "target\n"
   ]
  },
  {
   "cell_type": "code",
   "execution_count": null,
   "metadata": {},
   "outputs": [],
   "source": [
    "# export\n",
    "def recurse_link_files(\n",
    "    src_dataset, target_dir, only_suffixes: Optional[List[str]] = None\n",
    "):\n",
    "    \"\"\"\n",
    "    Copy the directory structure of `src_dataset` and\n",
    "    **link** the files from the `src_dataset` to\n",
    "    `target_dir`.\n",
    "\n",
    "    This minimizes the storage-space, while allowing\n",
    "    to add _local_ files.\n",
    "\n",
    "    Optionally provide `only_suffixes` to skip all files\n",
    "    that do **not** have one of the provided extensions.\n",
    "    These extensions must start with `.`\n",
    "    \"\"\"\n",
    "\n",
    "    for original_patch in paths:\n",
    "        original_patch.resolve(strict=True)\n",
    "        if original_patch.is_file():\n",
    "            continue\n",
    "        target_patch = target_dir / original_patch.name\n",
    "        if target_patch.exists():\n",
    "            rich.print(f\"[yellow]Skipping: {target_patch}[/yellow]\")\n",
    "            continue\n",
    "        target_patch.symlink_to(original_patch, target_is_directory=True)\n",
    "    return str(target_dir)\n",
    "\n",
    "\n",
    "# def recurse_link_files(gdf, src_dataset, target_dir):\n",
    "#     paths = gdf[\"name\"].apply(lambda name: src_dataset / name)\n"
   ]
  },
  {
   "cell_type": "code",
   "execution_count": null,
   "metadata": {},
   "outputs": [],
   "source": []
  }
 ],
 "metadata": {
  "kernelspec": {
   "display_name": "Python 3.8.12 64-bit (conda)",
   "language": "python",
   "name": "python3"
  }
 },
 "nbformat": 4,
 "nbformat_minor": 2
}
