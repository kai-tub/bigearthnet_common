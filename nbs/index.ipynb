{
 "cells": [
  {
   "cell_type": "code",
   "execution_count": null,
   "metadata": {},
   "outputs": [],
   "source": [
    "# hide"
   ]
  },
  {
   "cell_type": "markdown",
   "metadata": {},
   "source": [
    "# Common BigEarthNet Tools\n",
    "\n",
    "> A personal collection of common tools to interact with the BigEarthNet dataset."
   ]
  },
  {
   "cell_type": "markdown",
   "metadata": {},
   "source": [
    "<div align=\"center\">\n",
    "\n",
    "[![Tests](https://img.shields.io/github/workflow/status/kai-tub/bigearthnet_common/CI?color=dark-green&label=%20Tests)](https://github.com/kai-tub/bigearthnet_common/actions/workflows/main.yml)\n",
    "[![License](https://img.shields.io/pypi/l/bigearthnet_common?color=dark-green)](https://github.com/kai-tub/bigearthnet_common/blob/main/LICENSE)\n",
    "[![PyPI version](https://badge.fury.io/py/bigearthnet-common.svg)](https://pypi.org/project/bigearthnet-common/)\n",
    "[![Auto Release](https://img.shields.io/badge/release-auto.svg?colorA=888888&colorB=9B065A&label=auto&logo=data:image/png;base64,iVBORw0KGgoAAAANSUhEUgAAABQAAAAUCAYAAACNiR0NAAACzElEQVR4AYXBW2iVBQAA4O+/nLlLO9NM7JSXasko2ASZMaKyhRKEDH2ohxHVWy6EiIiiLOgiZG9CtdgG0VNQoJEXRogVgZYylI1skiKVITPTTtnv3M7+v8UvnG3M+r7APLIRxStn69qzqeBBrMYyBDiL4SD0VeFmRwtrkrI5IjP0F7rjzrSjvbTqwubiLZffySrhRrSghBJa8EBYY0NyLJt8bDBOtzbEY72TldQ1kRm6otana8JK3/kzN/3V/NBPU6HsNnNlZAz/ukOalb0RBJKeQnykd7LiX5Fp/YXuQlfUuhXbg8Di5GL9jbXFq/tLa86PpxPhAPrwCYaiorS8L/uuPJh1hZFbcR8mewrx0d7JShr3F7pNW4vX0GRakKWVk7taDq7uPvFWw8YkMcPVb+vfvfRZ1i7zqFwjtmFouL72y6C/0L0Ie3GvaQXRyYVB3YZNE32/+A/D9bVLcRB3yw3hkRCdaDUtFl6Ykr20aaLvKoqIXUdbMj6GFzAmdxfWx9iIRrkDr1f27cFONGMUo/gRI/jNbIMYxJOoR1cY0OGaVPb5z9mlKbyJP/EsdmIXvsFmM7Ql42nEblX3xI1BbYbTkXCqRnxUbgzPo4T7sQBNeBG7zbAiDI8nWfZDhQWYCG4PFr+HMBQ6l5VPJybeRyJXwsdYJ/cRnlJV0yB4ZlUYtFQIkMZnst8fRrPcKezHCblz2IInMIkPzbbyb9mW42nWInc2xmE0y61AJ06oGsXL5rcOK1UdCbEXiVwNXsEy/6+EbaiVG8eeEAfxvaoSBnCH61uOD7BS1Ul8ESHBKWxCrdyd6EYNKihgEVrwOAbQruoytuBYIFfAc3gVN6iawhjKyNCEpYhVJXgbOzARyaU4hCtYizq5EI1YgiUoIlT1B7ZjByqmRWYbwtdYjoWoN7+LOIQefIqKawLzK6ID69GGpQgwhhEcwGGUzfEPAiPqsCXadFsAAAAASUVORK5CYII=)](https://github.com/intuit/auto)\n",
    "</div>"
   ]
  },
  {
   "cell_type": "markdown",
   "metadata": {},
   "source": [
    "This library provides a collection of high-level tools to better work with the [BigEarthNet](bigearth.net) dataset.\n",
    "\n",
    "`ben_common` tries to accomplish three goals:\n",
    "\n",
    "1. Collect the most relevant _constants_ into a single place to reduce the time spent looking for these, like:\n",
    "   - The 19 or 43 class nomenclature strings\n",
    "   - URL\n",
    "   - Band statistics (mean/variance) as integer and float\n",
    "   - Channel names\n",
    "   - etc.\n",
    "2. Provide parsing functions to convert the metadata json files to a [geopandas](https://geopandas.org/en/stable/) [GeoDataFrame's](https://geopandas.org/en/stable/getting_started/introduction.html).\n",
    "   - Allow for easy top-level statistical analysis of the data in a familiar _pandas_-style \n",
    "   - Provide functions to enrich GeoDataFrames with often required BigEarthNet metadata (like the season or country of the patch)\n",
    "3. Simplify the building procedure by providing a command-line interface with reproducible results\n",
    "\n"
   ]
  },
  {
   "cell_type": "markdown",
   "metadata": {},
   "source": [
    "## Deep Learning \n",
    "\n",
    "One of the main purposes of the dataset is to allow deep learning researchers and practitioners to train their model on multi-spectral satellite data easily.\n",
    "In that regard, there is a general recommendation to drop patches that are covered by seasonal snow or clouds.\n",
    "Also, the novel 19-class nomenclature should be preferred over the original 43-class nomenclature.\n",
    "As a result of these recommendations, some patches have to be _excluded_ from the original raw BigEarthNet dataset that is provided at [BigEarthNet](bigearth.net).\n",
    "This is especially important for higher-level statistical analysis.\n",
    "\n",
    "To simplify the procedure of pre-converting the json metadata files, the library provides a single command that will generate a recommended GeoDataFrame with extra metadata (country/season data of each patch) while dropping all patches that are not recommended for deep learning research.\n",
    "\n",
    "To generate such a GeoDataFrame and store it as an `parquet` file, use:\n",
    "\n",
    "- `ben_gdf_builder build-recommended-parquet` (available after installing package) or\n",
    "- `python -m bigearthnet_common.gdf_builder build-recommended-parquet`\n",
    "\n",
    "If you want to read the raw json files and convert those to a GeoDataFrame file, without dropping any patches or adding any metadata, use:\n",
    "\n",
    "- `ben_gdf_builder build-raw-ben-parquet` (available after installing package) or\n",
    "- `python -m bigearthnet_common.gdf_builder build-raw-ben-parquet`\n"
   ]
  },
  {
   "cell_type": "markdown",
   "metadata": {},
   "source": [
    "## Local Installation\n",
    "\n",
    "Use [just](https://github.com/casey/just#installation) to install the package or run steps from `justfile` directly.\n",
    "Requires [mamba](https://github.com/mamba-org/mamba) (highly recommended) or [poetry](https://python-poetry.org/docs/basic-usage/) to be installed.\n",
    "\n",
    "## Local Documentation\n",
    "\n",
    "> Note: Building and serving the documentation requires `Docker` to be installed!\n",
    "\n",
    "After creating the `ben_common_env` environment, run \n",
    "```bash\n",
    "docker-compose up\n",
    "```\n",
    "\n",
    "Or with `just`:\n",
    "```bash\n",
    "just docs\n",
    "```\n",
    "\n",
    "After running the command, the documentation server will be available at \n",
    "- <http://0.0.0.0:4000/bigearthnet_common/> or \n",
    "- <http://localhost:4000/bigearthnet_common/> (WSL).\n",
    "\n",
    "To review the source code, please look at the corresponding `ipynb` notebook from the `nbs` folder.\n",
    "These notebooks include extensive documentation, visualizations, and tests.\n",
    "The automatically generated Python files are available in the `bigearthnet_common` module.\n"
   ]
  },
  {
   "cell_type": "code",
   "execution_count": null,
   "metadata": {},
   "outputs": [
    {
     "name": "stdout",
     "output_type": "stream",
     "text": [
      "Converted 01a_constants.ipynb.\n",
      "Converted 01b_base.ipynb.\n",
      "Converted 01c_gdf_builder.ipynb.\n",
      "Converted index.ipynb.\n",
      "converting: /home/kai/git/bigearthnet_common/nbs/index.ipynb\n",
      "converting: /home/kai/git/bigearthnet_common/nbs/01a_constants.ipynb\n",
      "converting /home/kai/git/bigearthnet_common/nbs/index.ipynb to README.md\n"
     ]
    }
   ],
   "source": [
    "# hide\n",
    "from nbdev.cli import nbdev_build_docs\n",
    "from nbdev.export import notebook2script\n",
    "\n",
    "notebook2script()\n",
    "nbdev_build_docs()"
   ]
  },
  {
   "cell_type": "code",
   "execution_count": null,
   "metadata": {},
   "outputs": [],
   "source": []
  }
 ],
 "metadata": {
  "kernelspec": {
   "display_name": "Python 3 (ipykernel)",
   "language": "python",
   "name": "python3"
  }
 },
 "nbformat": 4,
 "nbformat_minor": 4
}
