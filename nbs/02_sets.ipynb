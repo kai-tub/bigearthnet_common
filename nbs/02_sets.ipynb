{
 "cells": [
  {
   "cell_type": "code",
   "execution_count": null,
   "metadata": {},
   "outputs": [],
   "source": [
    "# default_exp sets\n"
   ]
  },
  {
   "cell_type": "code",
   "execution_count": null,
   "metadata": {},
   "outputs": [
    {
     "name": "stdout",
     "output_type": "stream",
     "text": [
      "The autoreload extension is already loaded. To reload it, use:\n",
      "  %reload_ext autoreload\n"
     ]
    }
   ],
   "source": [
    "# hide\n",
    "%load_ext autoreload\n",
    "%autoreload 2\n"
   ]
  },
  {
   "cell_type": "markdown",
   "metadata": {},
   "source": [
    "# BigEarthNet Sets\n",
    "> Functions to quickly access sets and subsets of patch names of BigEarthNet"
   ]
  },
  {
   "cell_type": "code",
   "execution_count": null,
   "metadata": {},
   "outputs": [],
   "source": [
    "# export\n",
    "from typing import Set\n",
    "\n",
    "import bigearthnet_common.constants as ben_constants\n",
    "from bigearthnet_common.base import (\n",
    "    is_cloudy_shadowy_patch,\n",
    "    is_snowy_patch,\n",
    "    get_s1_patches_with_no_19_class_target,\n",
    "    get_s2_patches_with_no_19_class_target,\n",
    "    get_patches_to_season_mapping,\n",
    "    get_patches_to_country_mapping,\n",
    "    get_complete_s1_to_s2_patch_name_mapping,\n",
    "    get_complete_s2_to_s1_patch_name_mapping,\n",
    ")\n"
   ]
  },
  {
   "cell_type": "code",
   "execution_count": null,
   "metadata": {},
   "outputs": [],
   "source": [
    "# export\n",
    "def get_all_s2_patches() -> Set[str]:\n",
    "    return set(get_complete_s2_to_s1_patch_name_mapping().keys())\n",
    "\n",
    "\n",
    "def get_all_s1_patches() -> Set[str]:\n",
    "    return set(get_complete_s1_to_s2_patch_name_mapping().keys())\n",
    "\n",
    "\n",
    "def get_recommended_s2_patches() -> Set[str]:\n",
    "    s2_patches = get_all_s2_patches()\n",
    "    no_19_class_targets = get_s2_patches_with_no_19_class_target()\n",
    "    recommended_s2_patches = {\n",
    "        p\n",
    "        for p in s2_patches\n",
    "        if not is_snowy_patch(p)\n",
    "        and not is_cloudy_shadowy_patch(p)\n",
    "        and p not in no_19_class_targets\n",
    "    }\n",
    "    return recommended_s2_patches\n",
    "\n",
    "def get_recommended_s1_patches() -> Set[str]:\n",
    "    s1_patches = get_all_s1_patches()\n",
    "    no_19_class_targets = get_s1_patches_with_no_19_class_target()\n",
    "    recommended_s1_patches = {\n",
    "        p\n",
    "        for p in s1_patches\n",
    "        if not is_snowy_patch(p)\n",
    "        and not is_cloudy_shadowy_patch(p)\n",
    "        and p not in no_19_class_targets\n",
    "    }\n",
    "    return recommended_s1_patches"
   ]
  },
  {
   "cell_type": "code",
   "execution_count": null,
   "metadata": {},
   "outputs": [],
   "source": [
    "assert len(get_all_s1_patches()) == ben_constants.BEN_COMPLETE_SIZE\n",
    "assert len(get_all_s2_patches()) == ben_constants.BEN_COMPLETE_SIZE\n",
    "assert len(get_recommended_s1_patches()) == ben_constants.BEN_RECOMMENDED_SIZE\n",
    "assert len(get_recommended_s2_patches()) == ben_constants.BEN_RECOMMENDED_SIZE"
   ]
  },
  {
   "cell_type": "code",
   "execution_count": null,
   "metadata": {},
   "outputs": [],
   "source": [
    "# export\n",
    "# FUTURE: Maybe convert country string to enums?\n",
    "def filter_s2_patches_by_country(patches, country: str) -> Set[str]:\n",
    "    country = country.title()  # ben country style\n",
    "    if country.title() not in ben_constants.COUNTRIES:\n",
    "        raise ValueError(f\"{country} is not one of the BEN countries: {ben_constants.COUNTRIES}!\")\n",
    "    \n",
    "    patch_country_mapping = get_patches_to_country_mapping(use_s2_patch_names=True)\n",
    "    return {p for p in patches if patch_country_mapping[p] == country}\n",
    "\n",
    "def filter_s1_patches_by_country(patches, country: str) -> Set[str]:\n",
    "    country = country.title()  # ben country style\n",
    "    if country.title() not in ben_constants.COUNTRIES:\n",
    "        raise ValueError(f\"{country} is not one of the BEN countries: {ben_constants.COUNTRIES}!\")\n",
    "    \n",
    "    patch_country_mapping = get_patches_to_country_mapping(use_s2_patch_names=False)\n",
    "    return {p for p in patches if patch_country_mapping[p] == country}\n",
    "\n",
    "def filter_s2_patches_by_season(patches, season: str) -> Set[str]:\n",
    "    season = season.title()  # ben season style\n",
    "    patch_season_mapping = get_patches_to_season_mapping(use_s2_patch_names=True)\n",
    "    return {p for p in patches if patch_season_mapping[p] == season}\n",
    "\n",
    "def filter_s1_patches_by_season(patches, season: str) -> Set[str]:\n",
    "    season = season.title()  # ben season style\n",
    "    patch_season_mapping = get_patches_to_season_mapping(use_s2_patch_names=False)\n",
    "    return {p for p in patches if patch_season_mapping[p] == season}\n"
   ]
  },
  {
   "cell_type": "code",
   "execution_count": null,
   "metadata": {},
   "outputs": [
    {
     "name": "stdout",
     "output_type": "stream",
     "text": [
      "Converted 00_constants.ipynb.\n",
      "Converted 01_base.ipynb.\n",
      "Converted 02_sets.ipynb.\n",
      "Converted index.ipynb.\n",
      "converting: /home/kai/git/bigearthnet_common/nbs/02_sets.ipynb\n",
      "converting /home/kai/git/bigearthnet_common/nbs/index.ipynb to README.md\n"
     ]
    }
   ],
   "source": [
    "# hide\n",
    "from nbdev.cli import nbdev_build_docs\n",
    "from nbdev.export import notebook2script\n",
    "\n",
    "notebook2script()\n",
    "nbdev_build_docs()\n"
   ]
  },
  {
   "cell_type": "code",
   "execution_count": null,
   "metadata": {},
   "outputs": [],
   "source": []
  }
 ],
 "metadata": {
  "kernelspec": {
   "display_name": "Python 3.9.7 64-bit ('bigearthnet-common-gsn-YR4P-py3.9': poetry)",
   "language": "python",
   "name": "python3"
  }
 },
 "nbformat": 4,
 "nbformat_minor": 2
}
