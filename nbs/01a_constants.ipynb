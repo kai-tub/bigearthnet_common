{
 "cells": [
  {
   "cell_type": "code",
   "execution_count": null,
   "metadata": {},
   "outputs": [],
   "source": [
    "# default_exp constants\n"
   ]
  },
  {
   "cell_type": "code",
   "execution_count": null,
   "metadata": {},
   "outputs": [],
   "source": [
    "# hide\n",
    "%load_ext autoreload\n",
    "%autoreload 2"
   ]
  },
  {
   "cell_type": "markdown",
   "metadata": {},
   "source": [
    "# BigEarthNet Constants\n",
    "> A collection of all of the common BEN constants that are frequently looked up."
   ]
  },
  {
   "cell_type": "code",
   "execution_count": null,
   "metadata": {},
   "outputs": [],
   "source": [
    "# export\n",
    "import fastcore.all as fc\n",
    "import natsort\n",
    "import rich\n"
   ]
  },
  {
   "cell_type": "code",
   "execution_count": null,
   "metadata": {},
   "outputs": [],
   "source": [
    "# export\n",
    "\n",
    "\n",
    "def _generate_old2new_labels_dict():\n",
    "    \"\"\"\n",
    "    Code used to generate Old2New_labels dictionary.\n",
    "    Only run once and saved the output as a constant.\n",
    "    \"\"\"\n",
    "    import requests\n",
    "\n",
    "    src_url = \"https://git.tu-berlin.de/rsim/BigEarthNet-S2_19-classes_models/-/raw/master/label_indices.json\"\n",
    "    r = requests.get(src_url)\n",
    "    src = r.json()\n",
    "    original_labels = list(src[\"original_labels\"].keys())\n",
    "    assert len(original_labels) == 43\n",
    "    new_labels = list(src[\"BigEarthNet-19_labels\"].keys())\n",
    "    assert len(new_labels) == 19\n",
    "    label_conv = src[\"label_conversion\"]\n",
    "    assert len(label_conv) == len(new_labels)\n",
    "\n",
    "    # d = {}\n",
    "    # for new_label_idx, old_label_idxs in enumerate(label_conv):\n",
    "    #     for old_label_idx in old_label_idxs:\n",
    "    #         d[original_labels[old_label_idx]] = new_labels[new_label_idx]\n",
    "\n",
    "    # print(d)\n",
    "\n",
    "    old2new_label_mapping = {\n",
    "        original_labels[old_idx]: new_labels[new_label_idx]\n",
    "        for new_label_idx, row in enumerate(src[\"label_conversion\"])\n",
    "        for old_idx in row\n",
    "    }\n",
    "\n",
    "    deleted_labels = set(original_labels) - set(old2new_label_mapping.keys())\n",
    "\n",
    "    for l in deleted_labels:\n",
    "        old2new_label_mapping[l] = None\n",
    "\n",
    "    assert len(old2new_label_mapping.keys()) == len(original_labels)\n",
    "\n",
    "    return old2new_label_mapping\n"
   ]
  },
  {
   "cell_type": "code",
   "execution_count": null,
   "metadata": {},
   "outputs": [],
   "source": [
    "# hide\n",
    "# only run manually, if something has changed or if the site has moved again\n",
    "# _generate_old2new_labels_dict()\n"
   ]
  },
  {
   "cell_type": "code",
   "execution_count": null,
   "metadata": {},
   "outputs": [],
   "source": [
    "# export\n",
    "OLD2NEW_LABELS_DICT = {\n",
    "    \"Continuous urban fabric\": \"Urban fabric\",\n",
    "    \"Discontinuous urban fabric\": \"Urban fabric\",\n",
    "    \"Industrial or commercial units\": \"Industrial or commercial units\",\n",
    "    \"Non-irrigated arable land\": \"Arable land\",\n",
    "    \"Permanently irrigated land\": \"Arable land\",\n",
    "    \"Rice fields\": \"Arable land\",\n",
    "    \"Vineyards\": \"Permanent crops\",\n",
    "    \"Fruit trees and berry plantations\": \"Permanent crops\",\n",
    "    \"Olive groves\": \"Permanent crops\",\n",
    "    \"Annual crops associated with permanent crops\": \"Permanent crops\",\n",
    "    \"Pastures\": \"Pastures\",\n",
    "    \"Complex cultivation patterns\": \"Complex cultivation patterns\",\n",
    "    \"Land principally occupied by agriculture, with significant areas of natural vegetation\": \"Land principally occupied by agriculture, with significant areas of natural vegetation\",\n",
    "    \"Agro-forestry areas\": \"Agro-forestry areas\",\n",
    "    \"Broad-leaved forest\": \"Broad-leaved forest\",\n",
    "    \"Coniferous forest\": \"Coniferous forest\",\n",
    "    \"Mixed forest\": \"Mixed forest\",\n",
    "    \"Natural grassland\": \"Natural grassland and sparsely vegetated areas\",\n",
    "    \"Sparsely vegetated areas\": \"Natural grassland and sparsely vegetated areas\",\n",
    "    \"Moors and heathland\": \"Moors, heathland and sclerophyllous vegetation\",\n",
    "    \"Sclerophyllous vegetation\": \"Moors, heathland and sclerophyllous vegetation\",\n",
    "    \"Transitional woodland/shrub\": \"Transitional woodland, shrub\",\n",
    "    \"Beaches, dunes, sands\": \"Beaches, dunes, sands\",\n",
    "    \"Inland marshes\": \"Inland wetlands\",\n",
    "    \"Peatbogs\": \"Inland wetlands\",\n",
    "    \"Salt marshes\": \"Coastal wetlands\",\n",
    "    \"Salines\": \"Coastal wetlands\",\n",
    "    \"Water courses\": \"Inland waters\",\n",
    "    \"Water bodies\": \"Inland waters\",\n",
    "    \"Coastal lagoons\": \"Marine waters\",\n",
    "    \"Estuaries\": \"Marine waters\",\n",
    "    \"Sea and ocean\": \"Marine waters\",\n",
    "    \"Airports\": None,\n",
    "    \"Bare rock\": None,\n",
    "    \"Dump sites\": None,\n",
    "    \"Port areas\": None,\n",
    "    \"Road and rail networks and associated land\": None,\n",
    "    \"Mineral extraction sites\": None,\n",
    "    \"Construction sites\": None,\n",
    "    \"Sport and leisure facilities\": None,\n",
    "    \"Burnt areas\": None,\n",
    "    \"Intertidal flats\": None,\n",
    "    \"Green urban areas\": None,\n",
    "}\n",
    "\n",
    "OLD_LABELS = sorted(tuple({k for k in OLD2NEW_LABELS_DICT.keys()}))\n",
    "NEW_LABELS = sorted(tuple({v for v in OLD2NEW_LABELS_DICT.values() if v is not None}))\n"
   ]
  },
  {
   "cell_type": "code",
   "execution_count": null,
   "metadata": {},
   "outputs": [],
   "source": [
    "# hide\n",
    "assert len(NEW_LABELS) == 19\n",
    "assert len(OLD_LABELS) == 43\n"
   ]
  },
  {
   "cell_type": "code",
   "execution_count": null,
   "metadata": {},
   "outputs": [],
   "source": [
    "# export\n",
    "# Inspired by\n",
    "# https://github.com/albumentations-team/albumentations/blob/master/albumentations/augmentations/functional.py#L1259\n",
    "MAX_VALUES_BY_DTYPE_STR = {\n",
    "    \"uint8\": 255,\n",
    "    \"uint16\": 65535,\n",
    "    \"uint32\": 4294967295,\n",
    "    \"float32\": 1.0,\n",
    "    \"float64\": 1.0,\n",
    "}\n"
   ]
  },
  {
   "cell_type": "code",
   "execution_count": null,
   "metadata": {},
   "outputs": [],
   "source": [
    "# hide\n",
    "# I really would like to have an interface that easily combines all the channel information into a single class\n",
    "from dataclasses import dataclass\n",
    "from enum import IntEnum, Enum\n",
    "\n",
    "\n",
    "class SpatialResolution(Enum):\n",
    "    \"\"\"\n",
    "    Spatial resolution in square meters\n",
    "    \"\"\"\n",
    "\n",
    "    TEN_METERS = 10\n",
    "    TWENTY_METERS = 20\n",
    "    SIXTY_METERS = 60\n",
    "\n",
    "\n",
    "# No! The information should already be combined!\n",
    "# There should be one place were the channel name is given\n",
    "# and the resolution and default use-case is returned!\n",
    "\n",
    "\n",
    "class Sentinel2_Channel(Enum):\n",
    "    B01 = \"B01\"\n",
    "    B02 = \"B02\"\n",
    "    B03 = \"B03\"\n",
    "    B04 = \"B04\"\n",
    "    B05 = \"B05\"\n",
    "    B06 = \"B06\"\n",
    "    B07 = \"B07\"\n",
    "    B08 = \"B08\"\n",
    "    B8A = \"B8A\"\n",
    "    B09 = \"B09\"\n",
    "    B10 = \"B10\"\n",
    "    B11 = \"B11\"\n",
    "    B12 = \"B12\"\n",
    "\n",
    "\n",
    "@dataclass\n",
    "class BEN_Channel:\n",
    "    channel: Sentinel2_Channel\n",
    "    information: str\n",
    "    # needs to be naturally ordered\n",
    "    resolution: SpatialResolution\n"
   ]
  },
  {
   "cell_type": "code",
   "execution_count": null,
   "metadata": {},
   "outputs": [],
   "source": [
    "# export\n",
    "URL = \"http://bigearth.net/downloads/BigEarthNet-v1.0.tar.gz\"\n",
    "\n",
    "# Stats from https://git.tu-berlin.de/rsim/bigearthnet-models-tf/-/blob/master/BigEarthNet.py\n",
    "BAND_STATS = {\n",
    "    \"mean\": {\n",
    "        \"B01\": 340.76769064,\n",
    "        \"B02\": 429.9430203,\n",
    "        \"B03\": 614.21682446,\n",
    "        \"B04\": 590.23569706,\n",
    "        \"B05\": 950.68368468,\n",
    "        \"B06\": 1792.46290469,\n",
    "        \"B07\": 2075.46795189,\n",
    "        \"B08\": 2218.94553375,\n",
    "        \"B8A\": 2266.46036911,\n",
    "        \"B09\": 2246.0605464,\n",
    "        \"B11\": 1594.42694882,\n",
    "        \"B12\": 1009.32729131,\n",
    "    },\n",
    "    \"std\": {\n",
    "        \"B01\": 554.81258967,\n",
    "        \"B02\": 572.41639287,\n",
    "        \"B03\": 582.87945694,\n",
    "        \"B04\": 675.88746967,\n",
    "        \"B05\": 729.89827633,\n",
    "        \"B06\": 1096.01480586,\n",
    "        \"B07\": 1273.45393088,\n",
    "        \"B08\": 1365.45589904,\n",
    "        \"B8A\": 1356.13789355,\n",
    "        \"B09\": 1302.3292881,\n",
    "        \"B11\": 1079.19066363,\n",
    "        \"B12\": 818.86747235,\n",
    "    },\n",
    "}\n",
    "\n",
    "# FUTURE: Double check original values!\n",
    "# Custom transformation to float32 values.\n",
    "# Assumes that the original means and std values are encoded in uint16\n",
    "BAND_STATS_FLOAT32 = {\n",
    "    k: {\n",
    "        band: band_val / MAX_VALUES_BY_DTYPE_STR[\"uint16\"]\n",
    "        for band, band_val in v.items()\n",
    "    }\n",
    "    for k, v in BAND_STATS.items()\n",
    "}\n",
    "\n",
    "BEN_CHANNELS = (\n",
    "    \"B01\",\n",
    "    \"B02\",\n",
    "    \"B03\",\n",
    "    \"B04\",\n",
    "    \"B05\",\n",
    "    \"B06\",\n",
    "    \"B07\",\n",
    "    \"B08\",\n",
    "    \"B8A\",\n",
    "    \"B09\",\n",
    "    \"B11\",\n",
    "    \"B12\",\n",
    ")\n",
    "\n",
    "BEN_10m_CHANNELS = (\n",
    "    \"B02\",\n",
    "    \"B03\",\n",
    "    \"B04\",\n",
    "    \"B08\",\n",
    ")\n",
    "\n",
    "BEN_20m_CHANNELS = (\n",
    "    \"B05\",\n",
    "    \"B06\",\n",
    "    \"B07\",\n",
    "    \"B8A\",\n",
    "    \"B11\",\n",
    "    \"B12\",\n",
    ")\n",
    "\n",
    "BEN_10m_20m_CHANNELS = natsort.natsorted(BEN_10m_CHANNELS + BEN_20m_CHANNELS)\n",
    "\n",
    "BEN_30m_CHANNELS = (\n",
    "    \"B01\",\n",
    "    \"B09\",\n",
    ")\n",
    "\n",
    "# Correctly ordered\n",
    "BEN_RGB_CHANNELS = (\n",
    "    \"B04\",\n",
    "    \"B03\",\n",
    "    \"B02\",\n",
    ")\n"
   ]
  },
  {
   "cell_type": "code",
   "execution_count": null,
   "metadata": {},
   "outputs": [],
   "source": [
    "# hide\n",
    "fc.test_eq(\n",
    "    set(BEN_CHANNELS), set(BEN_10m_CHANNELS + BEN_20m_CHANNELS + BEN_30m_CHANNELS)\n",
    ")\n",
    "assert len(set(BEN_10m_CHANNELS) & set(BEN_20m_CHANNELS) & set(BEN_30m_CHANNELS)) == 0\n"
   ]
  },
  {
   "cell_type": "code",
   "execution_count": null,
   "metadata": {},
   "outputs": [],
   "source": [
    "# export\n",
    "COUNTRIES = (\n",
    "    \"Austria\",\n",
    "    \"Belgium\",\n",
    "    \"Finland\",\n",
    "    \"Ireland\",\n",
    "    \"Kosovo\",\n",
    "    \"Lithuania\",\n",
    "    \"Luxembourg\",\n",
    "    \"Portugal\",\n",
    "    \"Serbia\",\n",
    "    \"Switzerland\",\n",
    ")\n",
    "\n",
    "# NOTE: ISO_A2 because ISO_A3 does is NOT defined for Kosovo!\n",
    "COUNTRIES_ISO_A2 = (\n",
    "    \"AT\",\n",
    "    \"BE\",\n",
    "    \"FI\",\n",
    "    \"IE\",\n",
    "    \"XK\",\n",
    "    \"LT\",\n",
    "    \"LU\",\n",
    "    \"PT\",\n",
    "    \"RS\",\n",
    "    \"CH\",\n",
    ")\n"
   ]
  },
  {
   "cell_type": "code",
   "execution_count": null,
   "metadata": {},
   "outputs": [],
   "source": [
    "# hide\n",
    "\n",
    "assert len(COUNTRIES) == len(COUNTRIES_ISO_A2) == 10\n"
   ]
  },
  {
   "cell_type": "code",
   "execution_count": null,
   "metadata": {},
   "outputs": [],
   "source": [
    "# hide\n",
    "# Get the coordinates of the two points defining the bounding box:\n",
    "# [p1, p2] where pX in Lat/Long format and p1 south-west and\n",
    "# p2 north-east coordinates of box.\n",
    "# Only keeping it in notebook, if I need it later for a quick visualization library\n",
    "\n",
    "_BEN_BOUNDING_BOX = (\n",
    "    (36.9569567020834, -9.00023345437725),\n",
    "    (68.0216820004728, 31.598439091981),\n",
    ")\n",
    "assert len(_BEN_BOUNDING_BOX) == 2\n",
    "assert len(_BEN_BOUNDING_BOX[0]) == len(_BEN_BOUNDING_BOX[1]) == 2\n"
   ]
  },
  {
   "cell_type": "code",
   "execution_count": null,
   "metadata": {},
   "outputs": [],
   "source": [
    "# export\n",
    "\n",
    "BEN_COMPLETE_SIZE = 590_326\n",
    "BEN_SNOWY_PATCHES_COUNT = 61_707\n",
    "BEN_CLOUDY_OR_SHADOWY_PATCHES_COUNT = 9_280\n",
    "# this is before removing cloudy/snowy patches\n",
    "BEN_NO_19_CLASS_TARGET_COUNT = 57\n",
    "BEN_RECOMMENDED_SIZE = 519_284"
   ]
  },
  {
   "cell_type": "code",
   "execution_count": null,
   "metadata": {},
   "outputs": [],
   "source": [
    "# hide\n",
    "\n",
    "# There is one cloudy patch without a 19-class target:\n",
    "# S2A_MSIL2A_20171208T093351_1_64\n",
    "# And one snowy patch without a 19-class target:\n",
    "# S2B_MSIL2A_20180417T102019_30_1\n",
    "\n",
    "# there are no patches that are cloudy and snowy!\n",
    "\n",
    "assert BEN_COMPLETE_SIZE == (\n",
    "    BEN_RECOMMENDED_SIZE\n",
    "    + BEN_SNOWY_PATCHES_COUNT\n",
    "    + BEN_CLOUDY_OR_SHADOWY_PATCHES_COUNT\n",
    "    + BEN_NO_19_CLASS_TARGET_COUNT\n",
    "    - 2\n",
    ")\n"
   ]
  },
  {
   "cell_type": "code",
   "execution_count": null,
   "metadata": {},
   "outputs": [
    {
     "data": {
      "text/html": [
       "<pre style=\"white-space:pre;overflow-x:auto;line-height:normal;font-family:Menlo,'DejaVu Sans Mono',consolas,'Courier New',monospace\">OLD2NEW_LABELS_DICT:\n",
       "<span style=\"font-weight: bold\">{</span>\n",
       "    <span style=\"color: #008000; text-decoration-color: #008000\">'Continuous urban fabric'</span>: <span style=\"color: #008000; text-decoration-color: #008000\">'Urban fabric'</span>,\n",
       "    <span style=\"color: #008000; text-decoration-color: #008000\">'Discontinuous urban fabric'</span>: <span style=\"color: #008000; text-decoration-color: #008000\">'Urban fabric'</span>,\n",
       "    <span style=\"color: #008000; text-decoration-color: #008000\">'Industrial or commercial units'</span>: <span style=\"color: #008000; text-decoration-color: #008000\">'Industrial or commercial units'</span>,\n",
       "    <span style=\"color: #008000; text-decoration-color: #008000\">'Non-irrigated arable land'</span>: <span style=\"color: #008000; text-decoration-color: #008000\">'Arable land'</span>,\n",
       "    <span style=\"color: #008000; text-decoration-color: #008000\">'Permanently irrigated land'</span>: <span style=\"color: #008000; text-decoration-color: #008000\">'Arable land'</span>,\n",
       "    <span style=\"color: #008000; text-decoration-color: #008000\">'Rice fields'</span>: <span style=\"color: #008000; text-decoration-color: #008000\">'Arable land'</span>,\n",
       "    <span style=\"color: #008000; text-decoration-color: #008000\">'Vineyards'</span>: <span style=\"color: #008000; text-decoration-color: #008000\">'Permanent crops'</span>,\n",
       "    <span style=\"color: #008000; text-decoration-color: #008000\">'Fruit trees and berry plantations'</span>: <span style=\"color: #008000; text-decoration-color: #008000\">'Permanent crops'</span>,\n",
       "    <span style=\"color: #008000; text-decoration-color: #008000\">'Olive groves'</span>: <span style=\"color: #008000; text-decoration-color: #008000\">'Permanent crops'</span>,\n",
       "    <span style=\"color: #008000; text-decoration-color: #008000\">'Annual crops associated with permanent crops'</span>: <span style=\"color: #008000; text-decoration-color: #008000\">'Permanent crops'</span>,\n",
       "    <span style=\"color: #008000; text-decoration-color: #008000\">'Pastures'</span>: <span style=\"color: #008000; text-decoration-color: #008000\">'Pastures'</span>,\n",
       "    <span style=\"color: #008000; text-decoration-color: #008000\">'Complex cultivation patterns'</span>: <span style=\"color: #008000; text-decoration-color: #008000\">'Complex cultivation patterns'</span>,\n",
       "    <span style=\"color: #008000; text-decoration-color: #008000\">'Land principally occupied by agriculture, with significant areas of natural vegetation'</span>:\n",
       "<span style=\"color: #008000; text-decoration-color: #008000\">'Land principally occupied by agriculture, with significant areas of natural vegetation'</span>,\n",
       "    <span style=\"color: #008000; text-decoration-color: #008000\">'Agro-forestry areas'</span>: <span style=\"color: #008000; text-decoration-color: #008000\">'Agro-forestry areas'</span>,\n",
       "    <span style=\"color: #008000; text-decoration-color: #008000\">'Broad-leaved forest'</span>: <span style=\"color: #008000; text-decoration-color: #008000\">'Broad-leaved forest'</span>,\n",
       "    <span style=\"color: #008000; text-decoration-color: #008000\">'Coniferous forest'</span>: <span style=\"color: #008000; text-decoration-color: #008000\">'Coniferous forest'</span>,\n",
       "    <span style=\"color: #008000; text-decoration-color: #008000\">'Mixed forest'</span>: <span style=\"color: #008000; text-decoration-color: #008000\">'Mixed forest'</span>,\n",
       "    <span style=\"color: #008000; text-decoration-color: #008000\">'Natural grassland'</span>: <span style=\"color: #008000; text-decoration-color: #008000\">'Natural grassland and sparsely vegetated areas'</span>,\n",
       "    <span style=\"color: #008000; text-decoration-color: #008000\">'Sparsely vegetated areas'</span>: <span style=\"color: #008000; text-decoration-color: #008000\">'Natural grassland and sparsely vegetated areas'</span>,\n",
       "    <span style=\"color: #008000; text-decoration-color: #008000\">'Moors and heathland'</span>: <span style=\"color: #008000; text-decoration-color: #008000\">'Moors, heathland and sclerophyllous vegetation'</span>,\n",
       "    <span style=\"color: #008000; text-decoration-color: #008000\">'Sclerophyllous vegetation'</span>: <span style=\"color: #008000; text-decoration-color: #008000\">'Moors, heathland and sclerophyllous vegetation'</span>,\n",
       "    <span style=\"color: #008000; text-decoration-color: #008000\">'Transitional woodland/shrub'</span>: <span style=\"color: #008000; text-decoration-color: #008000\">'Transitional woodland, shrub'</span>,\n",
       "    <span style=\"color: #008000; text-decoration-color: #008000\">'Beaches, dunes, sands'</span>: <span style=\"color: #008000; text-decoration-color: #008000\">'Beaches, dunes, sands'</span>,\n",
       "    <span style=\"color: #008000; text-decoration-color: #008000\">'Inland marshes'</span>: <span style=\"color: #008000; text-decoration-color: #008000\">'Inland wetlands'</span>,\n",
       "    <span style=\"color: #008000; text-decoration-color: #008000\">'Peatbogs'</span>: <span style=\"color: #008000; text-decoration-color: #008000\">'Inland wetlands'</span>,\n",
       "    <span style=\"color: #008000; text-decoration-color: #008000\">'Salt marshes'</span>: <span style=\"color: #008000; text-decoration-color: #008000\">'Coastal wetlands'</span>,\n",
       "    <span style=\"color: #008000; text-decoration-color: #008000\">'Salines'</span>: <span style=\"color: #008000; text-decoration-color: #008000\">'Coastal wetlands'</span>,\n",
       "    <span style=\"color: #008000; text-decoration-color: #008000\">'Water courses'</span>: <span style=\"color: #008000; text-decoration-color: #008000\">'Inland waters'</span>,\n",
       "    <span style=\"color: #008000; text-decoration-color: #008000\">'Water bodies'</span>: <span style=\"color: #008000; text-decoration-color: #008000\">'Inland waters'</span>,\n",
       "    <span style=\"color: #008000; text-decoration-color: #008000\">'Coastal lagoons'</span>: <span style=\"color: #008000; text-decoration-color: #008000\">'Marine waters'</span>,\n",
       "    <span style=\"color: #008000; text-decoration-color: #008000\">'Estuaries'</span>: <span style=\"color: #008000; text-decoration-color: #008000\">'Marine waters'</span>,\n",
       "    <span style=\"color: #008000; text-decoration-color: #008000\">'Sea and ocean'</span>: <span style=\"color: #008000; text-decoration-color: #008000\">'Marine waters'</span>,\n",
       "    <span style=\"color: #008000; text-decoration-color: #008000\">'Airports'</span>: <span style=\"color: #800080; text-decoration-color: #800080; font-style: italic\">None</span>,\n",
       "    <span style=\"color: #008000; text-decoration-color: #008000\">'Bare rock'</span>: <span style=\"color: #800080; text-decoration-color: #800080; font-style: italic\">None</span>,\n",
       "    <span style=\"color: #008000; text-decoration-color: #008000\">'Dump sites'</span>: <span style=\"color: #800080; text-decoration-color: #800080; font-style: italic\">None</span>,\n",
       "    <span style=\"color: #008000; text-decoration-color: #008000\">'Port areas'</span>: <span style=\"color: #800080; text-decoration-color: #800080; font-style: italic\">None</span>,\n",
       "    <span style=\"color: #008000; text-decoration-color: #008000\">'Road and rail networks and associated land'</span>: <span style=\"color: #800080; text-decoration-color: #800080; font-style: italic\">None</span>,\n",
       "    <span style=\"color: #008000; text-decoration-color: #008000\">'Mineral extraction sites'</span>: <span style=\"color: #800080; text-decoration-color: #800080; font-style: italic\">None</span>,\n",
       "    <span style=\"color: #008000; text-decoration-color: #008000\">'Construction sites'</span>: <span style=\"color: #800080; text-decoration-color: #800080; font-style: italic\">None</span>,\n",
       "    <span style=\"color: #008000; text-decoration-color: #008000\">'Sport and leisure facilities'</span>: <span style=\"color: #800080; text-decoration-color: #800080; font-style: italic\">None</span>,\n",
       "    <span style=\"color: #008000; text-decoration-color: #008000\">'Burnt areas'</span>: <span style=\"color: #800080; text-decoration-color: #800080; font-style: italic\">None</span>,\n",
       "    <span style=\"color: #008000; text-decoration-color: #008000\">'Intertidal flats'</span>: <span style=\"color: #800080; text-decoration-color: #800080; font-style: italic\">None</span>,\n",
       "    <span style=\"color: #008000; text-decoration-color: #008000\">'Green urban areas'</span>: <span style=\"color: #800080; text-decoration-color: #800080; font-style: italic\">None</span>\n",
       "<span style=\"font-weight: bold\">}</span>\n",
       "</pre>\n"
      ],
      "text/plain": [
       "OLD2NEW_LABELS_DICT:\n",
       "\u001b[1m{\u001b[0m\n",
       "    \u001b[32m'Continuous urban fabric'\u001b[0m: \u001b[32m'Urban fabric'\u001b[0m,\n",
       "    \u001b[32m'Discontinuous urban fabric'\u001b[0m: \u001b[32m'Urban fabric'\u001b[0m,\n",
       "    \u001b[32m'Industrial or commercial units'\u001b[0m: \u001b[32m'Industrial or commercial units'\u001b[0m,\n",
       "    \u001b[32m'Non-irrigated arable land'\u001b[0m: \u001b[32m'Arable land'\u001b[0m,\n",
       "    \u001b[32m'Permanently irrigated land'\u001b[0m: \u001b[32m'Arable land'\u001b[0m,\n",
       "    \u001b[32m'Rice fields'\u001b[0m: \u001b[32m'Arable land'\u001b[0m,\n",
       "    \u001b[32m'Vineyards'\u001b[0m: \u001b[32m'Permanent crops'\u001b[0m,\n",
       "    \u001b[32m'Fruit trees and berry plantations'\u001b[0m: \u001b[32m'Permanent crops'\u001b[0m,\n",
       "    \u001b[32m'Olive groves'\u001b[0m: \u001b[32m'Permanent crops'\u001b[0m,\n",
       "    \u001b[32m'Annual crops associated with permanent crops'\u001b[0m: \u001b[32m'Permanent crops'\u001b[0m,\n",
       "    \u001b[32m'Pastures'\u001b[0m: \u001b[32m'Pastures'\u001b[0m,\n",
       "    \u001b[32m'Complex cultivation patterns'\u001b[0m: \u001b[32m'Complex cultivation patterns'\u001b[0m,\n",
       "    \u001b[32m'Land principally occupied by agriculture, with significant areas of natural vegetation'\u001b[0m:\n",
       "\u001b[32m'Land principally occupied by agriculture, with significant areas of natural vegetation'\u001b[0m,\n",
       "    \u001b[32m'Agro-forestry areas'\u001b[0m: \u001b[32m'Agro-forestry areas'\u001b[0m,\n",
       "    \u001b[32m'Broad-leaved forest'\u001b[0m: \u001b[32m'Broad-leaved forest'\u001b[0m,\n",
       "    \u001b[32m'Coniferous forest'\u001b[0m: \u001b[32m'Coniferous forest'\u001b[0m,\n",
       "    \u001b[32m'Mixed forest'\u001b[0m: \u001b[32m'Mixed forest'\u001b[0m,\n",
       "    \u001b[32m'Natural grassland'\u001b[0m: \u001b[32m'Natural grassland and sparsely vegetated areas'\u001b[0m,\n",
       "    \u001b[32m'Sparsely vegetated areas'\u001b[0m: \u001b[32m'Natural grassland and sparsely vegetated areas'\u001b[0m,\n",
       "    \u001b[32m'Moors and heathland'\u001b[0m: \u001b[32m'Moors, heathland and sclerophyllous vegetation'\u001b[0m,\n",
       "    \u001b[32m'Sclerophyllous vegetation'\u001b[0m: \u001b[32m'Moors, heathland and sclerophyllous vegetation'\u001b[0m,\n",
       "    \u001b[32m'Transitional woodland/shrub'\u001b[0m: \u001b[32m'Transitional woodland, shrub'\u001b[0m,\n",
       "    \u001b[32m'Beaches, dunes, sands'\u001b[0m: \u001b[32m'Beaches, dunes, sands'\u001b[0m,\n",
       "    \u001b[32m'Inland marshes'\u001b[0m: \u001b[32m'Inland wetlands'\u001b[0m,\n",
       "    \u001b[32m'Peatbogs'\u001b[0m: \u001b[32m'Inland wetlands'\u001b[0m,\n",
       "    \u001b[32m'Salt marshes'\u001b[0m: \u001b[32m'Coastal wetlands'\u001b[0m,\n",
       "    \u001b[32m'Salines'\u001b[0m: \u001b[32m'Coastal wetlands'\u001b[0m,\n",
       "    \u001b[32m'Water courses'\u001b[0m: \u001b[32m'Inland waters'\u001b[0m,\n",
       "    \u001b[32m'Water bodies'\u001b[0m: \u001b[32m'Inland waters'\u001b[0m,\n",
       "    \u001b[32m'Coastal lagoons'\u001b[0m: \u001b[32m'Marine waters'\u001b[0m,\n",
       "    \u001b[32m'Estuaries'\u001b[0m: \u001b[32m'Marine waters'\u001b[0m,\n",
       "    \u001b[32m'Sea and ocean'\u001b[0m: \u001b[32m'Marine waters'\u001b[0m,\n",
       "    \u001b[32m'Airports'\u001b[0m: \u001b[3;35mNone\u001b[0m,\n",
       "    \u001b[32m'Bare rock'\u001b[0m: \u001b[3;35mNone\u001b[0m,\n",
       "    \u001b[32m'Dump sites'\u001b[0m: \u001b[3;35mNone\u001b[0m,\n",
       "    \u001b[32m'Port areas'\u001b[0m: \u001b[3;35mNone\u001b[0m,\n",
       "    \u001b[32m'Road and rail networks and associated land'\u001b[0m: \u001b[3;35mNone\u001b[0m,\n",
       "    \u001b[32m'Mineral extraction sites'\u001b[0m: \u001b[3;35mNone\u001b[0m,\n",
       "    \u001b[32m'Construction sites'\u001b[0m: \u001b[3;35mNone\u001b[0m,\n",
       "    \u001b[32m'Sport and leisure facilities'\u001b[0m: \u001b[3;35mNone\u001b[0m,\n",
       "    \u001b[32m'Burnt areas'\u001b[0m: \u001b[3;35mNone\u001b[0m,\n",
       "    \u001b[32m'Intertidal flats'\u001b[0m: \u001b[3;35mNone\u001b[0m,\n",
       "    \u001b[32m'Green urban areas'\u001b[0m: \u001b[3;35mNone\u001b[0m\n",
       "\u001b[1m}\u001b[0m\n"
      ]
     },
     "metadata": {},
     "output_type": "display_data"
    },
    {
     "data": {
      "text/html": [
       "<pre style=\"white-space:pre;overflow-x:auto;line-height:normal;font-family:Menlo,'DejaVu Sans Mono',consolas,'Courier New',monospace\">OLD_LABELS:\n",
       "<span style=\"font-weight: bold\">[</span>\n",
       "    <span style=\"color: #008000; text-decoration-color: #008000\">'Agro-forestry areas'</span>,\n",
       "    <span style=\"color: #008000; text-decoration-color: #008000\">'Airports'</span>,\n",
       "    <span style=\"color: #008000; text-decoration-color: #008000\">'Annual crops associated with permanent crops'</span>,\n",
       "    <span style=\"color: #008000; text-decoration-color: #008000\">'Bare rock'</span>,\n",
       "    <span style=\"color: #008000; text-decoration-color: #008000\">'Beaches, dunes, sands'</span>,\n",
       "    <span style=\"color: #008000; text-decoration-color: #008000\">'Broad-leaved forest'</span>,\n",
       "    <span style=\"color: #008000; text-decoration-color: #008000\">'Burnt areas'</span>,\n",
       "    <span style=\"color: #008000; text-decoration-color: #008000\">'Coastal lagoons'</span>,\n",
       "    <span style=\"color: #008000; text-decoration-color: #008000\">'Complex cultivation patterns'</span>,\n",
       "    <span style=\"color: #008000; text-decoration-color: #008000\">'Coniferous forest'</span>,\n",
       "    <span style=\"color: #008000; text-decoration-color: #008000\">'Construction sites'</span>,\n",
       "    <span style=\"color: #008000; text-decoration-color: #008000\">'Continuous urban fabric'</span>,\n",
       "    <span style=\"color: #008000; text-decoration-color: #008000\">'Discontinuous urban fabric'</span>,\n",
       "    <span style=\"color: #008000; text-decoration-color: #008000\">'Dump sites'</span>,\n",
       "    <span style=\"color: #008000; text-decoration-color: #008000\">'Estuaries'</span>,\n",
       "    <span style=\"color: #008000; text-decoration-color: #008000\">'Fruit trees and berry plantations'</span>,\n",
       "    <span style=\"color: #008000; text-decoration-color: #008000\">'Green urban areas'</span>,\n",
       "    <span style=\"color: #008000; text-decoration-color: #008000\">'Industrial or commercial units'</span>,\n",
       "    <span style=\"color: #008000; text-decoration-color: #008000\">'Inland marshes'</span>,\n",
       "    <span style=\"color: #008000; text-decoration-color: #008000\">'Intertidal flats'</span>,\n",
       "    <span style=\"color: #008000; text-decoration-color: #008000\">'Land principally occupied by agriculture, with significant areas of natural vegetation'</span>,\n",
       "    <span style=\"color: #008000; text-decoration-color: #008000\">'Mineral extraction sites'</span>,\n",
       "    <span style=\"color: #008000; text-decoration-color: #008000\">'Mixed forest'</span>,\n",
       "    <span style=\"color: #008000; text-decoration-color: #008000\">'Moors and heathland'</span>,\n",
       "    <span style=\"color: #008000; text-decoration-color: #008000\">'Natural grassland'</span>,\n",
       "    <span style=\"color: #008000; text-decoration-color: #008000\">'Non-irrigated arable land'</span>,\n",
       "    <span style=\"color: #008000; text-decoration-color: #008000\">'Olive groves'</span>,\n",
       "    <span style=\"color: #008000; text-decoration-color: #008000\">'Pastures'</span>,\n",
       "    <span style=\"color: #008000; text-decoration-color: #008000\">'Peatbogs'</span>,\n",
       "    <span style=\"color: #008000; text-decoration-color: #008000\">'Permanently irrigated land'</span>,\n",
       "    <span style=\"color: #008000; text-decoration-color: #008000\">'Port areas'</span>,\n",
       "    <span style=\"color: #008000; text-decoration-color: #008000\">'Rice fields'</span>,\n",
       "    <span style=\"color: #008000; text-decoration-color: #008000\">'Road and rail networks and associated land'</span>,\n",
       "    <span style=\"color: #008000; text-decoration-color: #008000\">'Salines'</span>,\n",
       "    <span style=\"color: #008000; text-decoration-color: #008000\">'Salt marshes'</span>,\n",
       "    <span style=\"color: #008000; text-decoration-color: #008000\">'Sclerophyllous vegetation'</span>,\n",
       "    <span style=\"color: #008000; text-decoration-color: #008000\">'Sea and ocean'</span>,\n",
       "    <span style=\"color: #008000; text-decoration-color: #008000\">'Sparsely vegetated areas'</span>,\n",
       "    <span style=\"color: #008000; text-decoration-color: #008000\">'Sport and leisure facilities'</span>,\n",
       "    <span style=\"color: #008000; text-decoration-color: #008000\">'Transitional woodland/shrub'</span>,\n",
       "    <span style=\"color: #008000; text-decoration-color: #008000\">'Vineyards'</span>,\n",
       "    <span style=\"color: #008000; text-decoration-color: #008000\">'Water bodies'</span>,\n",
       "    <span style=\"color: #008000; text-decoration-color: #008000\">'Water courses'</span>\n",
       "<span style=\"font-weight: bold\">]</span>\n",
       "</pre>\n"
      ],
      "text/plain": [
       "OLD_LABELS:\n",
       "\u001b[1m[\u001b[0m\n",
       "    \u001b[32m'Agro-forestry areas'\u001b[0m,\n",
       "    \u001b[32m'Airports'\u001b[0m,\n",
       "    \u001b[32m'Annual crops associated with permanent crops'\u001b[0m,\n",
       "    \u001b[32m'Bare rock'\u001b[0m,\n",
       "    \u001b[32m'Beaches, dunes, sands'\u001b[0m,\n",
       "    \u001b[32m'Broad-leaved forest'\u001b[0m,\n",
       "    \u001b[32m'Burnt areas'\u001b[0m,\n",
       "    \u001b[32m'Coastal lagoons'\u001b[0m,\n",
       "    \u001b[32m'Complex cultivation patterns'\u001b[0m,\n",
       "    \u001b[32m'Coniferous forest'\u001b[0m,\n",
       "    \u001b[32m'Construction sites'\u001b[0m,\n",
       "    \u001b[32m'Continuous urban fabric'\u001b[0m,\n",
       "    \u001b[32m'Discontinuous urban fabric'\u001b[0m,\n",
       "    \u001b[32m'Dump sites'\u001b[0m,\n",
       "    \u001b[32m'Estuaries'\u001b[0m,\n",
       "    \u001b[32m'Fruit trees and berry plantations'\u001b[0m,\n",
       "    \u001b[32m'Green urban areas'\u001b[0m,\n",
       "    \u001b[32m'Industrial or commercial units'\u001b[0m,\n",
       "    \u001b[32m'Inland marshes'\u001b[0m,\n",
       "    \u001b[32m'Intertidal flats'\u001b[0m,\n",
       "    \u001b[32m'Land principally occupied by agriculture, with significant areas of natural vegetation'\u001b[0m,\n",
       "    \u001b[32m'Mineral extraction sites'\u001b[0m,\n",
       "    \u001b[32m'Mixed forest'\u001b[0m,\n",
       "    \u001b[32m'Moors and heathland'\u001b[0m,\n",
       "    \u001b[32m'Natural grassland'\u001b[0m,\n",
       "    \u001b[32m'Non-irrigated arable land'\u001b[0m,\n",
       "    \u001b[32m'Olive groves'\u001b[0m,\n",
       "    \u001b[32m'Pastures'\u001b[0m,\n",
       "    \u001b[32m'Peatbogs'\u001b[0m,\n",
       "    \u001b[32m'Permanently irrigated land'\u001b[0m,\n",
       "    \u001b[32m'Port areas'\u001b[0m,\n",
       "    \u001b[32m'Rice fields'\u001b[0m,\n",
       "    \u001b[32m'Road and rail networks and associated land'\u001b[0m,\n",
       "    \u001b[32m'Salines'\u001b[0m,\n",
       "    \u001b[32m'Salt marshes'\u001b[0m,\n",
       "    \u001b[32m'Sclerophyllous vegetation'\u001b[0m,\n",
       "    \u001b[32m'Sea and ocean'\u001b[0m,\n",
       "    \u001b[32m'Sparsely vegetated areas'\u001b[0m,\n",
       "    \u001b[32m'Sport and leisure facilities'\u001b[0m,\n",
       "    \u001b[32m'Transitional woodland/shrub'\u001b[0m,\n",
       "    \u001b[32m'Vineyards'\u001b[0m,\n",
       "    \u001b[32m'Water bodies'\u001b[0m,\n",
       "    \u001b[32m'Water courses'\u001b[0m\n",
       "\u001b[1m]\u001b[0m\n"
      ]
     },
     "metadata": {},
     "output_type": "display_data"
    },
    {
     "data": {
      "text/html": [
       "<pre style=\"white-space:pre;overflow-x:auto;line-height:normal;font-family:Menlo,'DejaVu Sans Mono',consolas,'Courier New',monospace\">NEW_LABELS:\n",
       "<span style=\"font-weight: bold\">[</span>\n",
       "    <span style=\"color: #008000; text-decoration-color: #008000\">'Agro-forestry areas'</span>,\n",
       "    <span style=\"color: #008000; text-decoration-color: #008000\">'Arable land'</span>,\n",
       "    <span style=\"color: #008000; text-decoration-color: #008000\">'Beaches, dunes, sands'</span>,\n",
       "    <span style=\"color: #008000; text-decoration-color: #008000\">'Broad-leaved forest'</span>,\n",
       "    <span style=\"color: #008000; text-decoration-color: #008000\">'Coastal wetlands'</span>,\n",
       "    <span style=\"color: #008000; text-decoration-color: #008000\">'Complex cultivation patterns'</span>,\n",
       "    <span style=\"color: #008000; text-decoration-color: #008000\">'Coniferous forest'</span>,\n",
       "    <span style=\"color: #008000; text-decoration-color: #008000\">'Industrial or commercial units'</span>,\n",
       "    <span style=\"color: #008000; text-decoration-color: #008000\">'Inland waters'</span>,\n",
       "    <span style=\"color: #008000; text-decoration-color: #008000\">'Inland wetlands'</span>,\n",
       "    <span style=\"color: #008000; text-decoration-color: #008000\">'Land principally occupied by agriculture, with significant areas of natural vegetation'</span>,\n",
       "    <span style=\"color: #008000; text-decoration-color: #008000\">'Marine waters'</span>,\n",
       "    <span style=\"color: #008000; text-decoration-color: #008000\">'Mixed forest'</span>,\n",
       "    <span style=\"color: #008000; text-decoration-color: #008000\">'Moors, heathland and sclerophyllous vegetation'</span>,\n",
       "    <span style=\"color: #008000; text-decoration-color: #008000\">'Natural grassland and sparsely vegetated areas'</span>,\n",
       "    <span style=\"color: #008000; text-decoration-color: #008000\">'Pastures'</span>,\n",
       "    <span style=\"color: #008000; text-decoration-color: #008000\">'Permanent crops'</span>,\n",
       "    <span style=\"color: #008000; text-decoration-color: #008000\">'Transitional woodland, shrub'</span>,\n",
       "    <span style=\"color: #008000; text-decoration-color: #008000\">'Urban fabric'</span>\n",
       "<span style=\"font-weight: bold\">]</span>\n",
       "</pre>\n"
      ],
      "text/plain": [
       "NEW_LABELS:\n",
       "\u001b[1m[\u001b[0m\n",
       "    \u001b[32m'Agro-forestry areas'\u001b[0m,\n",
       "    \u001b[32m'Arable land'\u001b[0m,\n",
       "    \u001b[32m'Beaches, dunes, sands'\u001b[0m,\n",
       "    \u001b[32m'Broad-leaved forest'\u001b[0m,\n",
       "    \u001b[32m'Coastal wetlands'\u001b[0m,\n",
       "    \u001b[32m'Complex cultivation patterns'\u001b[0m,\n",
       "    \u001b[32m'Coniferous forest'\u001b[0m,\n",
       "    \u001b[32m'Industrial or commercial units'\u001b[0m,\n",
       "    \u001b[32m'Inland waters'\u001b[0m,\n",
       "    \u001b[32m'Inland wetlands'\u001b[0m,\n",
       "    \u001b[32m'Land principally occupied by agriculture, with significant areas of natural vegetation'\u001b[0m,\n",
       "    \u001b[32m'Marine waters'\u001b[0m,\n",
       "    \u001b[32m'Mixed forest'\u001b[0m,\n",
       "    \u001b[32m'Moors, heathland and sclerophyllous vegetation'\u001b[0m,\n",
       "    \u001b[32m'Natural grassland and sparsely vegetated areas'\u001b[0m,\n",
       "    \u001b[32m'Pastures'\u001b[0m,\n",
       "    \u001b[32m'Permanent crops'\u001b[0m,\n",
       "    \u001b[32m'Transitional woodland, shrub'\u001b[0m,\n",
       "    \u001b[32m'Urban fabric'\u001b[0m\n",
       "\u001b[1m]\u001b[0m\n"
      ]
     },
     "metadata": {},
     "output_type": "display_data"
    },
    {
     "data": {
      "text/html": [
       "<pre style=\"white-space:pre;overflow-x:auto;line-height:normal;font-family:Menlo,'DejaVu Sans Mono',consolas,'Courier New',monospace\">MAX_VALUES_BY_DTYPE_STR:\n",
       "<span style=\"font-weight: bold\">{</span><span style=\"color: #008000; text-decoration-color: #008000\">'uint8'</span>: <span style=\"color: #008080; text-decoration-color: #008080; font-weight: bold\">255</span>, <span style=\"color: #008000; text-decoration-color: #008000\">'uint16'</span>: <span style=\"color: #008080; text-decoration-color: #008080; font-weight: bold\">65535</span>, <span style=\"color: #008000; text-decoration-color: #008000\">'uint32'</span>: <span style=\"color: #008080; text-decoration-color: #008080; font-weight: bold\">4294967295</span>, <span style=\"color: #008000; text-decoration-color: #008000\">'float32'</span>: <span style=\"color: #008080; text-decoration-color: #008080; font-weight: bold\">1.0</span>, <span style=\"color: #008000; text-decoration-color: #008000\">'float64'</span>: <span style=\"color: #008080; text-decoration-color: #008080; font-weight: bold\">1.0</span><span style=\"font-weight: bold\">}</span>\n",
       "</pre>\n"
      ],
      "text/plain": [
       "MAX_VALUES_BY_DTYPE_STR:\n",
       "\u001b[1m{\u001b[0m\u001b[32m'uint8'\u001b[0m: \u001b[1;36m255\u001b[0m, \u001b[32m'uint16'\u001b[0m: \u001b[1;36m65535\u001b[0m, \u001b[32m'uint32'\u001b[0m: \u001b[1;36m4294967295\u001b[0m, \u001b[32m'float32'\u001b[0m: \u001b[1;36m1.0\u001b[0m, \u001b[32m'float64'\u001b[0m: \u001b[1;36m1.0\u001b[0m\u001b[1m}\u001b[0m\n"
      ]
     },
     "metadata": {},
     "output_type": "display_data"
    },
    {
     "data": {
      "text/html": [
       "<pre style=\"white-space:pre;overflow-x:auto;line-height:normal;font-family:Menlo,'DejaVu Sans Mono',consolas,'Courier New',monospace\">URL: <span style=\"color: #0000ff; text-decoration-color: #0000ff; text-decoration: underline\">http://bigearth.net/downloads/BigEarthNet-v1.0.tar.gz</span>\n",
       "</pre>\n"
      ],
      "text/plain": [
       "URL: \u001b[4;94mhttp://bigearth.net/downloads/BigEarthNet-v1.0.tar.gz\u001b[0m\n"
      ]
     },
     "metadata": {},
     "output_type": "display_data"
    },
    {
     "data": {
      "text/html": [
       "<pre style=\"white-space:pre;overflow-x:auto;line-height:normal;font-family:Menlo,'DejaVu Sans Mono',consolas,'Courier New',monospace\">BAND_STATS:\n",
       "<span style=\"font-weight: bold\">{</span>\n",
       "    <span style=\"color: #008000; text-decoration-color: #008000\">'mean'</span>: <span style=\"font-weight: bold\">{</span>\n",
       "        <span style=\"color: #008000; text-decoration-color: #008000\">'B01'</span>: <span style=\"color: #008080; text-decoration-color: #008080; font-weight: bold\">340.76769064</span>,\n",
       "        <span style=\"color: #008000; text-decoration-color: #008000\">'B02'</span>: <span style=\"color: #008080; text-decoration-color: #008080; font-weight: bold\">429.9430203</span>,\n",
       "        <span style=\"color: #008000; text-decoration-color: #008000\">'B03'</span>: <span style=\"color: #008080; text-decoration-color: #008080; font-weight: bold\">614.21682446</span>,\n",
       "        <span style=\"color: #008000; text-decoration-color: #008000\">'B04'</span>: <span style=\"color: #008080; text-decoration-color: #008080; font-weight: bold\">590.23569706</span>,\n",
       "        <span style=\"color: #008000; text-decoration-color: #008000\">'B05'</span>: <span style=\"color: #008080; text-decoration-color: #008080; font-weight: bold\">950.68368468</span>,\n",
       "        <span style=\"color: #008000; text-decoration-color: #008000\">'B06'</span>: <span style=\"color: #008080; text-decoration-color: #008080; font-weight: bold\">1792.46290469</span>,\n",
       "        <span style=\"color: #008000; text-decoration-color: #008000\">'B07'</span>: <span style=\"color: #008080; text-decoration-color: #008080; font-weight: bold\">2075.46795189</span>,\n",
       "        <span style=\"color: #008000; text-decoration-color: #008000\">'B08'</span>: <span style=\"color: #008080; text-decoration-color: #008080; font-weight: bold\">2218.94553375</span>,\n",
       "        <span style=\"color: #008000; text-decoration-color: #008000\">'B8A'</span>: <span style=\"color: #008080; text-decoration-color: #008080; font-weight: bold\">2266.46036911</span>,\n",
       "        <span style=\"color: #008000; text-decoration-color: #008000\">'B09'</span>: <span style=\"color: #008080; text-decoration-color: #008080; font-weight: bold\">2246.0605464</span>,\n",
       "        <span style=\"color: #008000; text-decoration-color: #008000\">'B11'</span>: <span style=\"color: #008080; text-decoration-color: #008080; font-weight: bold\">1594.42694882</span>,\n",
       "        <span style=\"color: #008000; text-decoration-color: #008000\">'B12'</span>: <span style=\"color: #008080; text-decoration-color: #008080; font-weight: bold\">1009.32729131</span>\n",
       "    <span style=\"font-weight: bold\">}</span>,\n",
       "    <span style=\"color: #008000; text-decoration-color: #008000\">'std'</span>: <span style=\"font-weight: bold\">{</span>\n",
       "        <span style=\"color: #008000; text-decoration-color: #008000\">'B01'</span>: <span style=\"color: #008080; text-decoration-color: #008080; font-weight: bold\">554.81258967</span>,\n",
       "        <span style=\"color: #008000; text-decoration-color: #008000\">'B02'</span>: <span style=\"color: #008080; text-decoration-color: #008080; font-weight: bold\">572.41639287</span>,\n",
       "        <span style=\"color: #008000; text-decoration-color: #008000\">'B03'</span>: <span style=\"color: #008080; text-decoration-color: #008080; font-weight: bold\">582.87945694</span>,\n",
       "        <span style=\"color: #008000; text-decoration-color: #008000\">'B04'</span>: <span style=\"color: #008080; text-decoration-color: #008080; font-weight: bold\">675.88746967</span>,\n",
       "        <span style=\"color: #008000; text-decoration-color: #008000\">'B05'</span>: <span style=\"color: #008080; text-decoration-color: #008080; font-weight: bold\">729.89827633</span>,\n",
       "        <span style=\"color: #008000; text-decoration-color: #008000\">'B06'</span>: <span style=\"color: #008080; text-decoration-color: #008080; font-weight: bold\">1096.01480586</span>,\n",
       "        <span style=\"color: #008000; text-decoration-color: #008000\">'B07'</span>: <span style=\"color: #008080; text-decoration-color: #008080; font-weight: bold\">1273.45393088</span>,\n",
       "        <span style=\"color: #008000; text-decoration-color: #008000\">'B08'</span>: <span style=\"color: #008080; text-decoration-color: #008080; font-weight: bold\">1365.45589904</span>,\n",
       "        <span style=\"color: #008000; text-decoration-color: #008000\">'B8A'</span>: <span style=\"color: #008080; text-decoration-color: #008080; font-weight: bold\">1356.13789355</span>,\n",
       "        <span style=\"color: #008000; text-decoration-color: #008000\">'B09'</span>: <span style=\"color: #008080; text-decoration-color: #008080; font-weight: bold\">1302.3292881</span>,\n",
       "        <span style=\"color: #008000; text-decoration-color: #008000\">'B11'</span>: <span style=\"color: #008080; text-decoration-color: #008080; font-weight: bold\">1079.19066363</span>,\n",
       "        <span style=\"color: #008000; text-decoration-color: #008000\">'B12'</span>: <span style=\"color: #008080; text-decoration-color: #008080; font-weight: bold\">818.86747235</span>\n",
       "    <span style=\"font-weight: bold\">}</span>\n",
       "<span style=\"font-weight: bold\">}</span>\n",
       "</pre>\n"
      ],
      "text/plain": [
       "BAND_STATS:\n",
       "\u001b[1m{\u001b[0m\n",
       "    \u001b[32m'mean'\u001b[0m: \u001b[1m{\u001b[0m\n",
       "        \u001b[32m'B01'\u001b[0m: \u001b[1;36m340.76769064\u001b[0m,\n",
       "        \u001b[32m'B02'\u001b[0m: \u001b[1;36m429.9430203\u001b[0m,\n",
       "        \u001b[32m'B03'\u001b[0m: \u001b[1;36m614.21682446\u001b[0m,\n",
       "        \u001b[32m'B04'\u001b[0m: \u001b[1;36m590.23569706\u001b[0m,\n",
       "        \u001b[32m'B05'\u001b[0m: \u001b[1;36m950.68368468\u001b[0m,\n",
       "        \u001b[32m'B06'\u001b[0m: \u001b[1;36m1792.46290469\u001b[0m,\n",
       "        \u001b[32m'B07'\u001b[0m: \u001b[1;36m2075.46795189\u001b[0m,\n",
       "        \u001b[32m'B08'\u001b[0m: \u001b[1;36m2218.94553375\u001b[0m,\n",
       "        \u001b[32m'B8A'\u001b[0m: \u001b[1;36m2266.46036911\u001b[0m,\n",
       "        \u001b[32m'B09'\u001b[0m: \u001b[1;36m2246.0605464\u001b[0m,\n",
       "        \u001b[32m'B11'\u001b[0m: \u001b[1;36m1594.42694882\u001b[0m,\n",
       "        \u001b[32m'B12'\u001b[0m: \u001b[1;36m1009.32729131\u001b[0m\n",
       "    \u001b[1m}\u001b[0m,\n",
       "    \u001b[32m'std'\u001b[0m: \u001b[1m{\u001b[0m\n",
       "        \u001b[32m'B01'\u001b[0m: \u001b[1;36m554.81258967\u001b[0m,\n",
       "        \u001b[32m'B02'\u001b[0m: \u001b[1;36m572.41639287\u001b[0m,\n",
       "        \u001b[32m'B03'\u001b[0m: \u001b[1;36m582.87945694\u001b[0m,\n",
       "        \u001b[32m'B04'\u001b[0m: \u001b[1;36m675.88746967\u001b[0m,\n",
       "        \u001b[32m'B05'\u001b[0m: \u001b[1;36m729.89827633\u001b[0m,\n",
       "        \u001b[32m'B06'\u001b[0m: \u001b[1;36m1096.01480586\u001b[0m,\n",
       "        \u001b[32m'B07'\u001b[0m: \u001b[1;36m1273.45393088\u001b[0m,\n",
       "        \u001b[32m'B08'\u001b[0m: \u001b[1;36m1365.45589904\u001b[0m,\n",
       "        \u001b[32m'B8A'\u001b[0m: \u001b[1;36m1356.13789355\u001b[0m,\n",
       "        \u001b[32m'B09'\u001b[0m: \u001b[1;36m1302.3292881\u001b[0m,\n",
       "        \u001b[32m'B11'\u001b[0m: \u001b[1;36m1079.19066363\u001b[0m,\n",
       "        \u001b[32m'B12'\u001b[0m: \u001b[1;36m818.86747235\u001b[0m\n",
       "    \u001b[1m}\u001b[0m\n",
       "\u001b[1m}\u001b[0m\n"
      ]
     },
     "metadata": {},
     "output_type": "display_data"
    },
    {
     "data": {
      "text/html": [
       "<pre style=\"white-space:pre;overflow-x:auto;line-height:normal;font-family:Menlo,'DejaVu Sans Mono',consolas,'Courier New',monospace\">BAND_STATS_FLOAT32:\n",
       "<span style=\"font-weight: bold\">{</span>\n",
       "    <span style=\"color: #008000; text-decoration-color: #008000\">'mean'</span>: <span style=\"font-weight: bold\">{</span>\n",
       "        <span style=\"color: #008000; text-decoration-color: #008000\">'B01'</span>: <span style=\"color: #008080; text-decoration-color: #008080; font-weight: bold\">0.005199781653162433</span>,\n",
       "        <span style=\"color: #008000; text-decoration-color: #008000\">'B02'</span>: <span style=\"color: #008080; text-decoration-color: #008080; font-weight: bold\">0.006560509961089494</span>,\n",
       "        <span style=\"color: #008000; text-decoration-color: #008000\">'B03'</span>: <span style=\"color: #008080; text-decoration-color: #008080; font-weight: bold\">0.009372347973754483</span>,\n",
       "        <span style=\"color: #008000; text-decoration-color: #008000\">'B04'</span>: <span style=\"color: #008080; text-decoration-color: #008080; font-weight: bold\">0.009006419425650416</span>,\n",
       "        <span style=\"color: #008000; text-decoration-color: #008000\">'B05'</span>: <span style=\"color: #008080; text-decoration-color: #008080; font-weight: bold\">0.014506503161364157</span>,\n",
       "        <span style=\"color: #008000; text-decoration-color: #008000\">'B06'</span>: <span style=\"color: #008080; text-decoration-color: #008080; font-weight: bold\">0.02735123071168078</span>,\n",
       "        <span style=\"color: #008000; text-decoration-color: #008000\">'B07'</span>: <span style=\"color: #008080; text-decoration-color: #008080; font-weight: bold\">0.03166961092378119</span>,\n",
       "        <span style=\"color: #008000; text-decoration-color: #008000\">'B08'</span>: <span style=\"color: #008080; text-decoration-color: #008080; font-weight: bold\">0.033858938487067974</span>,\n",
       "        <span style=\"color: #008000; text-decoration-color: #008000\">'B8A'</span>: <span style=\"color: #008080; text-decoration-color: #008080; font-weight: bold\">0.03458396840024414</span>,\n",
       "        <span style=\"color: #008000; text-decoration-color: #008000\">'B09'</span>: <span style=\"color: #008080; text-decoration-color: #008080; font-weight: bold\">0.03427268705882353</span>,\n",
       "        <span style=\"color: #008000; text-decoration-color: #008000\">'B11'</span>: <span style=\"color: #008080; text-decoration-color: #008080; font-weight: bold\">0.024329395724727244</span>,\n",
       "        <span style=\"color: #008000; text-decoration-color: #008000\">'B12'</span>: <span style=\"color: #008080; text-decoration-color: #008080; font-weight: bold\">0.015401347239032578</span>\n",
       "    <span style=\"font-weight: bold\">}</span>,\n",
       "    <span style=\"color: #008000; text-decoration-color: #008000\">'std'</span>: <span style=\"font-weight: bold\">{</span>\n",
       "        <span style=\"color: #008000; text-decoration-color: #008000\">'B01'</span>: <span style=\"color: #008080; text-decoration-color: #008080; font-weight: bold\">0.008465897454337377</span>,\n",
       "        <span style=\"color: #008000; text-decoration-color: #008000\">'B02'</span>: <span style=\"color: #008080; text-decoration-color: #008080; font-weight: bold\">0.008734514272831312</span>,\n",
       "        <span style=\"color: #008000; text-decoration-color: #008000\">'B03'</span>: <span style=\"color: #008080; text-decoration-color: #008080; font-weight: bold\">0.008894170396581979</span>,\n",
       "        <span style=\"color: #008000; text-decoration-color: #008000\">'B04'</span>: <span style=\"color: #008080; text-decoration-color: #008080; font-weight: bold\">0.010313381699397267</span>,\n",
       "        <span style=\"color: #008000; text-decoration-color: #008000\">'B05'</span>: <span style=\"color: #008080; text-decoration-color: #008080; font-weight: bold\">0.011137533780880447</span>,\n",
       "        <span style=\"color: #008000; text-decoration-color: #008000\">'B06'</span>: <span style=\"color: #008080; text-decoration-color: #008080; font-weight: bold\">0.01672411392172122</span>,\n",
       "        <span style=\"color: #008000; text-decoration-color: #008000\">'B07'</span>: <span style=\"color: #008080; text-decoration-color: #008080; font-weight: bold\">0.01943166141573205</span>,\n",
       "        <span style=\"color: #008000; text-decoration-color: #008000\">'B08'</span>: <span style=\"color: #008080; text-decoration-color: #008080; font-weight: bold\">0.02083552146242466</span>,\n",
       "        <span style=\"color: #008000; text-decoration-color: #008000\">'B8A'</span>: <span style=\"color: #008080; text-decoration-color: #008080; font-weight: bold\">0.02069333781261921</span>,\n",
       "        <span style=\"color: #008000; text-decoration-color: #008000\">'B09'</span>: <span style=\"color: #008080; text-decoration-color: #008080; font-weight: bold\">0.019872271123826963</span>,\n",
       "        <span style=\"color: #008000; text-decoration-color: #008000\">'B11'</span>: <span style=\"color: #008080; text-decoration-color: #008080; font-weight: bold\">0.016467393967040514</span>,\n",
       "        <span style=\"color: #008000; text-decoration-color: #008000\">'B12'</span>: <span style=\"color: #008080; text-decoration-color: #008080; font-weight: bold\">0.012495116691081101</span>\n",
       "    <span style=\"font-weight: bold\">}</span>\n",
       "<span style=\"font-weight: bold\">}</span>\n",
       "</pre>\n"
      ],
      "text/plain": [
       "BAND_STATS_FLOAT32:\n",
       "\u001b[1m{\u001b[0m\n",
       "    \u001b[32m'mean'\u001b[0m: \u001b[1m{\u001b[0m\n",
       "        \u001b[32m'B01'\u001b[0m: \u001b[1;36m0.005199781653162433\u001b[0m,\n",
       "        \u001b[32m'B02'\u001b[0m: \u001b[1;36m0.006560509961089494\u001b[0m,\n",
       "        \u001b[32m'B03'\u001b[0m: \u001b[1;36m0.009372347973754483\u001b[0m,\n",
       "        \u001b[32m'B04'\u001b[0m: \u001b[1;36m0.009006419425650416\u001b[0m,\n",
       "        \u001b[32m'B05'\u001b[0m: \u001b[1;36m0.014506503161364157\u001b[0m,\n",
       "        \u001b[32m'B06'\u001b[0m: \u001b[1;36m0.02735123071168078\u001b[0m,\n",
       "        \u001b[32m'B07'\u001b[0m: \u001b[1;36m0.03166961092378119\u001b[0m,\n",
       "        \u001b[32m'B08'\u001b[0m: \u001b[1;36m0.033858938487067974\u001b[0m,\n",
       "        \u001b[32m'B8A'\u001b[0m: \u001b[1;36m0.03458396840024414\u001b[0m,\n",
       "        \u001b[32m'B09'\u001b[0m: \u001b[1;36m0.03427268705882353\u001b[0m,\n",
       "        \u001b[32m'B11'\u001b[0m: \u001b[1;36m0.024329395724727244\u001b[0m,\n",
       "        \u001b[32m'B12'\u001b[0m: \u001b[1;36m0.015401347239032578\u001b[0m\n",
       "    \u001b[1m}\u001b[0m,\n",
       "    \u001b[32m'std'\u001b[0m: \u001b[1m{\u001b[0m\n",
       "        \u001b[32m'B01'\u001b[0m: \u001b[1;36m0.008465897454337377\u001b[0m,\n",
       "        \u001b[32m'B02'\u001b[0m: \u001b[1;36m0.008734514272831312\u001b[0m,\n",
       "        \u001b[32m'B03'\u001b[0m: \u001b[1;36m0.008894170396581979\u001b[0m,\n",
       "        \u001b[32m'B04'\u001b[0m: \u001b[1;36m0.010313381699397267\u001b[0m,\n",
       "        \u001b[32m'B05'\u001b[0m: \u001b[1;36m0.011137533780880447\u001b[0m,\n",
       "        \u001b[32m'B06'\u001b[0m: \u001b[1;36m0.01672411392172122\u001b[0m,\n",
       "        \u001b[32m'B07'\u001b[0m: \u001b[1;36m0.01943166141573205\u001b[0m,\n",
       "        \u001b[32m'B08'\u001b[0m: \u001b[1;36m0.02083552146242466\u001b[0m,\n",
       "        \u001b[32m'B8A'\u001b[0m: \u001b[1;36m0.02069333781261921\u001b[0m,\n",
       "        \u001b[32m'B09'\u001b[0m: \u001b[1;36m0.019872271123826963\u001b[0m,\n",
       "        \u001b[32m'B11'\u001b[0m: \u001b[1;36m0.016467393967040514\u001b[0m,\n",
       "        \u001b[32m'B12'\u001b[0m: \u001b[1;36m0.012495116691081101\u001b[0m\n",
       "    \u001b[1m}\u001b[0m\n",
       "\u001b[1m}\u001b[0m\n"
      ]
     },
     "metadata": {},
     "output_type": "display_data"
    },
    {
     "data": {
      "text/html": [
       "<pre style=\"white-space:pre;overflow-x:auto;line-height:normal;font-family:Menlo,'DejaVu Sans Mono',consolas,'Courier New',monospace\">BEN_CHANNELS:\n",
       "<span style=\"font-weight: bold\">(</span><span style=\"color: #008000; text-decoration-color: #008000\">'B01'</span>, <span style=\"color: #008000; text-decoration-color: #008000\">'B02'</span>, <span style=\"color: #008000; text-decoration-color: #008000\">'B03'</span>, <span style=\"color: #008000; text-decoration-color: #008000\">'B04'</span>, <span style=\"color: #008000; text-decoration-color: #008000\">'B05'</span>, <span style=\"color: #008000; text-decoration-color: #008000\">'B06'</span>, <span style=\"color: #008000; text-decoration-color: #008000\">'B07'</span>, <span style=\"color: #008000; text-decoration-color: #008000\">'B08'</span>, <span style=\"color: #008000; text-decoration-color: #008000\">'B8A'</span>, <span style=\"color: #008000; text-decoration-color: #008000\">'B09'</span>, <span style=\"color: #008000; text-decoration-color: #008000\">'B11'</span>, <span style=\"color: #008000; text-decoration-color: #008000\">'B12'</span><span style=\"font-weight: bold\">)</span>\n",
       "</pre>\n"
      ],
      "text/plain": [
       "BEN_CHANNELS:\n",
       "\u001b[1m(\u001b[0m\u001b[32m'B01'\u001b[0m, \u001b[32m'B02'\u001b[0m, \u001b[32m'B03'\u001b[0m, \u001b[32m'B04'\u001b[0m, \u001b[32m'B05'\u001b[0m, \u001b[32m'B06'\u001b[0m, \u001b[32m'B07'\u001b[0m, \u001b[32m'B08'\u001b[0m, \u001b[32m'B8A'\u001b[0m, \u001b[32m'B09'\u001b[0m, \u001b[32m'B11'\u001b[0m, \u001b[32m'B12'\u001b[0m\u001b[1m)\u001b[0m\n"
      ]
     },
     "metadata": {},
     "output_type": "display_data"
    },
    {
     "data": {
      "text/html": [
       "<pre style=\"white-space:pre;overflow-x:auto;line-height:normal;font-family:Menlo,'DejaVu Sans Mono',consolas,'Courier New',monospace\">BEN_RGB_CHANNELS:\n",
       "<span style=\"font-weight: bold\">(</span><span style=\"color: #008000; text-decoration-color: #008000\">'B04'</span>, <span style=\"color: #008000; text-decoration-color: #008000\">'B03'</span>, <span style=\"color: #008000; text-decoration-color: #008000\">'B02'</span><span style=\"font-weight: bold\">)</span>\n",
       "</pre>\n"
      ],
      "text/plain": [
       "BEN_RGB_CHANNELS:\n",
       "\u001b[1m(\u001b[0m\u001b[32m'B04'\u001b[0m, \u001b[32m'B03'\u001b[0m, \u001b[32m'B02'\u001b[0m\u001b[1m)\u001b[0m\n"
      ]
     },
     "metadata": {},
     "output_type": "display_data"
    },
    {
     "data": {
      "text/html": [
       "<pre style=\"white-space:pre;overflow-x:auto;line-height:normal;font-family:Menlo,'DejaVu Sans Mono',consolas,'Courier New',monospace\">COUNTRIES:\n",
       "<span style=\"font-weight: bold\">(</span>\n",
       "    <span style=\"color: #008000; text-decoration-color: #008000\">'Austria'</span>,\n",
       "    <span style=\"color: #008000; text-decoration-color: #008000\">'Belgium'</span>,\n",
       "    <span style=\"color: #008000; text-decoration-color: #008000\">'Finland'</span>,\n",
       "    <span style=\"color: #008000; text-decoration-color: #008000\">'Ireland'</span>,\n",
       "    <span style=\"color: #008000; text-decoration-color: #008000\">'Kosovo'</span>,\n",
       "    <span style=\"color: #008000; text-decoration-color: #008000\">'Lithuania'</span>,\n",
       "    <span style=\"color: #008000; text-decoration-color: #008000\">'Luxembourg'</span>,\n",
       "    <span style=\"color: #008000; text-decoration-color: #008000\">'Portugal'</span>,\n",
       "    <span style=\"color: #008000; text-decoration-color: #008000\">'Serbia'</span>,\n",
       "    <span style=\"color: #008000; text-decoration-color: #008000\">'Switzerland'</span>\n",
       "<span style=\"font-weight: bold\">)</span>\n",
       "</pre>\n"
      ],
      "text/plain": [
       "COUNTRIES:\n",
       "\u001b[1m(\u001b[0m\n",
       "    \u001b[32m'Austria'\u001b[0m,\n",
       "    \u001b[32m'Belgium'\u001b[0m,\n",
       "    \u001b[32m'Finland'\u001b[0m,\n",
       "    \u001b[32m'Ireland'\u001b[0m,\n",
       "    \u001b[32m'Kosovo'\u001b[0m,\n",
       "    \u001b[32m'Lithuania'\u001b[0m,\n",
       "    \u001b[32m'Luxembourg'\u001b[0m,\n",
       "    \u001b[32m'Portugal'\u001b[0m,\n",
       "    \u001b[32m'Serbia'\u001b[0m,\n",
       "    \u001b[32m'Switzerland'\u001b[0m\n",
       "\u001b[1m)\u001b[0m\n"
      ]
     },
     "metadata": {},
     "output_type": "display_data"
    },
    {
     "data": {
      "text/html": [
       "<pre style=\"white-space:pre;overflow-x:auto;line-height:normal;font-family:Menlo,'DejaVu Sans Mono',consolas,'Courier New',monospace\">COUNTRIES_ISO_A2:\n",
       "<span style=\"font-weight: bold\">(</span><span style=\"color: #008000; text-decoration-color: #008000\">'AT'</span>, <span style=\"color: #008000; text-decoration-color: #008000\">'BE'</span>, <span style=\"color: #008000; text-decoration-color: #008000\">'FI'</span>, <span style=\"color: #008000; text-decoration-color: #008000\">'IE'</span>, <span style=\"color: #008000; text-decoration-color: #008000\">'XK'</span>, <span style=\"color: #008000; text-decoration-color: #008000\">'LT'</span>, <span style=\"color: #008000; text-decoration-color: #008000\">'LU'</span>, <span style=\"color: #008000; text-decoration-color: #008000\">'PT'</span>, <span style=\"color: #008000; text-decoration-color: #008000\">'RS'</span>, <span style=\"color: #008000; text-decoration-color: #008000\">'CH'</span><span style=\"font-weight: bold\">)</span>\n",
       "</pre>\n"
      ],
      "text/plain": [
       "COUNTRIES_ISO_A2:\n",
       "\u001b[1m(\u001b[0m\u001b[32m'AT'\u001b[0m, \u001b[32m'BE'\u001b[0m, \u001b[32m'FI'\u001b[0m, \u001b[32m'IE'\u001b[0m, \u001b[32m'XK'\u001b[0m, \u001b[32m'LT'\u001b[0m, \u001b[32m'LU'\u001b[0m, \u001b[32m'PT'\u001b[0m, \u001b[32m'RS'\u001b[0m, \u001b[32m'CH'\u001b[0m\u001b[1m)\u001b[0m\n"
      ]
     },
     "metadata": {},
     "output_type": "display_data"
    },
    {
     "data": {
      "text/html": [
       "<pre style=\"white-space:pre;overflow-x:auto;line-height:normal;font-family:Menlo,'DejaVu Sans Mono',consolas,'Courier New',monospace\">BEN_43_CLASSES_SIZE: <span style=\"color: #008080; text-decoration-color: #008080; font-weight: bold\">590326</span>\n",
       "</pre>\n"
      ],
      "text/plain": [
       "BEN_43_CLASSES_SIZE: \u001b[1;36m590326\u001b[0m\n"
      ]
     },
     "metadata": {},
     "output_type": "display_data"
    },
    {
     "data": {
      "text/html": [
       "<pre style=\"white-space:pre;overflow-x:auto;line-height:normal;font-family:Menlo,'DejaVu Sans Mono',consolas,'Courier New',monospace\">BEN_19_CLASSES_SIZE: <span style=\"color: #008080; text-decoration-color: #008080; font-weight: bold\">1</span>\n",
       "</pre>\n"
      ],
      "text/plain": [
       "BEN_19_CLASSES_SIZE: \u001b[1;36m1\u001b[0m\n"
      ]
     },
     "metadata": {},
     "output_type": "display_data"
    },
    {
     "data": {
      "text/html": [
       "<pre style=\"white-space:pre;overflow-x:auto;line-height:normal;font-family:Menlo,'DejaVu Sans Mono',consolas,'Courier New',monospace\">BEN_SNOWY_PATCHES_COUNT: <span style=\"color: #008080; text-decoration-color: #008080; font-weight: bold\">61707</span>\n",
       "</pre>\n"
      ],
      "text/plain": [
       "BEN_SNOWY_PATCHES_COUNT: \u001b[1;36m61707\u001b[0m\n"
      ]
     },
     "metadata": {},
     "output_type": "display_data"
    },
    {
     "data": {
      "text/html": [
       "<pre style=\"white-space:pre;overflow-x:auto;line-height:normal;font-family:Menlo,'DejaVu Sans Mono',consolas,'Courier New',monospace\">BEN_CLOUDY_OR_SHADOWY_PATCHES_COUNT: <span style=\"color: #008080; text-decoration-color: #008080; font-weight: bold\">9280</span>\n",
       "</pre>\n"
      ],
      "text/plain": [
       "BEN_CLOUDY_OR_SHADOWY_PATCHES_COUNT: \u001b[1;36m9280\u001b[0m\n"
      ]
     },
     "metadata": {},
     "output_type": "display_data"
    },
    {
     "data": {
      "text/html": [
       "<pre style=\"white-space:pre;overflow-x:auto;line-height:normal;font-family:Menlo,'DejaVu Sans Mono',consolas,'Courier New',monospace\">BEN_NO_19_CLASS_TARGET_COUNT: <span style=\"color: #008080; text-decoration-color: #008080; font-weight: bold\">57</span>\n",
       "</pre>\n"
      ],
      "text/plain": [
       "BEN_NO_19_CLASS_TARGET_COUNT: \u001b[1;36m57\u001b[0m\n"
      ]
     },
     "metadata": {},
     "output_type": "display_data"
    },
    {
     "data": {
      "text/html": [
       "<pre style=\"white-space:pre;overflow-x:auto;line-height:normal;font-family:Menlo,'DejaVu Sans Mono',consolas,'Courier New',monospace\">BEN_COMPLETE_SIZE: <span style=\"color: #008080; text-decoration-color: #008080; font-weight: bold\">590326</span>\n",
       "</pre>\n"
      ],
      "text/plain": [
       "BEN_COMPLETE_SIZE: \u001b[1;36m590326\u001b[0m\n"
      ]
     },
     "metadata": {},
     "output_type": "display_data"
    },
    {
     "data": {
      "text/html": [
       "<pre style=\"white-space:pre;overflow-x:auto;line-height:normal;font-family:Menlo,'DejaVu Sans Mono',consolas,'Courier New',monospace\">BEN_RECOMMENDED_SIZE: <span style=\"color: #008080; text-decoration-color: #008080; font-weight: bold\">519284</span>\n",
       "</pre>\n"
      ],
      "text/plain": [
       "BEN_RECOMMENDED_SIZE: \u001b[1;36m519284\u001b[0m\n"
      ]
     },
     "metadata": {},
     "output_type": "display_data"
    }
   ],
   "source": [
    "# export\n",
    "\n",
    "\n",
    "def print_all_constants():\n",
    "    \"\"\"\n",
    "    A function that shows all of the pre-defined constants of the library.\n",
    "    \"\"\"\n",
    "    for k, v in globals().items():\n",
    "        if not k.startswith(\"_\") and k.upper() == k:\n",
    "            rich.print(f\"{k}:\", v)\n",
    "\n",
    "\n",
    "if __name__ == \"__main__\":\n",
    "    print_all_constants()\n"
   ]
  },
  {
   "cell_type": "code",
   "execution_count": null,
   "metadata": {},
   "outputs": [
    {
     "name": "stdout",
     "output_type": "stream",
     "text": [
      "Converted 01a_constants.ipynb.\n",
      "Converted 01b_base.ipynb.\n",
      "Converted 01c_gdf_builder.ipynb.\n",
      "Converted 01d_subset_builder.ipynb.\n",
      "Converted index.ipynb.\n",
      "converting: /home/kai/git/bigearthnet_common/nbs/01a_constants.ipynb\n",
      "converting /home/kai/git/bigearthnet_common/nbs/index.ipynb to README.md\n"
     ]
    }
   ],
   "source": [
    "# hide\n",
    "from nbdev.cli import nbdev_build_docs\n",
    "from nbdev.export import notebook2script\n",
    "\n",
    "notebook2script()\n",
    "nbdev_build_docs()\n"
   ]
  },
  {
   "cell_type": "code",
   "execution_count": null,
   "metadata": {},
   "outputs": [],
   "source": []
  }
 ],
 "metadata": {
  "kernelspec": {
   "display_name": "Python 3.8.12 64-bit (conda)",
   "language": "python",
   "name": "python3"
  }
 },
 "nbformat": 4,
 "nbformat_minor": 2
}
