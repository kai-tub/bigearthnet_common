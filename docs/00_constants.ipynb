{
 "cells": [
  {
   "cell_type": "markdown",
   "metadata": {},
   "source": [
    "# BigEarthNet Constants\n",
    "\n",
    "Most of the constants are directly defined as variables and can be accessed with\n",
    "\n",
    "```python\n",
    "bigearthnet_common.constants.VARIABLE\n",
    "```\n",
    "\n",
    "If you are simply looking for a way to quickly check a value from the terminal, see:\n",
    "\n",
    ":::{record_cli_cmd} ben_constant_prompt --help\n",
    ":rows: 60\n",
    ":cols: 90\n",
    ":autoplay: \"true\"\n",
    ":::\n",
    "\n",
    "\n",
    ":::{warning}\n",
    "\n",
    "The label code contains one special oddity.\n",
    "According to the original 19-class nomenclature, the class is named `Transitional woodland, shrub` and **not** `Transitional woodland/shrub`, as it was called in the original 43-class nomenclature.\n",
    "\n",
    ":::\n"
   ]
  },
  {
   "cell_type": "markdown",
   "metadata": {},
   "source": [
    "The following output will give a quick and nice visualization of the different constants, printed as tables if applicable."
   ]
  },
  {
   "cell_type": "code",
   "execution_count": null,
   "metadata": {},
   "outputs": [],
   "source": [
    "from bigearthnet_common.constants import print_all_constants\n",
    "\n",
    "print_all_constants()"
   ]
  },
  {
   "cell_type": "code",
   "execution_count": null,
   "metadata": {},
   "outputs": [],
   "source": []
  }
 ],
 "metadata": {
  "kernelspec": {
   "display_name": "Python 3.10.4 ('.venv': venv)",
   "language": "python",
   "name": "python3"
  },
  "language_info": {
   "codemirror_mode": {
    "name": "ipython",
    "version": 3
   },
   "file_extension": ".py",
   "mimetype": "text/x-python",
   "name": "python",
   "nbconvert_exporter": "python",
   "pygments_lexer": "ipython3",
   "version": "3.10.4"
  },
  "vscode": {
   "interpreter": {
    "hash": "e2ca2fbdcd9d43186d0c78fbda3633e5b901fc57ad4b6c3a2a735f48d744bb6c"
   }
  }
 },
 "nbformat": 4,
 "nbformat_minor": 2
}
